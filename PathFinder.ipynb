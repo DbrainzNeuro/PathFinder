{
 "cells": [
  {
   "cell_type": "code",
   "execution_count": 1,
   "metadata": {
    "hideCode": true,
    "hideOutput": true,
    "hidePrompt": true,
    "init_cell": true
   },
   "outputs": [],
   "source": [
    "import networkx as nx\n",
    "import matplotlib.pyplot as plt\n",
    "import pandas as pd\n",
    "import ipywidgets as widgets\n",
    "from ipywidgets import interact_manual, interactive, GridspecLayout, AppLayout, Button, Layout, Widget\n",
    "from IPython.display import clear_output\n",
    "import numpy as np"
   ]
  },
  {
   "cell_type": "code",
   "execution_count": 2,
   "metadata": {
    "hideCode": true,
    "hideOutput": true,
    "hidePrompt": true
   },
   "outputs": [],
   "source": [
    "nodes = pd.read_excel(r\"C:\\Users\\dbaka\\OneDrive\\STRING protein\\CClist.xlsx\")"
   ]
  },
  {
   "cell_type": "code",
   "execution_count": 3,
   "metadata": {
    "hideCode": true,
    "hideOutput": true,
    "hidePrompt": true,
    "init_cell": true
   },
   "outputs": [],
   "source": [
    "\n",
    "nodes_a = set(nodes['Source'])\n",
    "nodes_b = set(nodes['Target'])\n",
    "\n",
    "#preliminary graph object\n",
    "g = nx.from_pandas_edgelist(nodes, source = 'Source', target = 'Target', create_using =nx.DiGraph())"
   ]
  },
  {
   "cell_type": "code",
   "execution_count": 4,
   "metadata": {
    "hideCode": true,
    "hideOutput": true,
    "hidePrompt": true,
    "init_cell": true
   },
   "outputs": [],
   "source": [
    "## Functions\n",
    "def on_go_button_clicked(go_button):\n",
    "    \n",
    "    inhiblist = list(inhib_dropdown.value)\n",
    "#get start and end and inhib\n",
    "    start = start_dropdown.value\n",
    "    end = end_dropdown.value\n",
    "    inhib = inhib_dropdown.value\n",
    "\n",
    "# get the path \n",
    "    try:\n",
    "        paths = list(nx.shortest_simple_paths(g, start, end))\n",
    "        all_paths = []\n",
    "        for path in paths:\n",
    "            all_paths.extend(path)\n",
    "    # Reset the graph with only active nodes and edges in the ID'd paths\n",
    "        # The nodes\n",
    "        G2 = nx.DiGraph()\n",
    "        G2.add_nodes_from(all_paths)\n",
    "\n",
    "        #the edges\n",
    "        all_diads  = []\n",
    "        for path in paths:\n",
    "            start_num0 = 0\n",
    "            start_num1 = 2\n",
    "\n",
    "            path_len = len(path)\n",
    "            connects = path_len-1\n",
    "\n",
    "            for i in range(0,connects):\n",
    "                path_diad = path[start_num0:start_num1]\n",
    "                start_num0 += 1\n",
    "                start_num1 += 1\n",
    "                all_diads.append(path_diad)\n",
    "        set_diads = set(tuple(x) for x in all_diads)\n",
    "\n",
    "\n",
    "        # Add the edges to the graph\n",
    "        G2.add_edges_from(set_diads)\n",
    "        edges_list2=list(G2.edges)\n",
    "\n",
    "        for i in range(0,len(edges_list2)):\n",
    "            edges_list2[i]= list(edges_list2[i][0:2])\n",
    "\n",
    "\n",
    "         # Assign colors\n",
    "        edge_color_map = []\n",
    "        for i in edges_list2:\n",
    "            if i[0] in inhiblist:\n",
    "                edge_color_map.append('lightgrey')\n",
    "            else:\n",
    "                edge_color_map.append('black')\n",
    "\n",
    "        color_map = ['lightblue'] * len(G2.nodes)\n",
    "        for i in range(0,len(G2.nodes)):\n",
    "            if list(G2.nodes)[i] == start:\n",
    "                color_map[i]='magenta'\n",
    "            if list(G2.nodes)[i] == end:\n",
    "                color_map[i]=('cyan')\n",
    "            if list(G2.nodes)[i] in inhiblist:\n",
    "                color_map[i]=('lightgrey')\n",
    "\n",
    "        ##Graph the thing:\n",
    "        pos = nx.layout.planar_layout(G2)\n",
    "        #convert_to_directed(G2)\n",
    "        nx.draw(G2,  \n",
    "                pos,\n",
    "                node_color=color_map, \n",
    "                with_labels=True, \n",
    "                arrowstyle=\"->\",\n",
    "                arrowsize=10,\n",
    "                edge_color=edge_color_map,\n",
    "               )\n",
    "\n",
    "        real_count = 0\n",
    "        label_count = 1\n",
    "        \n",
    "        for path in paths:\n",
    "            check = set.intersection(set(path),set(inhiblist))\n",
    "            if len(check) == 0:print(\"Path\", label_count, \":\", path)\n",
    "            #if the member is in the path but not at the end\n",
    "            if len(check) > 0:\n",
    "                for inhib in check:\n",
    "                    print('Path', label_count,  path, 'interrupted by inhibition of', inhib)\n",
    "            real_count += 1\n",
    "            label_count += 1\n",
    "        with graph_out1:\n",
    "            print(\"Paths from \", start, \" to \", end)\n",
    "            plt.show()\n",
    "            \n",
    "\n",
    "    except nx.NetworkXNoPath:\n",
    "        with graph_out2:\n",
    "            print(\"No Paths\")\n",
    "    except nx.NodeNotFound:\n",
    "        with graph_out2:\n",
    "            print(\"One of your selections is not in the database\")\n",
    "            \n"
   ]
  },
  {
   "cell_type": "code",
   "execution_count": 5,
   "metadata": {
    "hideCode": true,
    "hideOutput": true,
    "hidePrompt": true,
    "init_cell": true
   },
   "outputs": [
    {
     "data": {
      "application/vnd.jupyter.widget-view+json": {
       "model_id": "31362aa9b7a941b4b1d24cc7d1a2337c",
       "version_major": 2,
       "version_minor": 0
      },
      "text/plain": [
       "VBox(children=(Label(value='Choose Start, End and Inhibited elements'), Combobox(value='', description='Start:…"
      ]
     },
     "metadata": {},
     "output_type": "display_data"
    }
   ],
   "source": [
    "from IPython.core.display import display, HTML\n",
    "s = HTML('''<script> </script> <form action=\"javascript:IPython.notebook.execute_cells_above()\"><input type=\"submit\" id=\"toggleButton\" value=\"Reset\"></form>''')\n",
    "\n",
    "start_options = list(g.nodes)\n",
    "start_options.sort()\n",
    "\n",
    "start_dropdown = widgets.Combobox(\n",
    "    options=start_options,\n",
    "    description='Start: ',\n",
    "    placeholder='Type here',\n",
    "    layout={'width': '50%'})\n",
    "\n",
    "end_dropdown = widgets.Combobox(\n",
    "    options=start_options,\n",
    "    description='End: ',\n",
    "    placeholder='Type here',\n",
    "    layout={'width': '50%'})\n",
    "\n",
    "\n",
    "\n",
    "inhib_dropdown = widgets.SelectMultiple(\n",
    "    options=start_options,\n",
    "    description='Inhibit: ',\n",
    "    placeholder='Type here',\n",
    "    layout={'width': '50%'})\n",
    "\n",
    "##Create selection widgets\n",
    "graph_out1 = widgets.Output()\n",
    "graph_out2 = widgets.Output()\n",
    "\n",
    "spacer = widgets.Label('')\n",
    "instructions = widgets.Label('Choose Start, End and Inhibited elements')\n",
    "\n",
    "go_button = widgets.Button(description='Produce Output',\n",
    "                           button_style='',\n",
    "                           display='flex',\n",
    "                           flex_flow='column',\n",
    "                           align_items='stretch')\n",
    "go_button.on_click(on_go_button_clicked)\n",
    "\n",
    "\n",
    "go_button.observe(start_dropdown.value)\n",
    "go_button.observe(end_dropdown.value)\n",
    "go_button.observe(inhib_dropdown.value)\n",
    "\n",
    "\n",
    "\n",
    "Choices = widgets.VBox([instructions,start_dropdown,end_dropdown,inhib_dropdown,go_button, graph_out1,graph_out2])\n",
    "Choices\n"
   ]
  },
  {
   "cell_type": "code",
   "execution_count": 6,
   "metadata": {
    "hideCode": true,
    "hideOutput": true,
    "hidePrompt": true,
    "init_cell": true
   },
   "outputs": [
    {
     "data": {
      "text/html": [
       "<script> </script> <form action=\"javascript:IPython.notebook.execute_cells_above()\"><input type=\"submit\" id=\"toggleButton\" value=\"Reset\"></form>"
      ],
      "text/plain": [
       "<IPython.core.display.HTML object>"
      ]
     },
     "execution_count": 6,
     "metadata": {},
     "output_type": "execute_result"
    }
   ],
   "source": [
    "s"
   ]
  }
 ],
 "metadata": {
  "celltoolbar": "Hide code",
  "kernelspec": {
   "display_name": "Python 3",
   "language": "python",
   "name": "python3"
  },
  "language_info": {
   "codemirror_mode": {
    "name": "ipython",
    "version": 3
   },
   "file_extension": ".py",
   "mimetype": "text/x-python",
   "name": "python",
   "nbconvert_exporter": "python",
   "pygments_lexer": "ipython3",
   "version": "3.7.6"
  },
  "toc": {
   "base_numbering": 1,
   "nav_menu": {},
   "number_sections": true,
   "sideBar": true,
   "skip_h1_title": false,
   "title_cell": "Table of Contents",
   "title_sidebar": "Contents",
   "toc_cell": true,
   "toc_position": {},
   "toc_section_display": true,
   "toc_window_display": false
  },
  "varInspector": {
   "cols": {
    "lenName": 16,
    "lenType": 16,
    "lenVar": 40
   },
   "kernels_config": {
    "python": {
     "delete_cmd_postfix": "",
     "delete_cmd_prefix": "del ",
     "library": "var_list.py",
     "varRefreshCmd": "print(var_dic_list())"
    },
    "r": {
     "delete_cmd_postfix": ") ",
     "delete_cmd_prefix": "rm(",
     "library": "var_list.r",
     "varRefreshCmd": "cat(var_dic_list()) "
    }
   },
   "types_to_exclude": [
    "module",
    "function",
    "builtin_function_or_method",
    "instance",
    "_Feature"
   ],
   "window_display": false
  }
 },
 "nbformat": 4,
 "nbformat_minor": 4
}
