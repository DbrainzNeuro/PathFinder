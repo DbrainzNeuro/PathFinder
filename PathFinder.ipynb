{
 "cells": [
  {
   "cell_type": "code",
   "execution_count": null,
   "metadata": {
    "hideCode": true,
    "hideOutput": false,
    "hidePrompt": true,
    "init_cell": true
   },
   "outputs": [],
   "source": [
    "print(\"Welcome to PathFinder: Press the Double Arrow above to begin! \\nEnter a starting point, an end point, and any number of inhibited elements, then find your path.\")"
   ]
  },
  {
   "cell_type": "code",
   "execution_count": null,
   "metadata": {
    "hideCode": true,
    "hideOutput": true,
    "hidePrompt": true,
    "init_cell": true
   },
   "outputs": [],
   "source": [
    "import networkx as nx\n",
    "import matplotlib.pyplot as plt\n",
    "import pandas as pd\n",
    "import ipywidgets as widgets\n",
    "from ipywidgets import interact_manual, interactive, GridspecLayout, AppLayout, Button, Layout, Widget\n",
    "from IPython.display import clear_output\n",
    "import numpy as np"
   ]
  },
  {
   "cell_type": "code",
   "execution_count": null,
   "metadata": {
    "hideCode": true,
    "hideOutput": true,
    "hidePrompt": true,
    "init_cell": true
   },
   "outputs": [],
   "source": [
    "nodes = pd.read_excel(\"CClist.xls\")"
   ]
  },
  {
   "cell_type": "code",
   "execution_count": null,
   "metadata": {
    "hideCode": true,
    "hideOutput": true,
    "hidePrompt": true,
    "init_cell": true
   },
   "outputs": [],
   "source": [
    "\n",
    "nodes_a = set(nodes['Source'])\n",
    "nodes_b = set(nodes['Target'])\n",
    "\n",
    "#preliminary graph object\n",
    "g = nx.from_pandas_edgelist(nodes, source = 'Source', target = 'Target', create_using =nx.DiGraph())"
   ]
  },
  {
   "cell_type": "code",
   "execution_count": null,
   "metadata": {
    "hideCode": true,
    "hideOutput": true,
    "hidePrompt": true,
    "init_cell": true
   },
   "outputs": [],
   "source": [
    "## Functions\n",
    "def on_go_button_clicked(go_button):\n",
    "    \n",
    "    inhiblist = list(inhib_dropdown.value)\n",
    "#get start and end and inhib\n",
    "    start = start_dropdown.value\n",
    "    end = end_dropdown.value\n",
    "    inhib = inhib_dropdown.value\n",
    "\n",
    "# get the path \n",
    "    try:\n",
    "        paths = list(nx.shortest_simple_paths(g, start, end))\n",
    "        all_paths = []\n",
    "        for path in paths:\n",
    "            all_paths.extend(path)\n",
    "    # Reset the graph with only active nodes and edges in the ID'd paths\n",
    "        # The nodes\n",
    "        G2 = nx.DiGraph()\n",
    "        G2.add_nodes_from(all_paths)\n",
    "\n",
    "        #the edges\n",
    "        all_diads  = []\n",
    "        for path in paths:\n",
    "            start_num0 = 0\n",
    "            start_num1 = 2\n",
    "\n",
    "            path_len = len(path)\n",
    "            connects = path_len-1\n",
    "\n",
    "            for i in range(0,connects):\n",
    "                path_diad = path[start_num0:start_num1]\n",
    "                start_num0 += 1\n",
    "                start_num1 += 1\n",
    "                all_diads.append(path_diad)\n",
    "        set_diads = set(tuple(x) for x in all_diads)\n",
    "\n",
    "\n",
    "        # Add the edges to the graph\n",
    "        G2.add_edges_from(set_diads)\n",
    "        edges_list2=list(G2.edges)\n",
    "\n",
    "        for i in range(0,len(edges_list2)):\n",
    "            edges_list2[i]= list(edges_list2[i][0:2])\n",
    "\n",
    "\n",
    "         # Assign colors\n",
    "        edge_color_map = []\n",
    "        for i in edges_list2:\n",
    "            if i[0] in inhiblist:\n",
    "                edge_color_map.append('lightgrey')\n",
    "            else:\n",
    "                edge_color_map.append('black')\n",
    "\n",
    "        color_map = ['lightblue'] * len(G2.nodes)\n",
    "        for i in range(0,len(G2.nodes)):\n",
    "            if list(G2.nodes)[i] == start:\n",
    "                color_map[i]='magenta'\n",
    "            if list(G2.nodes)[i] == end:\n",
    "                color_map[i]=('cyan')\n",
    "            if list(G2.nodes)[i] in inhiblist:\n",
    "                color_map[i]=('lightgrey')\n",
    "\n",
    "        ##Graph the thing:\n",
    "        pos = nx.layout.planar_layout(G2)\n",
    "        #convert_to_directed(G2)\n",
    "        nx.draw(G2,  \n",
    "                pos,\n",
    "                node_color=color_map, \n",
    "                with_labels=True, \n",
    "                arrowstyle=\"->\",\n",
    "                arrowsize=10,\n",
    "                edge_color=edge_color_map,\n",
    "               )\n",
    "\n",
    "        real_count = 0\n",
    "        label_count = 1\n",
    "        \n",
    "        for path in paths:\n",
    "            check = set.intersection(set(path),set(inhiblist))\n",
    "            if len(check) == 0:print(\"Path\", label_count, \":\", path)\n",
    "            #if the member is in the path but not at the end\n",
    "            if len(check) > 0:\n",
    "                for inhib in check:\n",
    "                    print('Path', label_count,  path, 'interrupted by inhibition of', inhib)\n",
    "            real_count += 1\n",
    "            label_count += 1\n",
    "        with graph_out1:\n",
    "            print(\"Paths from \", start, \" to \", end)\n",
    "            plt.show()\n",
    "            \n",
    "\n",
    "    except nx.NetworkXNoPath:\n",
    "        with graph_out2:\n",
    "            print(\"No Paths\")\n",
    "    except nx.NodeNotFound:\n",
    "        with graph_out2:\n",
    "            print(\"One of your selections is not in the database\")\n",
    "            \n"
   ]
  },
  {
   "cell_type": "code",
   "execution_count": null,
   "metadata": {
    "hideCode": true,
    "hideOutput": true,
    "hidePrompt": true,
    "init_cell": true
   },
   "outputs": [],
   "source": [
    "from IPython.core.display import display, HTML\n",
    "s = HTML('''<script> </script> <form action=\"javascript:IPython.notebook.execute_cells_above()\"><input type=\"submit\" id=\"toggleButton\" value=\"Reset\"></form>''')\n",
    "\n",
    "start_options = list(g.nodes)\n",
    "start_options.sort()\n",
    "\n",
    "start_dropdown = widgets.Combobox(\n",
    "    options=start_options,\n",
    "    description='Start: ',\n",
    "    placeholder='Type here',\n",
    "    layout={'width': '50%'})\n",
    "\n",
    "end_dropdown = widgets.Combobox(\n",
    "    options=start_options,\n",
    "    description='End: ',\n",
    "    placeholder='Type here',\n",
    "    layout={'width': '50%'})\n",
    "\n",
    "\n",
    "\n",
    "inhib_dropdown = widgets.SelectMultiple(\n",
    "    options=start_options,\n",
    "    description='Inhibit: ',\n",
    "    placeholder='Type here',\n",
    "    layout={'width': '50%'})\n",
    "\n",
    "##Create selection widgets\n",
    "graph_out1 = widgets.Output()\n",
    "graph_out2 = widgets.Output()\n",
    "\n",
    "spacer = widgets.Label('')\n",
    "instructions = widgets.Label('Choose Start, End and Inhibited elements')\n",
    "\n",
    "go_button = widgets.Button(description='Produce Output',\n",
    "                           button_style='',\n",
    "                           display='flex',\n",
    "                           flex_flow='column',\n",
    "                           align_items='stretch')\n",
    "go_button.on_click(on_go_button_clicked)\n",
    "\n",
    "\n",
    "go_button.observe(start_dropdown.value)\n",
    "go_button.observe(end_dropdown.value)\n",
    "go_button.observe(inhib_dropdown.value)\n",
    "\n",
    "\n",
    "\n",
    "widgets.VBox([instructions,start_dropdown,end_dropdown,inhib_dropdown,go_button, graph_out1,graph_out2])\n"
   ]
  },
  {
   "cell_type": "code",
   "execution_count": null,
   "metadata": {
    "hideCode": true,
    "hideOutput": true,
    "hidePrompt": true,
    "init_cell": true
   },
   "outputs": [],
   "source": [
    "s"
   ]
  }
 ],
 "metadata": {
  "celltoolbar": "Initialization Cell",
  "kernelspec": {
   "display_name": "Python 3",
   "language": "python",
   "name": "python3"
  },
  "language_info": {
   "codemirror_mode": {
    "name": "ipython",
    "version": 3
   },
   "file_extension": ".py",
   "mimetype": "text/x-python",
   "name": "python",
   "nbconvert_exporter": "python",
   "pygments_lexer": "ipython3",
   "version": "3.7.4"
  },
  "toc": {
   "base_numbering": 1,
   "nav_menu": {},
   "number_sections": true,
   "sideBar": true,
   "skip_h1_title": false,
   "title_cell": "Table of Contents",
   "title_sidebar": "Contents",
   "toc_cell": true,
   "toc_position": {},
   "toc_section_display": true,
   "toc_window_display": false
  },
  "varInspector": {
   "cols": {
    "lenName": 16,
    "lenType": 16,
    "lenVar": 40
   },
   "kernels_config": {
    "python": {
     "delete_cmd_postfix": "",
     "delete_cmd_prefix": "del ",
     "library": "var_list.py",
     "varRefreshCmd": "print(var_dic_list())"
    },
    "r": {
     "delete_cmd_postfix": ") ",
     "delete_cmd_prefix": "rm(",
     "library": "var_list.r",
     "varRefreshCmd": "cat(var_dic_list()) "
    }
   },
   "types_to_exclude": [
    "module",
    "function",
    "builtin_function_or_method",
    "instance",
    "_Feature"
   ],
   "window_display": false
  },
  "widgets": {
   "application/vnd.jupyter.widget-state+json": {
    "state": {
     "0100deb8e0c24c2fa38bcbb7ec322ad0": {
      "model_module": "@jupyter-widgets/base",
      "model_module_version": "1.2.0",
      "model_name": "LayoutModel",
      "state": {}
     },
     "015011a1e07a4ac58ca13696b63fd7d0": {
      "model_module": "@jupyter-widgets/controls",
      "model_module_version": "1.5.0",
      "model_name": "ButtonModel",
      "state": {
       "description": "Produce Output",
       "layout": "IPY_MODEL_84bcaf49979e4090b6657a101d2f2f39",
       "style": "IPY_MODEL_18b07b28af194d2899744f55da42ea98"
      }
     },
     "01a6b92820a64449bdfc939f633b7802": {
      "model_module": "@jupyter-widgets/controls",
      "model_module_version": "1.5.0",
      "model_name": "DescriptionStyleModel",
      "state": {
       "description_width": ""
      }
     },
     "01c1a0ebfeb4465b93d464c197fb8299": {
      "model_module": "@jupyter-widgets/base",
      "model_module_version": "1.2.0",
      "model_name": "LayoutModel",
      "state": {}
     },
     "0201cf21493344cebe40d1696efdd4a3": {
      "model_module": "@jupyter-widgets/controls",
      "model_module_version": "1.5.0",
      "model_name": "ComboboxModel",
      "state": {
       "description": "Start: ",
       "ensure_option": false,
       "layout": "IPY_MODEL_22074f568e2b4f34aa89b42951bffc2e",
       "options": [
        "AC",
        "ACh",
        "AP-1",
        "ATF1",
        "ATF2",
        "CRE",
        "CREB",
        "Ca2+in",
        "Ca2+in DAG",
        "Ca2+mob",
        "Ca2+mob DAG",
        "CaM",
        "CaMKII",
        "CaMKIV",
        "CnA",
        "DAG",
        "ENKCRE",
        "ENKCRE ENKCnARE/CaRE",
        "ENKCnARE/CaRE",
        "ERK",
        "Elk",
        "FOR",
        "Fos",
        "Fos Jun",
        "IP3",
        "JNK",
        "JNKK",
        "Jun",
        "KCl",
        "MAPK",
        "MAPKAPK2/3",
        "MEK",
        "MEKK",
        "MKK6",
        "NFAT",
        "PACAP",
        "PEnkgeneholo",
        "PKA",
        "PKC",
        "PKC-theta",
        "PLC",
        "RSK2",
        "Raf",
        "Rap1",
        "Ras",
        "RasGRF",
        "TRE",
        "VIPCRE",
        "VIPCnARE/CaRE",
        "VIPCnARE/CaRE VIPCRE",
        "VIPgeneCRE",
        "VIPgeneCnARE/CaRE",
        "VIPgeneholo",
        "cAMP",
        "cAMP-GEFII",
        "cAMP/Ca2+in",
        "neurites",
        "p38"
       ],
       "placeholder": "Type here",
       "style": "IPY_MODEL_5693a972bb0f4b2086c1d840c4f35ba5"
      }
     },
     "02024df6c5344898ba56bb230e75595c": {
      "model_module": "@jupyter-widgets/controls",
      "model_module_version": "1.5.0",
      "model_name": "DescriptionStyleModel",
      "state": {
       "description_width": ""
      }
     },
     "04d042c5796a4993a5df4d7d7769a1f7": {
      "model_module": "@jupyter-widgets/controls",
      "model_module_version": "1.5.0",
      "model_name": "DescriptionStyleModel",
      "state": {
       "description_width": ""
      }
     },
     "05a8db1bcee44caab01bae2c3e2e379b": {
      "model_module": "@jupyter-widgets/controls",
      "model_module_version": "1.5.0",
      "model_name": "DescriptionStyleModel",
      "state": {
       "description_width": ""
      }
     },
     "05b84c982cc744108df455902d3abc5e": {
      "model_module": "@jupyter-widgets/output",
      "model_module_version": "1.0.0",
      "model_name": "OutputModel",
      "state": {
       "layout": "IPY_MODEL_2a16621a141c4fce917571f78d7f1517"
      }
     },
     "05eac3020bed464392e46a884bab7106": {
      "model_module": "@jupyter-widgets/controls",
      "model_module_version": "1.5.0",
      "model_name": "SelectMultipleModel",
      "state": {
       "_options_labels": [
        "AC",
        "ACh",
        "AP-1",
        "ATF1",
        "ATF2",
        "CRE",
        "CREB",
        "Ca2+in",
        "Ca2+in DAG",
        "Ca2+mob",
        "Ca2+mob DAG",
        "CaM",
        "CaMKII",
        "CaMKIV",
        "CnA",
        "DAG",
        "ENKCRE",
        "ENKCRE ENKCnARE/CaRE",
        "ENKCnARE/CaRE",
        "ERK",
        "Elk",
        "FOR",
        "Fos",
        "Fos Jun",
        "IP3",
        "JNK",
        "JNKK",
        "Jun",
        "KCl",
        "MAPK",
        "MAPKAPK2/3",
        "MEK",
        "MEKK",
        "MKK6",
        "NFAT",
        "PACAP",
        "PEnkgeneholo",
        "PKA",
        "PKC",
        "PKC-theta",
        "PLC",
        "RSK2",
        "Raf",
        "Rap1",
        "Ras",
        "RasGRF",
        "TRE",
        "VIPCRE",
        "VIPCnARE/CaRE",
        "VIPCnARE/CaRE VIPCRE",
        "VIPgeneCRE",
        "VIPgeneCnARE/CaRE",
        "VIPgeneholo",
        "cAMP",
        "cAMP-GEFII",
        "cAMP/Ca2+in",
        "neurites",
        "p38"
       ],
       "description": "Inhibit: ",
       "index": [],
       "layout": "IPY_MODEL_9d8f1ea5d0f74dfcac8a22fd105d51bd",
       "rows": 5,
       "style": "IPY_MODEL_ddeee00c82574b6da78f58a7c75be8bf"
      }
     },
     "0641ff1f36ea42b0bff27514aba91b45": {
      "model_module": "@jupyter-widgets/output",
      "model_module_version": "1.0.0",
      "model_name": "OutputModel",
      "state": {
       "layout": "IPY_MODEL_52b2d1332e61461fbabc89270595d302"
      }
     },
     "06441b7516d94ab6a1fc63aef78f8d2d": {
      "model_module": "@jupyter-widgets/controls",
      "model_module_version": "1.5.0",
      "model_name": "DescriptionStyleModel",
      "state": {
       "description_width": ""
      }
     },
     "065d5569a72849f8bf09780ef78fb990": {
      "model_module": "@jupyter-widgets/base",
      "model_module_version": "1.2.0",
      "model_name": "LayoutModel",
      "state": {
       "width": "50%"
      }
     },
     "0698101af2f446f88809d226c2be9132": {
      "model_module": "@jupyter-widgets/controls",
      "model_module_version": "1.5.0",
      "model_name": "LabelModel",
      "state": {
       "layout": "IPY_MODEL_78bc56ff85fe4dae8a04ce5e17435e20",
       "style": "IPY_MODEL_f3b553f852204223946383e7eef30b15"
      }
     },
     "069bfc925aff4c4e8161910a1a318a1a": {
      "model_module": "@jupyter-widgets/base",
      "model_module_version": "1.2.0",
      "model_name": "LayoutModel",
      "state": {
       "width": "50%"
      }
     },
     "0780ea2bd449492f9eb2e6da4ad5e29d": {
      "model_module": "@jupyter-widgets/controls",
      "model_module_version": "1.5.0",
      "model_name": "DescriptionStyleModel",
      "state": {
       "description_width": ""
      }
     },
     "081f1361111c4b9791d19be1c01f8c00": {
      "model_module": "@jupyter-widgets/base",
      "model_module_version": "1.2.0",
      "model_name": "LayoutModel",
      "state": {}
     },
     "089456d4fd3a4def83d0c6b93fbd32fc": {
      "model_module": "@jupyter-widgets/output",
      "model_module_version": "1.0.0",
      "model_name": "OutputModel",
      "state": {
       "layout": "IPY_MODEL_7e7a0e2958db4780b0523c56e88a64aa"
      }
     },
     "09849f868b5c4c149e6164d28c2ff0a3": {
      "model_module": "@jupyter-widgets/controls",
      "model_module_version": "1.5.0",
      "model_name": "VBoxModel",
      "state": {
       "children": [
        "IPY_MODEL_8051071c45524cde9d524afa2792ef66",
        "IPY_MODEL_3077cf498b6343c3a58e74aeefdbc906",
        "IPY_MODEL_6074aae88b3f4fd8b55b5b90dfc59bc6",
        "IPY_MODEL_f399017052434d308f8bc94415687e38",
        "IPY_MODEL_41d741a281514408810ae42f9c2cfd48",
        "IPY_MODEL_c24d592e3eac4927b777e342272e8ba0",
        "IPY_MODEL_8b2e5f82ae6e4bcbb4412da990678d7f"
       ],
       "layout": "IPY_MODEL_5b404d5feea9421dac1a973302ef9fbb"
      }
     },
     "0a4e4ff42a334e15a37dea394a643b18": {
      "model_module": "@jupyter-widgets/controls",
      "model_module_version": "1.5.0",
      "model_name": "DescriptionStyleModel",
      "state": {
       "description_width": ""
      }
     },
     "0b8a98c6620749ba904a3d8b73837296": {
      "model_module": "@jupyter-widgets/base",
      "model_module_version": "1.2.0",
      "model_name": "LayoutModel",
      "state": {
       "width": "50%"
      }
     },
     "0b9a332fc0c1442a8be3401dc9730bb2": {
      "model_module": "@jupyter-widgets/controls",
      "model_module_version": "1.5.0",
      "model_name": "ButtonStyleModel",
      "state": {}
     },
     "0cacda84f61249c58c8f72242624a71e": {
      "model_module": "@jupyter-widgets/base",
      "model_module_version": "1.2.0",
      "model_name": "LayoutModel",
      "state": {}
     },
     "0d9236ac5c464a2597b4189c7b1d0281": {
      "model_module": "@jupyter-widgets/controls",
      "model_module_version": "1.5.0",
      "model_name": "ButtonStyleModel",
      "state": {}
     },
     "0da714a99e9d4ecabcf89fd6c4b5b530": {
      "model_module": "@jupyter-widgets/base",
      "model_module_version": "1.2.0",
      "model_name": "LayoutModel",
      "state": {}
     },
     "0e9f550260204cf0a8bb8ae321c385cf": {
      "model_module": "@jupyter-widgets/base",
      "model_module_version": "1.2.0",
      "model_name": "LayoutModel",
      "state": {}
     },
     "0f998e998c2344afaea4ccd030dd4dbb": {
      "model_module": "@jupyter-widgets/base",
      "model_module_version": "1.2.0",
      "model_name": "LayoutModel",
      "state": {}
     },
     "10c9711ed4064b199600cdbe5b85674f": {
      "model_module": "@jupyter-widgets/controls",
      "model_module_version": "1.5.0",
      "model_name": "DescriptionStyleModel",
      "state": {
       "description_width": ""
      }
     },
     "112d5595cb1e4760965fec3125e45d91": {
      "model_module": "@jupyter-widgets/controls",
      "model_module_version": "1.5.0",
      "model_name": "DescriptionStyleModel",
      "state": {
       "description_width": ""
      }
     },
     "12553a0e960b416eb3ba2148ef53472f": {
      "model_module": "@jupyter-widgets/output",
      "model_module_version": "1.0.0",
      "model_name": "OutputModel",
      "state": {
       "layout": "IPY_MODEL_54379ebfea0d4759b622ff5d8c05bcfc"
      }
     },
     "13bc3d04f62f4dd7800a76c7816af785": {
      "model_module": "@jupyter-widgets/controls",
      "model_module_version": "1.5.0",
      "model_name": "VBoxModel",
      "state": {
       "children": [
        "IPY_MODEL_a1989f643e13445a9a74be6f64e7d9f3",
        "IPY_MODEL_16dd6a037d0b4550b189db32198ff099",
        "IPY_MODEL_b4aea28b093b4d06b7e5143b6b2ff1b0",
        "IPY_MODEL_a16741918d0a44b0975adf32f816ba82",
        "IPY_MODEL_b4f1fd6043d14513ae0d3c8feecae943",
        "IPY_MODEL_cf99527fe8d54272bf0bb6fe931dc54a",
        "IPY_MODEL_3ceb2c44e3a845a8a4068af471417f33"
       ],
       "layout": "IPY_MODEL_0f998e998c2344afaea4ccd030dd4dbb"
      }
     },
     "13c72ba6d4cc4f0885b156353a7a4a06": {
      "model_module": "@jupyter-widgets/controls",
      "model_module_version": "1.5.0",
      "model_name": "ButtonModel",
      "state": {
       "description": "Produce Output",
       "layout": "IPY_MODEL_1ea132b50587447cbe7b55b3a73c9346",
       "style": "IPY_MODEL_78822d23753a494fa78c9bf557531145"
      }
     },
     "15fa5e087c404f33a036c6b692fcbad1": {
      "model_module": "@jupyter-widgets/controls",
      "model_module_version": "1.5.0",
      "model_name": "DescriptionStyleModel",
      "state": {
       "description_width": ""
      }
     },
     "1651f95dd4304afaa6ee40d1eaee573a": {
      "model_module": "@jupyter-widgets/base",
      "model_module_version": "1.2.0",
      "model_name": "LayoutModel",
      "state": {}
     },
     "168ce6d7a8014130a7aa1c399f5b0484": {
      "model_module": "@jupyter-widgets/base",
      "model_module_version": "1.2.0",
      "model_name": "LayoutModel",
      "state": {
       "width": "50%"
      }
     },
     "169d67a291f04203a09e29fc481a382a": {
      "model_module": "@jupyter-widgets/output",
      "model_module_version": "1.0.0",
      "model_name": "OutputModel",
      "state": {
       "layout": "IPY_MODEL_737aaab7be294ce280b4809bee406cf9"
      }
     },
     "169f73e206624a86ba90f0382e1458dc": {
      "model_module": "@jupyter-widgets/controls",
      "model_module_version": "1.5.0",
      "model_name": "ComboboxModel",
      "state": {
       "description": "End: ",
       "ensure_option": false,
       "layout": "IPY_MODEL_40e776154501475faedb514bbfba100b",
       "options": [
        "AC",
        "ACh",
        "AP-1",
        "ATF1",
        "ATF2",
        "CRE",
        "CREB",
        "Ca2+in",
        "Ca2+in DAG",
        "Ca2+mob",
        "Ca2+mob DAG",
        "CaM",
        "CaMKII",
        "CaMKIV",
        "CnA",
        "DAG",
        "ENKCRE",
        "ENKCRE ENKCnARE/CaRE",
        "ENKCnARE/CaRE",
        "ERK",
        "Elk",
        "FOR",
        "Fos",
        "Fos Jun",
        "IP3",
        "JNK",
        "JNKK",
        "Jun",
        "KCl",
        "MAPK",
        "MAPKAPK2/3",
        "MEK",
        "MEKK",
        "MKK6",
        "NFAT",
        "PACAP",
        "PEnkgeneholo",
        "PKA",
        "PKC",
        "PKC-theta",
        "PLC",
        "RSK2",
        "Raf",
        "Rap1",
        "Ras",
        "RasGRF",
        "TRE",
        "VIPCRE",
        "VIPCnARE/CaRE",
        "VIPCnARE/CaRE VIPCRE",
        "VIPgeneCRE",
        "VIPgeneCnARE/CaRE",
        "VIPgeneholo",
        "cAMP",
        "cAMP-GEFII",
        "cAMP/Ca2+in",
        "neurites",
        "p38"
       ],
       "placeholder": "Type here",
       "style": "IPY_MODEL_b7c45bd4366f4942a3a0801c75b68c77"
      }
     },
     "16dd6a037d0b4550b189db32198ff099": {
      "model_module": "@jupyter-widgets/controls",
      "model_module_version": "1.5.0",
      "model_name": "ComboboxModel",
      "state": {
       "description": "Start: ",
       "ensure_option": false,
       "layout": "IPY_MODEL_1cdbc60e2256444a8c24547ca283c08c",
       "options": [
        "AC",
        "ACh",
        "AP-1",
        "ATF1",
        "ATF2",
        "CRE",
        "CREB",
        "Ca2+in",
        "Ca2+in DAG",
        "Ca2+mob",
        "Ca2+mob DAG",
        "CaM",
        "CaMKII",
        "CaMKIV",
        "CnA",
        "DAG",
        "ENKCRE",
        "ENKCRE ENKCnARE/CaRE",
        "ENKCnARE/CaRE",
        "ERK",
        "Elk",
        "FOR",
        "Fos",
        "Fos Jun",
        "IP3",
        "JNK",
        "JNKK",
        "Jun",
        "KCl",
        "MAPK",
        "MAPKAPK2/3",
        "MEK",
        "MEKK",
        "MKK6",
        "NFAT",
        "PACAP",
        "PEnkgeneholo",
        "PKA",
        "PKC",
        "PKC-theta",
        "PLC",
        "RSK2",
        "Raf",
        "Rap1",
        "Ras",
        "RasGRF",
        "TRE",
        "VIPCRE",
        "VIPCnARE/CaRE",
        "VIPCnARE/CaRE VIPCRE",
        "VIPgeneCRE",
        "VIPgeneCnARE/CaRE",
        "VIPgeneholo",
        "cAMP",
        "cAMP-GEFII",
        "cAMP/Ca2+in",
        "neurites",
        "p38"
       ],
       "placeholder": "Type here",
       "style": "IPY_MODEL_e27bd1565cab41febafc1b6a4e45467a"
      }
     },
     "17f921d3f3514024873b30c49ebb774f": {
      "model_module": "@jupyter-widgets/controls",
      "model_module_version": "1.5.0",
      "model_name": "LabelModel",
      "state": {
       "layout": "IPY_MODEL_7ab2f6828f7f4e6494a94149c6b6eb18",
       "style": "IPY_MODEL_e3b9ce3793c549c7a787dd01641f58f4",
       "value": "Choose Start, End and Inhibited elements"
      }
     },
     "18b07b28af194d2899744f55da42ea98": {
      "model_module": "@jupyter-widgets/controls",
      "model_module_version": "1.5.0",
      "model_name": "ButtonStyleModel",
      "state": {}
     },
     "1bb876df666c45b18acd9f7d2999554f": {
      "model_module": "@jupyter-widgets/base",
      "model_module_version": "1.2.0",
      "model_name": "LayoutModel",
      "state": {
       "width": "50%"
      }
     },
     "1c08246d8c3b402991e590728444f6e1": {
      "model_module": "@jupyter-widgets/controls",
      "model_module_version": "1.5.0",
      "model_name": "ButtonStyleModel",
      "state": {}
     },
     "1c5111348a1044e3842c44de69273998": {
      "model_module": "@jupyter-widgets/controls",
      "model_module_version": "1.5.0",
      "model_name": "LabelModel",
      "state": {
       "layout": "IPY_MODEL_89bed416475a4a1585fe545b6d39e0cb",
       "style": "IPY_MODEL_02024df6c5344898ba56bb230e75595c"
      }
     },
     "1cca4b9adaf04aefa18d4452ae8f3960": {
      "model_module": "@jupyter-widgets/controls",
      "model_module_version": "1.5.0",
      "model_name": "ButtonModel",
      "state": {
       "description": "Produce Output",
       "layout": "IPY_MODEL_e993258d949d4b7a94aaa97ae2552533",
       "style": "IPY_MODEL_a9e29204fd7e41e08285b71803a0034d"
      }
     },
     "1cdbc60e2256444a8c24547ca283c08c": {
      "model_module": "@jupyter-widgets/base",
      "model_module_version": "1.2.0",
      "model_name": "LayoutModel",
      "state": {
       "width": "50%"
      }
     },
     "1d12d627390442249d9d5a5ac6932b56": {
      "model_module": "@jupyter-widgets/base",
      "model_module_version": "1.2.0",
      "model_name": "LayoutModel",
      "state": {
       "width": "50%"
      }
     },
     "1dade21c78304512b012c87b919a718e": {
      "model_module": "@jupyter-widgets/base",
      "model_module_version": "1.2.0",
      "model_name": "LayoutModel",
      "state": {}
     },
     "1ea132b50587447cbe7b55b3a73c9346": {
      "model_module": "@jupyter-widgets/base",
      "model_module_version": "1.2.0",
      "model_name": "LayoutModel",
      "state": {}
     },
     "1f9daea821ea4e7b91570b55b3ea3885": {
      "model_module": "@jupyter-widgets/base",
      "model_module_version": "1.2.0",
      "model_name": "LayoutModel",
      "state": {}
     },
     "20163872d833474c8c92776c8970b8bc": {
      "model_module": "@jupyter-widgets/controls",
      "model_module_version": "1.5.0",
      "model_name": "DescriptionStyleModel",
      "state": {
       "description_width": ""
      }
     },
     "207c5e601fca423c8246fe6ce49f45ec": {
      "model_module": "@jupyter-widgets/controls",
      "model_module_version": "1.5.0",
      "model_name": "ComboboxModel",
      "state": {
       "description": "End: ",
       "ensure_option": false,
       "layout": "IPY_MODEL_641dfcc3a15741c88c20fd5dcadc5c4e",
       "options": [
        "AC",
        "ACh",
        "AP-1",
        "ATF1",
        "ATF2",
        "CRE",
        "CREB",
        "Ca2+in",
        "Ca2+in DAG",
        "Ca2+mob",
        "Ca2+mob DAG",
        "CaM",
        "CaMKII",
        "CaMKIV",
        "CnA",
        "DAG",
        "ENKCRE",
        "ENKCRE ENKCnARE/CaRE",
        "ENKCnARE/CaRE",
        "ERK",
        "Elk",
        "FOR",
        "Fos",
        "Fos Jun",
        "IP3",
        "JNK",
        "JNKK",
        "Jun",
        "KCl",
        "MAPK",
        "MAPKAPK2/3",
        "MEK",
        "MEKK",
        "MKK6",
        "NFAT",
        "PACAP",
        "PEnkgeneholo",
        "PKA",
        "PKC",
        "PKC-theta",
        "PLC",
        "RSK2",
        "Raf",
        "Rap1",
        "Ras",
        "RasGRF",
        "TRE",
        "VIPCRE",
        "VIPCnARE/CaRE",
        "VIPCnARE/CaRE VIPCRE",
        "VIPgeneCRE",
        "VIPgeneCnARE/CaRE",
        "VIPgeneholo",
        "cAMP",
        "cAMP-GEFII",
        "cAMP/Ca2+in",
        "neurites",
        "p38"
       ],
       "placeholder": "Type here",
       "style": "IPY_MODEL_6d8f44dfdc3f4daf8c4dc1a978963b3e"
      }
     },
     "216ee6346a764ef580f6de11426d230f": {
      "model_module": "@jupyter-widgets/controls",
      "model_module_version": "1.5.0",
      "model_name": "DescriptionStyleModel",
      "state": {
       "description_width": ""
      }
     },
     "22074f568e2b4f34aa89b42951bffc2e": {
      "model_module": "@jupyter-widgets/base",
      "model_module_version": "1.2.0",
      "model_name": "LayoutModel",
      "state": {
       "width": "50%"
      }
     },
     "22c2c4403ec44e41ad40d06023806415": {
      "model_module": "@jupyter-widgets/controls",
      "model_module_version": "1.5.0",
      "model_name": "ComboboxModel",
      "state": {
       "description": "Start: ",
       "ensure_option": false,
       "layout": "IPY_MODEL_24102a81c67249fabcf83254aa13b997",
       "options": [
        "AC",
        "ACh",
        "AP-1",
        "ATF1",
        "ATF2",
        "CRE",
        "CREB",
        "Ca2+in",
        "Ca2+in DAG",
        "Ca2+mob",
        "Ca2+mob DAG",
        "CaM",
        "CaMKII",
        "CaMKIV",
        "CnA",
        "DAG",
        "ENKCRE",
        "ENKCRE ENKCnARE/CaRE",
        "ENKCnARE/CaRE",
        "ERK",
        "Elk",
        "FOR",
        "Fos",
        "Fos Jun",
        "IP3",
        "JNK",
        "JNKK",
        "Jun",
        "KCl",
        "MAPK",
        "MAPKAPK2/3",
        "MEK",
        "MEKK",
        "MKK6",
        "NFAT",
        "PACAP",
        "PEnkgeneholo",
        "PKA",
        "PKC",
        "PKC-theta",
        "PLC",
        "RSK2",
        "Raf",
        "Rap1",
        "Ras",
        "RasGRF",
        "TRE",
        "VIPCRE",
        "VIPCnARE/CaRE",
        "VIPCnARE/CaRE VIPCRE",
        "VIPgeneCRE",
        "VIPgeneCnARE/CaRE",
        "VIPgeneholo",
        "cAMP",
        "cAMP-GEFII",
        "cAMP/Ca2+in",
        "neurites",
        "p38"
       ],
       "placeholder": "Type here",
       "style": "IPY_MODEL_e7ae038862ca461fbd0a72ad48831d58"
      }
     },
     "23473609a5f941b9ac065f6f5fdf6bff": {
      "model_module": "@jupyter-widgets/controls",
      "model_module_version": "1.5.0",
      "model_name": "DescriptionStyleModel",
      "state": {
       "description_width": ""
      }
     },
     "23efcc18e5134338b0711358dc464328": {
      "model_module": "@jupyter-widgets/base",
      "model_module_version": "1.2.0",
      "model_name": "LayoutModel",
      "state": {
       "width": "50%"
      }
     },
     "24102a81c67249fabcf83254aa13b997": {
      "model_module": "@jupyter-widgets/base",
      "model_module_version": "1.2.0",
      "model_name": "LayoutModel",
      "state": {
       "width": "50%"
      }
     },
     "24540ac70e4b45a48fd09d1704559122": {
      "model_module": "@jupyter-widgets/base",
      "model_module_version": "1.2.0",
      "model_name": "LayoutModel",
      "state": {}
     },
     "2a16621a141c4fce917571f78d7f1517": {
      "model_module": "@jupyter-widgets/base",
      "model_module_version": "1.2.0",
      "model_name": "LayoutModel",
      "state": {}
     },
     "2a610f724c884f11b362bf1c4d647762": {
      "model_module": "@jupyter-widgets/output",
      "model_module_version": "1.0.0",
      "model_name": "OutputModel",
      "state": {
       "layout": "IPY_MODEL_af387d4ae8f74c158f022511395a0605"
      }
     },
     "2ac29b157972453cb60d6daa36860b92": {
      "model_module": "@jupyter-widgets/controls",
      "model_module_version": "1.5.0",
      "model_name": "LabelModel",
      "state": {
       "layout": "IPY_MODEL_e056d228f8b747fda53275aefb5532ea",
       "style": "IPY_MODEL_0780ea2bd449492f9eb2e6da4ad5e29d",
       "value": "Choose Start, End and Inhibited elements"
      }
     },
     "2b8cb53462634d3286d9748c03421d83": {
      "model_module": "@jupyter-widgets/controls",
      "model_module_version": "1.5.0",
      "model_name": "DescriptionStyleModel",
      "state": {
       "description_width": ""
      }
     },
     "2c917a8ae15e41b49e66a7de2bbaa90a": {
      "model_module": "@jupyter-widgets/base",
      "model_module_version": "1.2.0",
      "model_name": "LayoutModel",
      "state": {}
     },
     "2ce4d83c6ab546e6a2b985db35abaa73": {
      "model_module": "@jupyter-widgets/controls",
      "model_module_version": "1.5.0",
      "model_name": "DescriptionStyleModel",
      "state": {
       "description_width": ""
      }
     },
     "2d07aa7f4e7c49b1a21651a191f0c8da": {
      "model_module": "@jupyter-widgets/controls",
      "model_module_version": "1.5.0",
      "model_name": "DescriptionStyleModel",
      "state": {
       "description_width": ""
      }
     },
     "2d9427dafd634cc9bb6f7143eb220023": {
      "model_module": "@jupyter-widgets/controls",
      "model_module_version": "1.5.0",
      "model_name": "ButtonStyleModel",
      "state": {}
     },
     "2e0eee8314b4448694c0b516bfd03b8c": {
      "model_module": "@jupyter-widgets/controls",
      "model_module_version": "1.5.0",
      "model_name": "DescriptionStyleModel",
      "state": {
       "description_width": ""
      }
     },
     "2f177878d7984534a20adcb8386a776b": {
      "model_module": "@jupyter-widgets/controls",
      "model_module_version": "1.5.0",
      "model_name": "DescriptionStyleModel",
      "state": {
       "description_width": ""
      }
     },
     "2f463c3b66914253bf787d31d8142879": {
      "model_module": "@jupyter-widgets/controls",
      "model_module_version": "1.5.0",
      "model_name": "DescriptionStyleModel",
      "state": {
       "description_width": ""
      }
     },
     "2fb4d4fd27c54b239c8c910b2b79c6ae": {
      "model_module": "@jupyter-widgets/controls",
      "model_module_version": "1.5.0",
      "model_name": "ButtonStyleModel",
      "state": {}
     },
     "3077cf498b6343c3a58e74aeefdbc906": {
      "model_module": "@jupyter-widgets/controls",
      "model_module_version": "1.5.0",
      "model_name": "ComboboxModel",
      "state": {
       "description": "Start: ",
       "ensure_option": false,
       "layout": "IPY_MODEL_065d5569a72849f8bf09780ef78fb990",
       "options": [
        "AC",
        "ACh",
        "AP-1",
        "ATF1",
        "ATF2",
        "CRE",
        "CREB",
        "Ca2+in",
        "Ca2+in DAG",
        "Ca2+mob",
        "Ca2+mob DAG",
        "CaM",
        "CaMKII",
        "CaMKIV",
        "CnA",
        "DAG",
        "ENKCRE",
        "ENKCRE ENKCnARE/CaRE",
        "ENKCnARE/CaRE",
        "ERK",
        "Elk",
        "FOR",
        "Fos",
        "Fos Jun",
        "IP3",
        "JNK",
        "JNKK",
        "Jun",
        "KCl",
        "MAPK",
        "MAPKAPK2/3",
        "MEK",
        "MEKK",
        "MKK6",
        "NFAT",
        "PACAP",
        "PEnkgeneholo",
        "PKA",
        "PKC",
        "PKC-theta",
        "PLC",
        "RSK2",
        "Raf",
        "Rap1",
        "Ras",
        "RasGRF",
        "TRE",
        "VIPCRE",
        "VIPCnARE/CaRE",
        "VIPCnARE/CaRE VIPCRE",
        "VIPgeneCRE",
        "VIPgeneCnARE/CaRE",
        "VIPgeneholo",
        "cAMP",
        "cAMP-GEFII",
        "cAMP/Ca2+in",
        "neurites",
        "p38"
       ],
       "placeholder": "Type here",
       "style": "IPY_MODEL_2f463c3b66914253bf787d31d8142879"
      }
     },
     "3176cf7ee25d475895cc3a6fcc6de749": {
      "model_module": "@jupyter-widgets/controls",
      "model_module_version": "1.5.0",
      "model_name": "VBoxModel",
      "state": {
       "children": [
        "IPY_MODEL_9e2d0d72daae4e5e946122e44181af58",
        "IPY_MODEL_22c2c4403ec44e41ad40d06023806415",
        "IPY_MODEL_5fe8eb6fc98241e689e2aeb7c041a218",
        "IPY_MODEL_d9eadf5bac9740feb56c4b58af5cbc2b",
        "IPY_MODEL_5412c25c6e1d4c0aaa2cd25d2cca52e7",
        "IPY_MODEL_d2bac2c570b8462083d64dbacb1585b7",
        "IPY_MODEL_12553a0e960b416eb3ba2148ef53472f"
       ],
       "layout": "IPY_MODEL_83ac54c28cc74f7e8a89b55313a061f9"
      }
     },
     "3274249a1f2844f1b4355083c0b1bd85": {
      "model_module": "@jupyter-widgets/controls",
      "model_module_version": "1.5.0",
      "model_name": "ComboboxModel",
      "state": {
       "description": "Start: ",
       "ensure_option": false,
       "layout": "IPY_MODEL_c3d7b1f5c9954bc4ad49dbacf8de71b7",
       "options": [
        "AC",
        "ACh",
        "AP-1",
        "ATF1",
        "ATF2",
        "CRE",
        "CREB",
        "Ca2+in",
        "Ca2+in DAG",
        "Ca2+mob",
        "Ca2+mob DAG",
        "CaM",
        "CaMKII",
        "CaMKIV",
        "CnA",
        "DAG",
        "ENKCRE",
        "ENKCRE ENKCnARE/CaRE",
        "ENKCnARE/CaRE",
        "ERK",
        "Elk",
        "FOR",
        "Fos",
        "Fos Jun",
        "IP3",
        "JNK",
        "JNKK",
        "Jun",
        "KCl",
        "MAPK",
        "MAPKAPK2/3",
        "MEK",
        "MEKK",
        "MKK6",
        "NFAT",
        "PACAP",
        "PEnkgeneholo",
        "PKA",
        "PKC",
        "PKC-theta",
        "PLC",
        "RSK2",
        "Raf",
        "Rap1",
        "Ras",
        "RasGRF",
        "TRE",
        "VIPCRE",
        "VIPCnARE/CaRE",
        "VIPCnARE/CaRE VIPCRE",
        "VIPgeneCRE",
        "VIPgeneCnARE/CaRE",
        "VIPgeneholo",
        "cAMP",
        "cAMP-GEFII",
        "cAMP/Ca2+in",
        "neurites",
        "p38"
       ],
       "placeholder": "Type here",
       "style": "IPY_MODEL_829e2e6a0a3449d88f1ba784e47e25ac"
      }
     },
     "32c299d11b1c4fce96b1bb5139d2829c": {
      "model_module": "@jupyter-widgets/controls",
      "model_module_version": "1.5.0",
      "model_name": "ComboboxModel",
      "state": {
       "description": "End: ",
       "ensure_option": false,
       "layout": "IPY_MODEL_b72c5bb693434fe487876d03d3007665",
       "options": [
        "AC",
        "ACh",
        "AP-1",
        "ATF1",
        "ATF2",
        "CRE",
        "CREB",
        "Ca2+in",
        "Ca2+in DAG",
        "Ca2+mob",
        "Ca2+mob DAG",
        "CaM",
        "CaMKII",
        "CaMKIV",
        "CnA",
        "DAG",
        "ENKCRE",
        "ENKCRE ENKCnARE/CaRE",
        "ENKCnARE/CaRE",
        "ERK",
        "Elk",
        "FOR",
        "Fos",
        "Fos Jun",
        "IP3",
        "JNK",
        "JNKK",
        "Jun",
        "KCl",
        "MAPK",
        "MAPKAPK2/3",
        "MEK",
        "MEKK",
        "MKK6",
        "NFAT",
        "PACAP",
        "PEnkgeneholo",
        "PKA",
        "PKC",
        "PKC-theta",
        "PLC",
        "RSK2",
        "Raf",
        "Rap1",
        "Ras",
        "RasGRF",
        "TRE",
        "VIPCRE",
        "VIPCnARE/CaRE",
        "VIPCnARE/CaRE VIPCRE",
        "VIPgeneCRE",
        "VIPgeneCnARE/CaRE",
        "VIPgeneholo",
        "cAMP",
        "cAMP-GEFII",
        "cAMP/Ca2+in",
        "neurites",
        "p38"
       ],
       "placeholder": "Type here",
       "style": "IPY_MODEL_a28d6b4c6e0d4d8c8aa4bf12bb813e70"
      }
     },
     "32d6a62a6c22467381b02cc8442014d1": {
      "model_module": "@jupyter-widgets/base",
      "model_module_version": "1.2.0",
      "model_name": "LayoutModel",
      "state": {}
     },
     "3308264d31464fc0a82aa0ceea9b5524": {
      "model_module": "@jupyter-widgets/controls",
      "model_module_version": "1.5.0",
      "model_name": "DescriptionStyleModel",
      "state": {
       "description_width": ""
      }
     },
     "3359cef422e746d49e799ab1dfb12f62": {
      "model_module": "@jupyter-widgets/controls",
      "model_module_version": "1.5.0",
      "model_name": "DescriptionStyleModel",
      "state": {
       "description_width": ""
      }
     },
     "33ec561537f24d079ce07bbd72bc1738": {
      "model_module": "@jupyter-widgets/base",
      "model_module_version": "1.2.0",
      "model_name": "LayoutModel",
      "state": {}
     },
     "34f4bf76475c4dbfb1fc6f8f74eb58c6": {
      "model_module": "@jupyter-widgets/base",
      "model_module_version": "1.2.0",
      "model_name": "LayoutModel",
      "state": {
       "width": "50%"
      }
     },
     "35d2b273a2534e90a11700cb7dae09ab": {
      "model_module": "@jupyter-widgets/base",
      "model_module_version": "1.2.0",
      "model_name": "LayoutModel",
      "state": {
       "width": "50%"
      }
     },
     "368b4cad948a4712bab7dc48dcf74787": {
      "model_module": "@jupyter-widgets/base",
      "model_module_version": "1.2.0",
      "model_name": "LayoutModel",
      "state": {}
     },
     "36d300aa31dd495f818389cb40878c8a": {
      "model_module": "@jupyter-widgets/controls",
      "model_module_version": "1.5.0",
      "model_name": "VBoxModel",
      "state": {
       "children": [
        "IPY_MODEL_c87d0f59c8594e259e918c9654896eff",
        "IPY_MODEL_a8f7294bb30e47d9ba96eb6c13234706",
        "IPY_MODEL_370352a92708423caca85988ac53a058",
        "IPY_MODEL_5db84924cd24441fbedc013b3bb3d8ef",
        "IPY_MODEL_f7a34164671345388bc1643cd32bd770",
        "IPY_MODEL_05b84c982cc744108df455902d3abc5e",
        "IPY_MODEL_6d8ceba88b52473daa2df553e67d45ad"
       ],
       "layout": "IPY_MODEL_d714e81c3dcc4eb38aad0b42d1dba0f1"
      }
     },
     "370352a92708423caca85988ac53a058": {
      "model_module": "@jupyter-widgets/controls",
      "model_module_version": "1.5.0",
      "model_name": "ComboboxModel",
      "state": {
       "description": "End: ",
       "ensure_option": false,
       "layout": "IPY_MODEL_23efcc18e5134338b0711358dc464328",
       "options": [
        "AC",
        "ACh",
        "AP-1",
        "ATF1",
        "ATF2",
        "CRE",
        "CREB",
        "Ca2+in",
        "Ca2+in DAG",
        "Ca2+mob",
        "Ca2+mob DAG",
        "CaM",
        "CaMKII",
        "CaMKIV",
        "CnA",
        "DAG",
        "ENKCRE",
        "ENKCRE ENKCnARE/CaRE",
        "ENKCnARE/CaRE",
        "ERK",
        "Elk",
        "FOR",
        "Fos",
        "Fos Jun",
        "IP3",
        "JNK",
        "JNKK",
        "Jun",
        "KCl",
        "MAPK",
        "MAPKAPK2/3",
        "MEK",
        "MEKK",
        "MKK6",
        "NFAT",
        "PACAP",
        "PEnkgeneholo",
        "PKA",
        "PKC",
        "PKC-theta",
        "PLC",
        "RSK2",
        "Raf",
        "Rap1",
        "Ras",
        "RasGRF",
        "TRE",
        "VIPCRE",
        "VIPCnARE/CaRE",
        "VIPCnARE/CaRE VIPCRE",
        "VIPgeneCRE",
        "VIPgeneCnARE/CaRE",
        "VIPgeneholo",
        "cAMP",
        "cAMP-GEFII",
        "cAMP/Ca2+in",
        "neurites",
        "p38"
       ],
       "placeholder": "Type here",
       "style": "IPY_MODEL_bc4618dbb56040fda905e307129267eb"
      }
     },
     "371ad98e88dd4aee897ed425bd8f905f": {
      "model_module": "@jupyter-widgets/output",
      "model_module_version": "1.0.0",
      "model_name": "OutputModel",
      "state": {
       "layout": "IPY_MODEL_fc3b4d14d25443ae98b305c83a42a583"
      }
     },
     "3765c195092d4053801eb84666b5a980": {
      "model_module": "@jupyter-widgets/controls",
      "model_module_version": "1.5.0",
      "model_name": "SelectMultipleModel",
      "state": {
       "_options_labels": [
        "AC",
        "ACh",
        "AP-1",
        "ATF1",
        "ATF2",
        "CRE",
        "CREB",
        "Ca2+in",
        "Ca2+in DAG",
        "Ca2+mob",
        "Ca2+mob DAG",
        "CaM",
        "CaMKII",
        "CaMKIV",
        "CnA",
        "DAG",
        "ENKCRE",
        "ENKCRE ENKCnARE/CaRE",
        "ENKCnARE/CaRE",
        "ERK",
        "Elk",
        "FOR",
        "Fos",
        "Fos Jun",
        "IP3",
        "JNK",
        "JNKK",
        "Jun",
        "KCl",
        "MAPK",
        "MAPKAPK2/3",
        "MEK",
        "MEKK",
        "MKK6",
        "NFAT",
        "PACAP",
        "PEnkgeneholo",
        "PKA",
        "PKC",
        "PKC-theta",
        "PLC",
        "RSK2",
        "Raf",
        "Rap1",
        "Ras",
        "RasGRF",
        "TRE",
        "VIPCRE",
        "VIPCnARE/CaRE",
        "VIPCnARE/CaRE VIPCRE",
        "VIPgeneCRE",
        "VIPgeneCnARE/CaRE",
        "VIPgeneholo",
        "cAMP",
        "cAMP-GEFII",
        "cAMP/Ca2+in",
        "neurites",
        "p38"
       ],
       "description": "Inhibit: ",
       "index": [],
       "layout": "IPY_MODEL_a4ecf02c091f4390b3646ff46841469e",
       "rows": 5,
       "style": "IPY_MODEL_10c9711ed4064b199600cdbe5b85674f"
      }
     },
     "384db7b26c5441c79e04525e17db5ff1": {
      "model_module": "@jupyter-widgets/controls",
      "model_module_version": "1.5.0",
      "model_name": "DescriptionStyleModel",
      "state": {
       "description_width": ""
      }
     },
     "3932c917b036401281ac318557560873": {
      "model_module": "@jupyter-widgets/base",
      "model_module_version": "1.2.0",
      "model_name": "LayoutModel",
      "state": {
       "width": "50%"
      }
     },
     "3942931bc378436b811c8e45ddae86b1": {
      "model_module": "@jupyter-widgets/base",
      "model_module_version": "1.2.0",
      "model_name": "LayoutModel",
      "state": {}
     },
     "3aecde99c55d4a229a11a1b2377eadb9": {
      "model_module": "@jupyter-widgets/controls",
      "model_module_version": "1.5.0",
      "model_name": "LabelModel",
      "state": {
       "layout": "IPY_MODEL_b778477de0d54a68b40e1590f08a1b5b",
       "style": "IPY_MODEL_960c39ee935a486fa4475263c4c3cb6e",
       "value": "Choose Start, End and Inhibited elements"
      }
     },
     "3b77fa937edf4cc398a7c0910c127a5a": {
      "model_module": "@jupyter-widgets/controls",
      "model_module_version": "1.5.0",
      "model_name": "ComboboxModel",
      "state": {
       "description": "End: ",
       "ensure_option": false,
       "layout": "IPY_MODEL_803ed1add4b54685af73eaa089f881f0",
       "options": [
        "AC",
        "ACh",
        "AP-1",
        "ATF1",
        "ATF2",
        "CRE",
        "CREB",
        "Ca2+in",
        "Ca2+in DAG",
        "Ca2+mob",
        "Ca2+mob DAG",
        "CaM",
        "CaMKII",
        "CaMKIV",
        "CnA",
        "DAG",
        "ENKCRE",
        "ENKCRE ENKCnARE/CaRE",
        "ENKCnARE/CaRE",
        "ERK",
        "Elk",
        "FOR",
        "Fos",
        "Fos Jun",
        "IP3",
        "JNK",
        "JNKK",
        "Jun",
        "KCl",
        "MAPK",
        "MAPKAPK2/3",
        "MEK",
        "MEKK",
        "MKK6",
        "NFAT",
        "PACAP",
        "PEnkgeneholo",
        "PKA",
        "PKC",
        "PKC-theta",
        "PLC",
        "RSK2",
        "Raf",
        "Rap1",
        "Ras",
        "RasGRF",
        "TRE",
        "VIPCRE",
        "VIPCnARE/CaRE",
        "VIPCnARE/CaRE VIPCRE",
        "VIPgeneCRE",
        "VIPgeneCnARE/CaRE",
        "VIPgeneholo",
        "cAMP",
        "cAMP-GEFII",
        "cAMP/Ca2+in",
        "neurites",
        "p38"
       ],
       "placeholder": "Type here",
       "style": "IPY_MODEL_df1f318c33c74279907ca1a433c7d7a5"
      }
     },
     "3c9a9805949445d9bb3e27e9ac928625": {
      "model_module": "@jupyter-widgets/controls",
      "model_module_version": "1.5.0",
      "model_name": "LabelModel",
      "state": {
       "layout": "IPY_MODEL_8ba34fc567774f368a1fdf568c9b5112",
       "style": "IPY_MODEL_9902892b3426437b9a792aea3afa26dd"
      }
     },
     "3ceb2c44e3a845a8a4068af471417f33": {
      "model_module": "@jupyter-widgets/output",
      "model_module_version": "1.0.0",
      "model_name": "OutputModel",
      "state": {
       "layout": "IPY_MODEL_4b0927a2a4be42f0a699daab987c7878"
      }
     },
     "3d7e6a3c4006439ebfe127544183b40c": {
      "model_module": "@jupyter-widgets/base",
      "model_module_version": "1.2.0",
      "model_name": "LayoutModel",
      "state": {}
     },
     "3ec26f105aef40d9883fc8523ae79925": {
      "model_module": "@jupyter-widgets/base",
      "model_module_version": "1.2.0",
      "model_name": "LayoutModel",
      "state": {}
     },
     "40e776154501475faedb514bbfba100b": {
      "model_module": "@jupyter-widgets/base",
      "model_module_version": "1.2.0",
      "model_name": "LayoutModel",
      "state": {
       "width": "50%"
      }
     },
     "41d741a281514408810ae42f9c2cfd48": {
      "model_module": "@jupyter-widgets/controls",
      "model_module_version": "1.5.0",
      "model_name": "ButtonModel",
      "state": {
       "description": "Produce Output",
       "layout": "IPY_MODEL_c869ea44f65e4b99b3d3264717a5587b",
       "style": "IPY_MODEL_e731f2deee544f43aa1ee1ce42571d37"
      }
     },
     "42854b83cef74c548d95ee48b8ffdb04": {
      "model_module": "@jupyter-widgets/controls",
      "model_module_version": "1.5.0",
      "model_name": "SelectMultipleModel",
      "state": {
       "_options_labels": [
        "AC",
        "ACh",
        "AP-1",
        "ATF1",
        "ATF2",
        "CRE",
        "CREB",
        "Ca2+in",
        "Ca2+in DAG",
        "Ca2+mob",
        "Ca2+mob DAG",
        "CaM",
        "CaMKII",
        "CaMKIV",
        "CnA",
        "DAG",
        "ENKCRE",
        "ENKCRE ENKCnARE/CaRE",
        "ENKCnARE/CaRE",
        "ERK",
        "Elk",
        "FOR",
        "Fos",
        "Fos Jun",
        "IP3",
        "JNK",
        "JNKK",
        "Jun",
        "KCl",
        "MAPK",
        "MAPKAPK2/3",
        "MEK",
        "MEKK",
        "MKK6",
        "NFAT",
        "PACAP",
        "PEnkgeneholo",
        "PKA",
        "PKC",
        "PKC-theta",
        "PLC",
        "RSK2",
        "Raf",
        "Rap1",
        "Ras",
        "RasGRF",
        "TRE",
        "VIPCRE",
        "VIPCnARE/CaRE",
        "VIPCnARE/CaRE VIPCRE",
        "VIPgeneCRE",
        "VIPgeneCnARE/CaRE",
        "VIPgeneholo",
        "cAMP",
        "cAMP-GEFII",
        "cAMP/Ca2+in",
        "neurites",
        "p38"
       ],
       "description": "Inhibit: ",
       "index": [],
       "layout": "IPY_MODEL_4d6340d9ba8644d38616de7696796d04",
       "rows": 5,
       "style": "IPY_MODEL_384db7b26c5441c79e04525e17db5ff1"
      }
     },
     "42e00cc7db084743aff2eacc3de2a6ae": {
      "model_module": "@jupyter-widgets/base",
      "model_module_version": "1.2.0",
      "model_name": "LayoutModel",
      "state": {
       "width": "50%"
      }
     },
     "43013e2dbd654dd4986895d49e2c4386": {
      "model_module": "@jupyter-widgets/output",
      "model_module_version": "1.0.0",
      "model_name": "OutputModel",
      "state": {
       "layout": "IPY_MODEL_c4418a38e3c541c39bdebcfd8231542d"
      }
     },
     "43944878cdfd445d998f7c4ab33b1210": {
      "model_module": "@jupyter-widgets/controls",
      "model_module_version": "1.5.0",
      "model_name": "ComboboxModel",
      "state": {
       "description": "End: ",
       "ensure_option": false,
       "layout": "IPY_MODEL_d669635113784f7f8cf0f444891b3842",
       "options": [
        "AC",
        "ACh",
        "AP-1",
        "ATF1",
        "ATF2",
        "CRE",
        "CREB",
        "Ca2+in",
        "Ca2+in DAG",
        "Ca2+mob",
        "Ca2+mob DAG",
        "CaM",
        "CaMKII",
        "CaMKIV",
        "CnA",
        "DAG",
        "ENKCRE",
        "ENKCRE ENKCnARE/CaRE",
        "ENKCnARE/CaRE",
        "ERK",
        "Elk",
        "FOR",
        "Fos",
        "Fos Jun",
        "IP3",
        "JNK",
        "JNKK",
        "Jun",
        "KCl",
        "MAPK",
        "MAPKAPK2/3",
        "MEK",
        "MEKK",
        "MKK6",
        "NFAT",
        "PACAP",
        "PEnkgeneholo",
        "PKA",
        "PKC",
        "PKC-theta",
        "PLC",
        "RSK2",
        "Raf",
        "Rap1",
        "Ras",
        "RasGRF",
        "TRE",
        "VIPCRE",
        "VIPCnARE/CaRE",
        "VIPCnARE/CaRE VIPCRE",
        "VIPgeneCRE",
        "VIPgeneCnARE/CaRE",
        "VIPgeneholo",
        "cAMP",
        "cAMP-GEFII",
        "cAMP/Ca2+in",
        "neurites",
        "p38"
       ],
       "placeholder": "Type here",
       "style": "IPY_MODEL_ef2e303b056c454f9806ee542f8842f0"
      }
     },
     "446ad9bc5da243aaa8f788b6ce402003": {
      "model_module": "@jupyter-widgets/base",
      "model_module_version": "1.2.0",
      "model_name": "LayoutModel",
      "state": {}
     },
     "448919ec2b0644688ef488363d8f3934": {
      "model_module": "@jupyter-widgets/controls",
      "model_module_version": "1.5.0",
      "model_name": "DescriptionStyleModel",
      "state": {
       "description_width": ""
      }
     },
     "468c2bf71406434d9300894c0aacd17e": {
      "model_module": "@jupyter-widgets/controls",
      "model_module_version": "1.5.0",
      "model_name": "SelectMultipleModel",
      "state": {
       "_options_labels": [
        "AC",
        "ACh",
        "AP-1",
        "ATF1",
        "ATF2",
        "CRE",
        "CREB",
        "Ca2+in",
        "Ca2+in DAG",
        "Ca2+mob",
        "Ca2+mob DAG",
        "CaM",
        "CaMKII",
        "CaMKIV",
        "CnA",
        "DAG",
        "ENKCRE",
        "ENKCRE ENKCnARE/CaRE",
        "ENKCnARE/CaRE",
        "ERK",
        "Elk",
        "FOR",
        "Fos",
        "Fos Jun",
        "IP3",
        "JNK",
        "JNKK",
        "Jun",
        "KCl",
        "MAPK",
        "MAPKAPK2/3",
        "MEK",
        "MEKK",
        "MKK6",
        "NFAT",
        "PACAP",
        "PEnkgeneholo",
        "PKA",
        "PKC",
        "PKC-theta",
        "PLC",
        "RSK2",
        "Raf",
        "Rap1",
        "Ras",
        "RasGRF",
        "TRE",
        "VIPCRE",
        "VIPCnARE/CaRE",
        "VIPCnARE/CaRE VIPCRE",
        "VIPgeneCRE",
        "VIPgeneCnARE/CaRE",
        "VIPgeneholo",
        "cAMP",
        "cAMP-GEFII",
        "cAMP/Ca2+in",
        "neurites",
        "p38"
       ],
       "description": "Inhibit: ",
       "index": [],
       "layout": "IPY_MODEL_7b8ec642bac942308d2ddef6257abe80",
       "rows": 5,
       "style": "IPY_MODEL_f0f5cbfe3a194bda8856f6533f254add"
      }
     },
     "492016cf2e974c8d9daf73926cb20432": {
      "model_module": "@jupyter-widgets/controls",
      "model_module_version": "1.5.0",
      "model_name": "DescriptionStyleModel",
      "state": {
       "description_width": ""
      }
     },
     "4936bcf33cbb4b27816dae669fd636c4": {
      "model_module": "@jupyter-widgets/controls",
      "model_module_version": "1.5.0",
      "model_name": "VBoxModel",
      "state": {
       "children": [
        "IPY_MODEL_6f058d2b50dd4e18a5f95dbdf80f26b6",
        "IPY_MODEL_7ad3440b4b294859b03595767be6149b",
        "IPY_MODEL_207c5e601fca423c8246fe6ce49f45ec",
        "IPY_MODEL_3765c195092d4053801eb84666b5a980",
        "IPY_MODEL_13c72ba6d4cc4f0885b156353a7a4a06",
        "IPY_MODEL_ff765d122eeb43bf8f61ce6e8c8d26e0",
        "IPY_MODEL_77ab13d7b8294e16a5f657dd1b37779b"
       ],
       "layout": "IPY_MODEL_e3b5cd936f82426189a1cc599678c12e"
      }
     },
     "49acd69180b24adeb85bdb17de518f50": {
      "model_module": "@jupyter-widgets/controls",
      "model_module_version": "1.5.0",
      "model_name": "DescriptionStyleModel",
      "state": {
       "description_width": ""
      }
     },
     "4a35575f5fe8439b936794064bf3ceff": {
      "model_module": "@jupyter-widgets/output",
      "model_module_version": "1.0.0",
      "model_name": "OutputModel",
      "state": {
       "layout": "IPY_MODEL_1dade21c78304512b012c87b919a718e"
      }
     },
     "4a6579ae322a4a5a9230e1167233273c": {
      "model_module": "@jupyter-widgets/controls",
      "model_module_version": "1.5.0",
      "model_name": "LabelModel",
      "state": {
       "layout": "IPY_MODEL_968a6eb45b224f159a1c5df5f2800d52",
       "style": "IPY_MODEL_c5c5ac50a30e478690e074037a279060"
      }
     },
     "4b0927a2a4be42f0a699daab987c7878": {
      "model_module": "@jupyter-widgets/base",
      "model_module_version": "1.2.0",
      "model_name": "LayoutModel",
      "state": {}
     },
     "4ba3b3ba643a4197b27c34704ff178ac": {
      "model_module": "@jupyter-widgets/controls",
      "model_module_version": "1.5.0",
      "model_name": "ComboboxModel",
      "state": {
       "description": "End: ",
       "ensure_option": false,
       "layout": "IPY_MODEL_7515566f4a4347b49cafe0a787a2659a",
       "options": [
        "AC",
        "ACh",
        "AP-1",
        "ATF1",
        "ATF2",
        "CRE",
        "CREB",
        "Ca2+in",
        "Ca2+in DAG",
        "Ca2+mob",
        "Ca2+mob DAG",
        "CaM",
        "CaMKII",
        "CaMKIV",
        "CnA",
        "DAG",
        "ENKCRE",
        "ENKCRE ENKCnARE/CaRE",
        "ENKCnARE/CaRE",
        "ERK",
        "Elk",
        "FOR",
        "Fos",
        "Fos Jun",
        "IP3",
        "JNK",
        "JNKK",
        "Jun",
        "KCl",
        "MAPK",
        "MAPKAPK2/3",
        "MEK",
        "MEKK",
        "MKK6",
        "NFAT",
        "PACAP",
        "PEnkgeneholo",
        "PKA",
        "PKC",
        "PKC-theta",
        "PLC",
        "RSK2",
        "Raf",
        "Rap1",
        "Ras",
        "RasGRF",
        "TRE",
        "VIPCRE",
        "VIPCnARE/CaRE",
        "VIPCnARE/CaRE VIPCRE",
        "VIPgeneCRE",
        "VIPgeneCnARE/CaRE",
        "VIPgeneholo",
        "cAMP",
        "cAMP-GEFII",
        "cAMP/Ca2+in",
        "neurites",
        "p38"
       ],
       "placeholder": "Type here",
       "style": "IPY_MODEL_86dbf25e303443759e818adf29267e9d"
      }
     },
     "4d6340d9ba8644d38616de7696796d04": {
      "model_module": "@jupyter-widgets/base",
      "model_module_version": "1.2.0",
      "model_name": "LayoutModel",
      "state": {
       "width": "50%"
      }
     },
     "4e4f1323a62f4e8eb6988fad6ed8312c": {
      "model_module": "@jupyter-widgets/base",
      "model_module_version": "1.2.0",
      "model_name": "LayoutModel",
      "state": {}
     },
     "4efece3b4a14471c8d6b191f81e4702d": {
      "model_module": "@jupyter-widgets/base",
      "model_module_version": "1.2.0",
      "model_name": "LayoutModel",
      "state": {
       "width": "50%"
      }
     },
     "500dd2943d564ed087c9e5fa57a3d022": {
      "model_module": "@jupyter-widgets/base",
      "model_module_version": "1.2.0",
      "model_name": "LayoutModel",
      "state": {}
     },
     "505a782f4c434341b6fb1ad80ac14087": {
      "model_module": "@jupyter-widgets/controls",
      "model_module_version": "1.5.0",
      "model_name": "SelectMultipleModel",
      "state": {
       "_options_labels": [
        "AC",
        "ACh",
        "AP-1",
        "ATF1",
        "ATF2",
        "CRE",
        "CREB",
        "Ca2+in",
        "Ca2+in DAG",
        "Ca2+mob",
        "Ca2+mob DAG",
        "CaM",
        "CaMKII",
        "CaMKIV",
        "CnA",
        "DAG",
        "ENKCRE",
        "ENKCRE ENKCnARE/CaRE",
        "ENKCnARE/CaRE",
        "ERK",
        "Elk",
        "FOR",
        "Fos",
        "Fos Jun",
        "IP3",
        "JNK",
        "JNKK",
        "Jun",
        "KCl",
        "MAPK",
        "MAPKAPK2/3",
        "MEK",
        "MEKK",
        "MKK6",
        "NFAT",
        "PACAP",
        "PEnkgeneholo",
        "PKA",
        "PKC",
        "PKC-theta",
        "PLC",
        "RSK2",
        "Raf",
        "Rap1",
        "Ras",
        "RasGRF",
        "TRE",
        "VIPCRE",
        "VIPCnARE/CaRE",
        "VIPCnARE/CaRE VIPCRE",
        "VIPgeneCRE",
        "VIPgeneCnARE/CaRE",
        "VIPgeneholo",
        "cAMP",
        "cAMP-GEFII",
        "cAMP/Ca2+in",
        "neurites",
        "p38"
       ],
       "description": "Inhibit: ",
       "index": [],
       "layout": "IPY_MODEL_bfb4c962f33b4652b4eb1b8cdfb0e0f8",
       "rows": 5,
       "style": "IPY_MODEL_0a4e4ff42a334e15a37dea394a643b18"
      }
     },
     "512c2978708a41b2887d30add92f7897": {
      "model_module": "@jupyter-widgets/base",
      "model_module_version": "1.2.0",
      "model_name": "LayoutModel",
      "state": {}
     },
     "51df9eb75bf34e66aa9d49d1d3542075": {
      "model_module": "@jupyter-widgets/controls",
      "model_module_version": "1.5.0",
      "model_name": "ComboboxModel",
      "state": {
       "description": "End: ",
       "ensure_option": false,
       "layout": "IPY_MODEL_c6b95ac340074aea94055d28a1cb5c18",
       "options": [
        "AC",
        "ACh",
        "AP-1",
        "ATF1",
        "ATF2",
        "CRE",
        "CREB",
        "Ca2+in",
        "Ca2+in DAG",
        "Ca2+mob",
        "Ca2+mob DAG",
        "CaM",
        "CaMKII",
        "CaMKIV",
        "CnA",
        "DAG",
        "ENKCRE",
        "ENKCRE ENKCnARE/CaRE",
        "ENKCnARE/CaRE",
        "ERK",
        "Elk",
        "FOR",
        "Fos",
        "Fos Jun",
        "IP3",
        "JNK",
        "JNKK",
        "Jun",
        "KCl",
        "MAPK",
        "MAPKAPK2/3",
        "MEK",
        "MEKK",
        "MKK6",
        "NFAT",
        "PACAP",
        "PEnkgeneholo",
        "PKA",
        "PKC",
        "PKC-theta",
        "PLC",
        "RSK2",
        "Raf",
        "Rap1",
        "Ras",
        "RasGRF",
        "TRE",
        "VIPCRE",
        "VIPCnARE/CaRE",
        "VIPCnARE/CaRE VIPCRE",
        "VIPgeneCRE",
        "VIPgeneCnARE/CaRE",
        "VIPgeneholo",
        "cAMP",
        "cAMP-GEFII",
        "cAMP/Ca2+in",
        "neurites",
        "p38"
       ],
       "placeholder": "Type here",
       "style": "IPY_MODEL_aefffdf7351644b587669bfbad896226"
      }
     },
     "520ec534e2b54dac8ee012fef4ed113d": {
      "model_module": "@jupyter-widgets/base",
      "model_module_version": "1.2.0",
      "model_name": "LayoutModel",
      "state": {
       "width": "50%"
      }
     },
     "52251e230ff248ef8eaa16e8ea490d3c": {
      "model_module": "@jupyter-widgets/output",
      "model_module_version": "1.0.0",
      "model_name": "OutputModel",
      "state": {
       "layout": "IPY_MODEL_3ec26f105aef40d9883fc8523ae79925"
      }
     },
     "52b2d1332e61461fbabc89270595d302": {
      "model_module": "@jupyter-widgets/base",
      "model_module_version": "1.2.0",
      "model_name": "LayoutModel",
      "state": {}
     },
     "5325551f154b459598a5568b607344e9": {
      "model_module": "@jupyter-widgets/base",
      "model_module_version": "1.2.0",
      "model_name": "LayoutModel",
      "state": {
       "width": "50%"
      }
     },
     "5349e40dd6b2458187fcc6ccb9ed34be": {
      "model_module": "@jupyter-widgets/controls",
      "model_module_version": "1.5.0",
      "model_name": "LabelModel",
      "state": {
       "layout": "IPY_MODEL_bd9c00999202431ba4d6b045e447048f",
       "style": "IPY_MODEL_f9b6bc6f547f4faeb05a912b444a858b"
      }
     },
     "538bb9bc686d4002acbe6e0811caa103": {
      "model_module": "@jupyter-widgets/controls",
      "model_module_version": "1.5.0",
      "model_name": "LabelModel",
      "state": {
       "layout": "IPY_MODEL_b48a132deb554a55aee8463ef3112fb0",
       "style": "IPY_MODEL_23473609a5f941b9ac065f6f5fdf6bff"
      }
     },
     "53b2b206b8934f5b9531cb150c3d6c49": {
      "model_module": "@jupyter-widgets/controls",
      "model_module_version": "1.5.0",
      "model_name": "VBoxModel",
      "state": {
       "children": [
        "IPY_MODEL_5671115c44024b00add208771a8d3867",
        "IPY_MODEL_e6751aefa8bd41359811862e839f47cd",
        "IPY_MODEL_a1587e50905e4f039f67b6d7b6d2753f",
        "IPY_MODEL_9c917d1e44f2494585b65e889578235d",
        "IPY_MODEL_602194d062f64c518b471aceda020b4b",
        "IPY_MODEL_f27636587a444adc92cbf82918f33740",
        "IPY_MODEL_65539affa72e401d9cbde4ddb126af5f"
       ],
       "layout": "IPY_MODEL_b3f51f0e5430432b9cd6540e760f91bc"
      }
     },
     "5412c25c6e1d4c0aaa2cd25d2cca52e7": {
      "model_module": "@jupyter-widgets/controls",
      "model_module_version": "1.5.0",
      "model_name": "ButtonModel",
      "state": {
       "description": "Produce Output",
       "layout": "IPY_MODEL_9d0c1d90801a44b2921ec5c0de787e71",
       "style": "IPY_MODEL_f7bac165196144958816944b78aa6a74"
      }
     },
     "543270133c1543c8941f28d0fbba9dce": {
      "model_module": "@jupyter-widgets/output",
      "model_module_version": "1.0.0",
      "model_name": "OutputModel",
      "state": {
       "layout": "IPY_MODEL_97ff226b6fae42bfb2bd411e0424f7de"
      }
     },
     "54379ebfea0d4759b622ff5d8c05bcfc": {
      "model_module": "@jupyter-widgets/base",
      "model_module_version": "1.2.0",
      "model_name": "LayoutModel",
      "state": {}
     },
     "562c61578cef4c7fbe7c776e8728c427": {
      "model_module": "@jupyter-widgets/controls",
      "model_module_version": "1.5.0",
      "model_name": "DescriptionStyleModel",
      "state": {
       "description_width": ""
      }
     },
     "566b608baefc4985990566e07d6a8d94": {
      "model_module": "@jupyter-widgets/controls",
      "model_module_version": "1.5.0",
      "model_name": "DescriptionStyleModel",
      "state": {
       "description_width": ""
      }
     },
     "5671115c44024b00add208771a8d3867": {
      "model_module": "@jupyter-widgets/controls",
      "model_module_version": "1.5.0",
      "model_name": "LabelModel",
      "state": {
       "layout": "IPY_MODEL_889822d8d11f4d01979c1ef954468e00",
       "style": "IPY_MODEL_b5623f5ad21a48b68a5d42651587eec6",
       "value": "Choose Start, End and Inhibited elements"
      }
     },
     "5693a972bb0f4b2086c1d840c4f35ba5": {
      "model_module": "@jupyter-widgets/controls",
      "model_module_version": "1.5.0",
      "model_name": "DescriptionStyleModel",
      "state": {
       "description_width": ""
      }
     },
     "569e2dd8335c4e18b3b70e0866bc9cec": {
      "model_module": "@jupyter-widgets/base",
      "model_module_version": "1.2.0",
      "model_name": "LayoutModel",
      "state": {}
     },
     "5771e83574844474bf4d7756c9c6b635": {
      "model_module": "@jupyter-widgets/base",
      "model_module_version": "1.2.0",
      "model_name": "LayoutModel",
      "state": {
       "width": "50%"
      }
     },
     "57da5b96a8194130a6da4c1e81d7cc3f": {
      "model_module": "@jupyter-widgets/base",
      "model_module_version": "1.2.0",
      "model_name": "LayoutModel",
      "state": {
       "width": "50%"
      }
     },
     "5866c382f0024abfbfb3e654a34bd6d0": {
      "model_module": "@jupyter-widgets/controls",
      "model_module_version": "1.5.0",
      "model_name": "ComboboxModel",
      "state": {
       "description": "Start: ",
       "ensure_option": false,
       "layout": "IPY_MODEL_e0d315b78a4b482db68a8c8b16b31f4c",
       "options": [
        "AC",
        "ACh",
        "AP-1",
        "ATF1",
        "ATF2",
        "CRE",
        "CREB",
        "Ca2+in",
        "Ca2+in DAG",
        "Ca2+mob",
        "Ca2+mob DAG",
        "CaM",
        "CaMKII",
        "CaMKIV",
        "CnA",
        "DAG",
        "ENKCRE",
        "ENKCRE ENKCnARE/CaRE",
        "ENKCnARE/CaRE",
        "ERK",
        "Elk",
        "FOR",
        "Fos",
        "Fos Jun",
        "IP3",
        "JNK",
        "JNKK",
        "Jun",
        "KCl",
        "MAPK",
        "MAPKAPK2/3",
        "MEK",
        "MEKK",
        "MKK6",
        "NFAT",
        "PACAP",
        "PEnkgeneholo",
        "PKA",
        "PKC",
        "PKC-theta",
        "PLC",
        "RSK2",
        "Raf",
        "Rap1",
        "Ras",
        "RasGRF",
        "TRE",
        "VIPCRE",
        "VIPCnARE/CaRE",
        "VIPCnARE/CaRE VIPCRE",
        "VIPgeneCRE",
        "VIPgeneCnARE/CaRE",
        "VIPgeneholo",
        "cAMP",
        "cAMP-GEFII",
        "cAMP/Ca2+in",
        "neurites",
        "p38"
       ],
       "placeholder": "Type here",
       "style": "IPY_MODEL_112d5595cb1e4760965fec3125e45d91"
      }
     },
     "598b1d4d124e4eca91ca0489c1db4964": {
      "model_module": "@jupyter-widgets/controls",
      "model_module_version": "1.5.0",
      "model_name": "ComboboxModel",
      "state": {
       "description": "Start: ",
       "ensure_option": false,
       "layout": "IPY_MODEL_a0ec9d22b7af41a7aba873390d9832af",
       "options": [
        "AC",
        "ACh",
        "AP-1",
        "ATF1",
        "ATF2",
        "CRE",
        "CREB",
        "Ca2+in",
        "Ca2+in DAG",
        "Ca2+mob",
        "Ca2+mob DAG",
        "CaM",
        "CaMKII",
        "CaMKIV",
        "CnA",
        "DAG",
        "ENKCRE",
        "ENKCRE ENKCnARE/CaRE",
        "ENKCnARE/CaRE",
        "ERK",
        "Elk",
        "FOR",
        "Fos",
        "Fos Jun",
        "IP3",
        "JNK",
        "JNKK",
        "Jun",
        "KCl",
        "MAPK",
        "MAPKAPK2/3",
        "MEK",
        "MEKK",
        "MKK6",
        "NFAT",
        "PACAP",
        "PEnkgeneholo",
        "PKA",
        "PKC",
        "PKC-theta",
        "PLC",
        "RSK2",
        "Raf",
        "Rap1",
        "Ras",
        "RasGRF",
        "TRE",
        "VIPCRE",
        "VIPCnARE/CaRE",
        "VIPCnARE/CaRE VIPCRE",
        "VIPgeneCRE",
        "VIPgeneCnARE/CaRE",
        "VIPgeneholo",
        "cAMP",
        "cAMP-GEFII",
        "cAMP/Ca2+in",
        "neurites",
        "p38"
       ],
       "placeholder": "Type here",
       "style": "IPY_MODEL_f8cd829a9db844ad8c30eb145a6e6984"
      }
     },
     "5a437ffb5b2244059717708eb1088e52": {
      "model_module": "@jupyter-widgets/controls",
      "model_module_version": "1.5.0",
      "model_name": "ComboboxModel",
      "state": {
       "description": "Start: ",
       "ensure_option": false,
       "layout": "IPY_MODEL_d2008096d0604232ae5c2bc47ea6d1d0",
       "options": [
        "AC",
        "ACh",
        "AP-1",
        "ATF1",
        "ATF2",
        "CRE",
        "CREB",
        "Ca2+in",
        "Ca2+in DAG",
        "Ca2+mob",
        "Ca2+mob DAG",
        "CaM",
        "CaMKII",
        "CaMKIV",
        "CnA",
        "DAG",
        "ENKCRE",
        "ENKCRE ENKCnARE/CaRE",
        "ENKCnARE/CaRE",
        "ERK",
        "Elk",
        "FOR",
        "Fos",
        "Fos Jun",
        "IP3",
        "JNK",
        "JNKK",
        "Jun",
        "KCl",
        "MAPK",
        "MAPKAPK2/3",
        "MEK",
        "MEKK",
        "MKK6",
        "NFAT",
        "PACAP",
        "PEnkgeneholo",
        "PKA",
        "PKC",
        "PKC-theta",
        "PLC",
        "RSK2",
        "Raf",
        "Rap1",
        "Ras",
        "RasGRF",
        "TRE",
        "VIPCRE",
        "VIPCnARE/CaRE",
        "VIPCnARE/CaRE VIPCRE",
        "VIPgeneCRE",
        "VIPgeneCnARE/CaRE",
        "VIPgeneholo",
        "cAMP",
        "cAMP-GEFII",
        "cAMP/Ca2+in",
        "neurites",
        "p38"
       ],
       "placeholder": "Type here",
       "style": "IPY_MODEL_562c61578cef4c7fbe7c776e8728c427"
      }
     },
     "5b404d5feea9421dac1a973302ef9fbb": {
      "model_module": "@jupyter-widgets/base",
      "model_module_version": "1.2.0",
      "model_name": "LayoutModel",
      "state": {}
     },
     "5c2a99a561144a089beb6130182063f0": {
      "model_module": "@jupyter-widgets/controls",
      "model_module_version": "1.5.0",
      "model_name": "DescriptionStyleModel",
      "state": {
       "description_width": ""
      }
     },
     "5db84924cd24441fbedc013b3bb3d8ef": {
      "model_module": "@jupyter-widgets/controls",
      "model_module_version": "1.5.0",
      "model_name": "SelectMultipleModel",
      "state": {
       "_options_labels": [
        "AC",
        "ACh",
        "AP-1",
        "ATF1",
        "ATF2",
        "CRE",
        "CREB",
        "Ca2+in",
        "Ca2+in DAG",
        "Ca2+mob",
        "Ca2+mob DAG",
        "CaM",
        "CaMKII",
        "CaMKIV",
        "CnA",
        "DAG",
        "ENKCRE",
        "ENKCRE ENKCnARE/CaRE",
        "ENKCnARE/CaRE",
        "ERK",
        "Elk",
        "FOR",
        "Fos",
        "Fos Jun",
        "IP3",
        "JNK",
        "JNKK",
        "Jun",
        "KCl",
        "MAPK",
        "MAPKAPK2/3",
        "MEK",
        "MEKK",
        "MKK6",
        "NFAT",
        "PACAP",
        "PEnkgeneholo",
        "PKA",
        "PKC",
        "PKC-theta",
        "PLC",
        "RSK2",
        "Raf",
        "Rap1",
        "Ras",
        "RasGRF",
        "TRE",
        "VIPCRE",
        "VIPCnARE/CaRE",
        "VIPCnARE/CaRE VIPCRE",
        "VIPgeneCRE",
        "VIPgeneCnARE/CaRE",
        "VIPgeneholo",
        "cAMP",
        "cAMP-GEFII",
        "cAMP/Ca2+in",
        "neurites",
        "p38"
       ],
       "description": "Inhibit: ",
       "index": [],
       "layout": "IPY_MODEL_520ec534e2b54dac8ee012fef4ed113d",
       "rows": 5,
       "style": "IPY_MODEL_04d042c5796a4993a5df4d7d7769a1f7"
      }
     },
     "5e20d181f27e4b32af168fab4c16abe5": {
      "model_module": "@jupyter-widgets/base",
      "model_module_version": "1.2.0",
      "model_name": "LayoutModel",
      "state": {
       "width": "50%"
      }
     },
     "5f0b76838e024c9a9d1df8f8d45dcdc6": {
      "model_module": "@jupyter-widgets/controls",
      "model_module_version": "1.5.0",
      "model_name": "DescriptionStyleModel",
      "state": {
       "description_width": ""
      }
     },
     "5f9baccfa8eb4079b51c1b4f0937a822": {
      "model_module": "@jupyter-widgets/base",
      "model_module_version": "1.2.0",
      "model_name": "LayoutModel",
      "state": {}
     },
     "5fe8eb6fc98241e689e2aeb7c041a218": {
      "model_module": "@jupyter-widgets/controls",
      "model_module_version": "1.5.0",
      "model_name": "ComboboxModel",
      "state": {
       "description": "End: ",
       "ensure_option": false,
       "layout": "IPY_MODEL_069bfc925aff4c4e8161910a1a318a1a",
       "options": [
        "AC",
        "ACh",
        "AP-1",
        "ATF1",
        "ATF2",
        "CRE",
        "CREB",
        "Ca2+in",
        "Ca2+in DAG",
        "Ca2+mob",
        "Ca2+mob DAG",
        "CaM",
        "CaMKII",
        "CaMKIV",
        "CnA",
        "DAG",
        "ENKCRE",
        "ENKCRE ENKCnARE/CaRE",
        "ENKCnARE/CaRE",
        "ERK",
        "Elk",
        "FOR",
        "Fos",
        "Fos Jun",
        "IP3",
        "JNK",
        "JNKK",
        "Jun",
        "KCl",
        "MAPK",
        "MAPKAPK2/3",
        "MEK",
        "MEKK",
        "MKK6",
        "NFAT",
        "PACAP",
        "PEnkgeneholo",
        "PKA",
        "PKC",
        "PKC-theta",
        "PLC",
        "RSK2",
        "Raf",
        "Rap1",
        "Ras",
        "RasGRF",
        "TRE",
        "VIPCRE",
        "VIPCnARE/CaRE",
        "VIPCnARE/CaRE VIPCRE",
        "VIPgeneCRE",
        "VIPgeneCnARE/CaRE",
        "VIPgeneholo",
        "cAMP",
        "cAMP-GEFII",
        "cAMP/Ca2+in",
        "neurites",
        "p38"
       ],
       "placeholder": "Type here",
       "style": "IPY_MODEL_492016cf2e974c8d9daf73926cb20432"
      }
     },
     "602194d062f64c518b471aceda020b4b": {
      "model_module": "@jupyter-widgets/controls",
      "model_module_version": "1.5.0",
      "model_name": "ButtonModel",
      "state": {
       "description": "Produce Output",
       "layout": "IPY_MODEL_f5952266463e40fcae444206f45da53a",
       "style": "IPY_MODEL_0b9a332fc0c1442a8be3401dc9730bb2"
      }
     },
     "6074aae88b3f4fd8b55b5b90dfc59bc6": {
      "model_module": "@jupyter-widgets/controls",
      "model_module_version": "1.5.0",
      "model_name": "ComboboxModel",
      "state": {
       "description": "End: ",
       "ensure_option": false,
       "layout": "IPY_MODEL_969ba391adf64e279eed5e3f488104fa",
       "options": [
        "AC",
        "ACh",
        "AP-1",
        "ATF1",
        "ATF2",
        "CRE",
        "CREB",
        "Ca2+in",
        "Ca2+in DAG",
        "Ca2+mob",
        "Ca2+mob DAG",
        "CaM",
        "CaMKII",
        "CaMKIV",
        "CnA",
        "DAG",
        "ENKCRE",
        "ENKCRE ENKCnARE/CaRE",
        "ENKCnARE/CaRE",
        "ERK",
        "Elk",
        "FOR",
        "Fos",
        "Fos Jun",
        "IP3",
        "JNK",
        "JNKK",
        "Jun",
        "KCl",
        "MAPK",
        "MAPKAPK2/3",
        "MEK",
        "MEKK",
        "MKK6",
        "NFAT",
        "PACAP",
        "PEnkgeneholo",
        "PKA",
        "PKC",
        "PKC-theta",
        "PLC",
        "RSK2",
        "Raf",
        "Rap1",
        "Ras",
        "RasGRF",
        "TRE",
        "VIPCRE",
        "VIPCnARE/CaRE",
        "VIPCnARE/CaRE VIPCRE",
        "VIPgeneCRE",
        "VIPgeneCnARE/CaRE",
        "VIPgeneholo",
        "cAMP",
        "cAMP-GEFII",
        "cAMP/Ca2+in",
        "neurites",
        "p38"
       ],
       "placeholder": "Type here",
       "style": "IPY_MODEL_05a8db1bcee44caab01bae2c3e2e379b"
      }
     },
     "60d1ff4c563046b0b5b8ed57b23a50bb": {
      "model_module": "@jupyter-widgets/controls",
      "model_module_version": "1.5.0",
      "model_name": "ButtonStyleModel",
      "state": {}
     },
     "61441586a4e043f98a86a6cd0ec32623": {
      "model_module": "@jupyter-widgets/controls",
      "model_module_version": "1.5.0",
      "model_name": "DescriptionStyleModel",
      "state": {
       "description_width": ""
      }
     },
     "61622e680cc44cfa8fb4856dcd71e038": {
      "model_module": "@jupyter-widgets/base",
      "model_module_version": "1.2.0",
      "model_name": "LayoutModel",
      "state": {}
     },
     "641dfcc3a15741c88c20fd5dcadc5c4e": {
      "model_module": "@jupyter-widgets/base",
      "model_module_version": "1.2.0",
      "model_name": "LayoutModel",
      "state": {
       "width": "50%"
      }
     },
     "64724c2d28f4454ba08d88361bd98ff9": {
      "model_module": "@jupyter-widgets/controls",
      "model_module_version": "1.5.0",
      "model_name": "DescriptionStyleModel",
      "state": {
       "description_width": ""
      }
     },
     "65539affa72e401d9cbde4ddb126af5f": {
      "model_module": "@jupyter-widgets/output",
      "model_module_version": "1.0.0",
      "model_name": "OutputModel",
      "state": {
       "layout": "IPY_MODEL_c9aa85173209448787be8acbaf75783a"
      }
     },
     "6705ff8c9c844ac796bc186f0ee233b9": {
      "model_module": "@jupyter-widgets/base",
      "model_module_version": "1.2.0",
      "model_name": "LayoutModel",
      "state": {
       "width": "50%"
      }
     },
     "67313978a0c1457fad2070f3efa76eb7": {
      "model_module": "@jupyter-widgets/base",
      "model_module_version": "1.2.0",
      "model_name": "LayoutModel",
      "state": {
       "width": "50%"
      }
     },
     "6872051f42d242d5af11e3dfdac1bdf9": {
      "model_module": "@jupyter-widgets/controls",
      "model_module_version": "1.5.0",
      "model_name": "LabelModel",
      "state": {
       "layout": "IPY_MODEL_500dd2943d564ed087c9e5fa57a3d022",
       "style": "IPY_MODEL_64724c2d28f4454ba08d88361bd98ff9"
      }
     },
     "6878394a7ddc497281f7bb60390c132a": {
      "model_module": "@jupyter-widgets/controls",
      "model_module_version": "1.5.0",
      "model_name": "VBoxModel",
      "state": {
       "children": [
        "IPY_MODEL_96c5b8a73ca54776b3e25f6c3241b233",
        "IPY_MODEL_598b1d4d124e4eca91ca0489c1db4964",
        "IPY_MODEL_a59d3c77633b4c13a45b0ad2f8685655",
        "IPY_MODEL_8dfda344e9b04674b5986b6773e070fb",
        "IPY_MODEL_f72684fe3aef422889ffab60d5317358",
        "IPY_MODEL_43013e2dbd654dd4986895d49e2c4386",
        "IPY_MODEL_543270133c1543c8941f28d0fbba9dce"
       ],
       "layout": "IPY_MODEL_86bd9170ca8b4208aa065e23885a20c5"
      }
     },
     "69d8f0640c324fe9aad630e5a56856ce": {
      "model_module": "@jupyter-widgets/controls",
      "model_module_version": "1.5.0",
      "model_name": "DescriptionStyleModel",
      "state": {
       "description_width": ""
      }
     },
     "6a0a5bd9458542c6926a26d8b6fc5831": {
      "model_module": "@jupyter-widgets/controls",
      "model_module_version": "1.5.0",
      "model_name": "DescriptionStyleModel",
      "state": {
       "description_width": ""
      }
     },
     "6d58b998144345fea43befa41b3f515f": {
      "model_module": "@jupyter-widgets/controls",
      "model_module_version": "1.5.0",
      "model_name": "LabelModel",
      "state": {
       "layout": "IPY_MODEL_2c917a8ae15e41b49e66a7de2bbaa90a",
       "style": "IPY_MODEL_faae1ccf6d924b13a20557b06be0c011",
       "value": "Choose Start, End and Inhibited elements"
      }
     },
     "6d8ceba88b52473daa2df553e67d45ad": {
      "model_module": "@jupyter-widgets/output",
      "model_module_version": "1.0.0",
      "model_name": "OutputModel",
      "state": {
       "layout": "IPY_MODEL_7e9fa8fa1cdf4982afaa32b2bbc2b3b7"
      }
     },
     "6d8d039f4310450db9cf9b4ade2ecfa3": {
      "model_module": "@jupyter-widgets/controls",
      "model_module_version": "1.5.0",
      "model_name": "DescriptionStyleModel",
      "state": {
       "description_width": ""
      }
     },
     "6d8f44dfdc3f4daf8c4dc1a978963b3e": {
      "model_module": "@jupyter-widgets/controls",
      "model_module_version": "1.5.0",
      "model_name": "DescriptionStyleModel",
      "state": {
       "description_width": ""
      }
     },
     "6e4c556acdb14d7ab72a87dc3db0f8f7": {
      "model_module": "@jupyter-widgets/controls",
      "model_module_version": "1.5.0",
      "model_name": "ComboboxModel",
      "state": {
       "description": "Start: ",
       "ensure_option": false,
       "layout": "IPY_MODEL_ad328b053a9b4fcaaf99d4b3e6425515",
       "options": [
        "AC",
        "ACh",
        "AP-1",
        "ATF1",
        "ATF2",
        "CRE",
        "CREB",
        "Ca2+in",
        "Ca2+in DAG",
        "Ca2+mob",
        "Ca2+mob DAG",
        "CaM",
        "CaMKII",
        "CaMKIV",
        "CnA",
        "DAG",
        "ENKCRE",
        "ENKCRE ENKCnARE/CaRE",
        "ENKCnARE/CaRE",
        "ERK",
        "Elk",
        "FOR",
        "Fos",
        "Fos Jun",
        "IP3",
        "JNK",
        "JNKK",
        "Jun",
        "KCl",
        "MAPK",
        "MAPKAPK2/3",
        "MEK",
        "MEKK",
        "MKK6",
        "NFAT",
        "PACAP",
        "PEnkgeneholo",
        "PKA",
        "PKC",
        "PKC-theta",
        "PLC",
        "RSK2",
        "Raf",
        "Rap1",
        "Ras",
        "RasGRF",
        "TRE",
        "VIPCRE",
        "VIPCnARE/CaRE",
        "VIPCnARE/CaRE VIPCRE",
        "VIPgeneCRE",
        "VIPgeneCnARE/CaRE",
        "VIPgeneholo",
        "cAMP",
        "cAMP-GEFII",
        "cAMP/Ca2+in",
        "neurites",
        "p38"
       ],
       "placeholder": "Type here",
       "style": "IPY_MODEL_216ee6346a764ef580f6de11426d230f"
      }
     },
     "6e9c8bc4556b434294a5f6d2cfdaa5b9": {
      "model_module": "@jupyter-widgets/base",
      "model_module_version": "1.2.0",
      "model_name": "LayoutModel",
      "state": {}
     },
     "6f058d2b50dd4e18a5f95dbdf80f26b6": {
      "model_module": "@jupyter-widgets/controls",
      "model_module_version": "1.5.0",
      "model_name": "LabelModel",
      "state": {
       "layout": "IPY_MODEL_512c2978708a41b2887d30add92f7897",
       "style": "IPY_MODEL_15fa5e087c404f33a036c6b692fcbad1",
       "value": "Choose Start, End and Inhibited elements"
      }
     },
     "6f9a2b6911fd43e782b67702f461eb5c": {
      "model_module": "@jupyter-widgets/controls",
      "model_module_version": "1.5.0",
      "model_name": "ButtonModel",
      "state": {
       "description": "Produce Output",
       "layout": "IPY_MODEL_081f1361111c4b9791d19be1c01f8c00",
       "style": "IPY_MODEL_9785168bc6d34f08b082770e575ac705"
      }
     },
     "7033f4d745a54828b50f129fed0e0f95": {
      "model_module": "@jupyter-widgets/base",
      "model_module_version": "1.2.0",
      "model_name": "LayoutModel",
      "state": {
       "width": "50%"
      }
     },
     "711a335c4ff54f398b7dacae17c8a23c": {
      "model_module": "@jupyter-widgets/base",
      "model_module_version": "1.2.0",
      "model_name": "LayoutModel",
      "state": {}
     },
     "737aaab7be294ce280b4809bee406cf9": {
      "model_module": "@jupyter-widgets/base",
      "model_module_version": "1.2.0",
      "model_name": "LayoutModel",
      "state": {}
     },
     "73adc8ca4842477f82f92fb16f4e0e58": {
      "model_module": "@jupyter-widgets/controls",
      "model_module_version": "1.5.0",
      "model_name": "DescriptionStyleModel",
      "state": {
       "description_width": ""
      }
     },
     "7515566f4a4347b49cafe0a787a2659a": {
      "model_module": "@jupyter-widgets/base",
      "model_module_version": "1.2.0",
      "model_name": "LayoutModel",
      "state": {
       "width": "50%"
      }
     },
     "769199073e994f26a15e95b7b7a54057": {
      "model_module": "@jupyter-widgets/controls",
      "model_module_version": "1.5.0",
      "model_name": "DescriptionStyleModel",
      "state": {
       "description_width": ""
      }
     },
     "76d17ec9324847438d7ab33b313110e4": {
      "model_module": "@jupyter-widgets/controls",
      "model_module_version": "1.5.0",
      "model_name": "LabelModel",
      "state": {
       "layout": "IPY_MODEL_711a335c4ff54f398b7dacae17c8a23c",
       "style": "IPY_MODEL_e82c0fb05b804e968fc6106b63b6688b",
       "value": "Choose Start, End and Inhibited elements"
      }
     },
     "77ab13d7b8294e16a5f657dd1b37779b": {
      "model_module": "@jupyter-widgets/output",
      "model_module_version": "1.0.0",
      "model_name": "OutputModel",
      "state": {
       "layout": "IPY_MODEL_d90c4a986a9844b8b3bf6ce6b8137ec1"
      }
     },
     "78822d23753a494fa78c9bf557531145": {
      "model_module": "@jupyter-widgets/controls",
      "model_module_version": "1.5.0",
      "model_name": "ButtonStyleModel",
      "state": {}
     },
     "78bc56ff85fe4dae8a04ce5e17435e20": {
      "model_module": "@jupyter-widgets/base",
      "model_module_version": "1.2.0",
      "model_name": "LayoutModel",
      "state": {}
     },
     "7ab2f6828f7f4e6494a94149c6b6eb18": {
      "model_module": "@jupyter-widgets/base",
      "model_module_version": "1.2.0",
      "model_name": "LayoutModel",
      "state": {}
     },
     "7ad3440b4b294859b03595767be6149b": {
      "model_module": "@jupyter-widgets/controls",
      "model_module_version": "1.5.0",
      "model_name": "ComboboxModel",
      "state": {
       "description": "Start: ",
       "ensure_option": false,
       "layout": "IPY_MODEL_bf25b67cc9984786aec74a7d121d704d",
       "options": [
        "AC",
        "ACh",
        "AP-1",
        "ATF1",
        "ATF2",
        "CRE",
        "CREB",
        "Ca2+in",
        "Ca2+in DAG",
        "Ca2+mob",
        "Ca2+mob DAG",
        "CaM",
        "CaMKII",
        "CaMKIV",
        "CnA",
        "DAG",
        "ENKCRE",
        "ENKCRE ENKCnARE/CaRE",
        "ENKCnARE/CaRE",
        "ERK",
        "Elk",
        "FOR",
        "Fos",
        "Fos Jun",
        "IP3",
        "JNK",
        "JNKK",
        "Jun",
        "KCl",
        "MAPK",
        "MAPKAPK2/3",
        "MEK",
        "MEKK",
        "MKK6",
        "NFAT",
        "PACAP",
        "PEnkgeneholo",
        "PKA",
        "PKC",
        "PKC-theta",
        "PLC",
        "RSK2",
        "Raf",
        "Rap1",
        "Ras",
        "RasGRF",
        "TRE",
        "VIPCRE",
        "VIPCnARE/CaRE",
        "VIPCnARE/CaRE VIPCRE",
        "VIPgeneCRE",
        "VIPgeneCnARE/CaRE",
        "VIPgeneholo",
        "cAMP",
        "cAMP-GEFII",
        "cAMP/Ca2+in",
        "neurites",
        "p38"
       ],
       "placeholder": "Type here",
       "style": "IPY_MODEL_dfb7b9c563aa40028671ac4c93593f06"
      }
     },
     "7af56fe25b1c4947b0d0fdfb3d70968a": {
      "model_module": "@jupyter-widgets/base",
      "model_module_version": "1.2.0",
      "model_name": "LayoutModel",
      "state": {}
     },
     "7b8ec642bac942308d2ddef6257abe80": {
      "model_module": "@jupyter-widgets/base",
      "model_module_version": "1.2.0",
      "model_name": "LayoutModel",
      "state": {
       "width": "50%"
      }
     },
     "7c596677a8824ecbb7c7c97c114344b5": {
      "model_module": "@jupyter-widgets/controls",
      "model_module_version": "1.5.0",
      "model_name": "SelectMultipleModel",
      "state": {
       "_options_labels": [
        "AC",
        "ACh",
        "AP-1",
        "ATF1",
        "ATF2",
        "CRE",
        "CREB",
        "Ca2+in",
        "Ca2+in DAG",
        "Ca2+mob",
        "Ca2+mob DAG",
        "CaM",
        "CaMKII",
        "CaMKIV",
        "CnA",
        "DAG",
        "ENKCRE",
        "ENKCRE ENKCnARE/CaRE",
        "ENKCnARE/CaRE",
        "ERK",
        "Elk",
        "FOR",
        "Fos",
        "Fos Jun",
        "IP3",
        "JNK",
        "JNKK",
        "Jun",
        "KCl",
        "MAPK",
        "MAPKAPK2/3",
        "MEK",
        "MEKK",
        "MKK6",
        "NFAT",
        "PACAP",
        "PEnkgeneholo",
        "PKA",
        "PKC",
        "PKC-theta",
        "PLC",
        "RSK2",
        "Raf",
        "Rap1",
        "Ras",
        "RasGRF",
        "TRE",
        "VIPCRE",
        "VIPCnARE/CaRE",
        "VIPCnARE/CaRE VIPCRE",
        "VIPgeneCRE",
        "VIPgeneCnARE/CaRE",
        "VIPgeneholo",
        "cAMP",
        "cAMP-GEFII",
        "cAMP/Ca2+in",
        "neurites",
        "p38"
       ],
       "description": "Inhibit: ",
       "index": [],
       "layout": "IPY_MODEL_c87a6ca0c44b40079e0283c3bf88eda5",
       "rows": 5,
       "style": "IPY_MODEL_2b8cb53462634d3286d9748c03421d83"
      }
     },
     "7c9c68f4e18d4090b21acbe401ebb568": {
      "model_module": "@jupyter-widgets/base",
      "model_module_version": "1.2.0",
      "model_name": "LayoutModel",
      "state": {}
     },
     "7df72b7e57514586942e5b5b1ba77cbc": {
      "model_module": "@jupyter-widgets/base",
      "model_module_version": "1.2.0",
      "model_name": "LayoutModel",
      "state": {}
     },
     "7e7a0e2958db4780b0523c56e88a64aa": {
      "model_module": "@jupyter-widgets/base",
      "model_module_version": "1.2.0",
      "model_name": "LayoutModel",
      "state": {}
     },
     "7e9fa8fa1cdf4982afaa32b2bbc2b3b7": {
      "model_module": "@jupyter-widgets/base",
      "model_module_version": "1.2.0",
      "model_name": "LayoutModel",
      "state": {}
     },
     "8005325d5b6f459aa6aa7ca51b2b19c2": {
      "model_module": "@jupyter-widgets/controls",
      "model_module_version": "1.5.0",
      "model_name": "DescriptionStyleModel",
      "state": {
       "description_width": ""
      }
     },
     "803ed1add4b54685af73eaa089f881f0": {
      "model_module": "@jupyter-widgets/base",
      "model_module_version": "1.2.0",
      "model_name": "LayoutModel",
      "state": {
       "width": "50%"
      }
     },
     "8051071c45524cde9d524afa2792ef66": {
      "model_module": "@jupyter-widgets/controls",
      "model_module_version": "1.5.0",
      "model_name": "LabelModel",
      "state": {
       "layout": "IPY_MODEL_f4af6b06c05040f2bd65638e4b04aa37",
       "style": "IPY_MODEL_566b608baefc4985990566e07d6a8d94",
       "value": "Choose Start, End and Inhibited elements"
      }
     },
     "80d1fe29440e40b6b7bde077cf9a3d31": {
      "model_module": "@jupyter-widgets/base",
      "model_module_version": "1.2.0",
      "model_name": "LayoutModel",
      "state": {}
     },
     "81a5b9536e1a4fdf8e8b2acfee1c3aff": {
      "model_module": "@jupyter-widgets/controls",
      "model_module_version": "1.5.0",
      "model_name": "ComboboxModel",
      "state": {
       "description": "End: ",
       "ensure_option": false,
       "layout": "IPY_MODEL_35d2b273a2534e90a11700cb7dae09ab",
       "options": [
        "AC",
        "ACh",
        "AP-1",
        "ATF1",
        "ATF2",
        "CRE",
        "CREB",
        "Ca2+in",
        "Ca2+in DAG",
        "Ca2+mob",
        "Ca2+mob DAG",
        "CaM",
        "CaMKII",
        "CaMKIV",
        "CnA",
        "DAG",
        "ENKCRE",
        "ENKCRE ENKCnARE/CaRE",
        "ENKCnARE/CaRE",
        "ERK",
        "Elk",
        "FOR",
        "Fos",
        "Fos Jun",
        "IP3",
        "JNK",
        "JNKK",
        "Jun",
        "KCl",
        "MAPK",
        "MAPKAPK2/3",
        "MEK",
        "MEKK",
        "MKK6",
        "NFAT",
        "PACAP",
        "PEnkgeneholo",
        "PKA",
        "PKC",
        "PKC-theta",
        "PLC",
        "RSK2",
        "Raf",
        "Rap1",
        "Ras",
        "RasGRF",
        "TRE",
        "VIPCRE",
        "VIPCnARE/CaRE",
        "VIPCnARE/CaRE VIPCRE",
        "VIPgeneCRE",
        "VIPgeneCnARE/CaRE",
        "VIPgeneholo",
        "cAMP",
        "cAMP-GEFII",
        "cAMP/Ca2+in",
        "neurites",
        "p38"
       ],
       "placeholder": "Type here",
       "style": "IPY_MODEL_c2ba6852779945c397597f546c14653b"
      }
     },
     "8237ad10fdc0415ba52e2a6badb07261": {
      "model_module": "@jupyter-widgets/controls",
      "model_module_version": "1.5.0",
      "model_name": "ButtonStyleModel",
      "state": {}
     },
     "829e2e6a0a3449d88f1ba784e47e25ac": {
      "model_module": "@jupyter-widgets/controls",
      "model_module_version": "1.5.0",
      "model_name": "DescriptionStyleModel",
      "state": {
       "description_width": ""
      }
     },
     "834390dd9cb84c4d90d14673a1d59359": {
      "model_module": "@jupyter-widgets/controls",
      "model_module_version": "1.5.0",
      "model_name": "ComboboxModel",
      "state": {
       "description": "End: ",
       "ensure_option": false,
       "layout": "IPY_MODEL_168ce6d7a8014130a7aa1c399f5b0484",
       "options": [
        "AC",
        "ACh",
        "AP-1",
        "ATF1",
        "ATF2",
        "CRE",
        "CREB",
        "Ca2+in",
        "Ca2+in DAG",
        "Ca2+mob",
        "Ca2+mob DAG",
        "CaM",
        "CaMKII",
        "CaMKIV",
        "CnA",
        "DAG",
        "ENKCRE",
        "ENKCRE ENKCnARE/CaRE",
        "ENKCnARE/CaRE",
        "ERK",
        "Elk",
        "FOR",
        "Fos",
        "Fos Jun",
        "IP3",
        "JNK",
        "JNKK",
        "Jun",
        "KCl",
        "MAPK",
        "MAPKAPK2/3",
        "MEK",
        "MEKK",
        "MKK6",
        "NFAT",
        "PACAP",
        "PEnkgeneholo",
        "PKA",
        "PKC",
        "PKC-theta",
        "PLC",
        "RSK2",
        "Raf",
        "Rap1",
        "Ras",
        "RasGRF",
        "TRE",
        "VIPCRE",
        "VIPCnARE/CaRE",
        "VIPCnARE/CaRE VIPCRE",
        "VIPgeneCRE",
        "VIPgeneCnARE/CaRE",
        "VIPgeneholo",
        "cAMP",
        "cAMP-GEFII",
        "cAMP/Ca2+in",
        "neurites",
        "p38"
       ],
       "placeholder": "Type here",
       "style": "IPY_MODEL_f332b961cbd24d559fad7004f5870f03"
      }
     },
     "83ac54c28cc74f7e8a89b55313a061f9": {
      "model_module": "@jupyter-widgets/base",
      "model_module_version": "1.2.0",
      "model_name": "LayoutModel",
      "state": {}
     },
     "83eeb800af9c4ce3b977d82d0a1313d3": {
      "model_module": "@jupyter-widgets/controls",
      "model_module_version": "1.5.0",
      "model_name": "VBoxModel",
      "state": {
       "children": [
        "IPY_MODEL_3aecde99c55d4a229a11a1b2377eadb9",
        "IPY_MODEL_dd08adc6900d45b3901d61eb7585fb92",
        "IPY_MODEL_51df9eb75bf34e66aa9d49d1d3542075",
        "IPY_MODEL_dfed1958063247f2919c2240fc625d08",
        "IPY_MODEL_1cca4b9adaf04aefa18d4452ae8f3960",
        "IPY_MODEL_cd8dfa6ec7114527b5417a571f72df55",
        "IPY_MODEL_371ad98e88dd4aee897ed425bd8f905f"
       ],
       "layout": "IPY_MODEL_4e4f1323a62f4e8eb6988fad6ed8312c"
      }
     },
     "84bcaf49979e4090b6657a101d2f2f39": {
      "model_module": "@jupyter-widgets/base",
      "model_module_version": "1.2.0",
      "model_name": "LayoutModel",
      "state": {}
     },
     "84d68f3033b04befb31d026ada1f6130": {
      "model_module": "@jupyter-widgets/controls",
      "model_module_version": "1.5.0",
      "model_name": "ButtonModel",
      "state": {
       "description": "Produce Output",
       "layout": "IPY_MODEL_d4d18f81b164430db38a0bd35f53b391",
       "style": "IPY_MODEL_a5c9d48276e74eb3936fed57af4e0b3a"
      }
     },
     "86bd9170ca8b4208aa065e23885a20c5": {
      "model_module": "@jupyter-widgets/base",
      "model_module_version": "1.2.0",
      "model_name": "LayoutModel",
      "state": {}
     },
     "86dbf25e303443759e818adf29267e9d": {
      "model_module": "@jupyter-widgets/controls",
      "model_module_version": "1.5.0",
      "model_name": "DescriptionStyleModel",
      "state": {
       "description_width": ""
      }
     },
     "86fee64c3111469fb9c9bf23f079da3a": {
      "model_module": "@jupyter-widgets/controls",
      "model_module_version": "1.5.0",
      "model_name": "ButtonStyleModel",
      "state": {}
     },
     "8702b312a4774cfca780642ee6c96776": {
      "model_module": "@jupyter-widgets/controls",
      "model_module_version": "1.5.0",
      "model_name": "DescriptionStyleModel",
      "state": {
       "description_width": ""
      }
     },
     "882e1e6d08f4449b8b627d343c9b6122": {
      "model_module": "@jupyter-widgets/base",
      "model_module_version": "1.2.0",
      "model_name": "LayoutModel",
      "state": {}
     },
     "889822d8d11f4d01979c1ef954468e00": {
      "model_module": "@jupyter-widgets/base",
      "model_module_version": "1.2.0",
      "model_name": "LayoutModel",
      "state": {}
     },
     "88cd199146504d7f9b44ec0bf80d8a77": {
      "model_module": "@jupyter-widgets/controls",
      "model_module_version": "1.5.0",
      "model_name": "VBoxModel",
      "state": {
       "children": [
        "IPY_MODEL_2ac29b157972453cb60d6daa36860b92",
        "IPY_MODEL_5866c382f0024abfbfb3e654a34bd6d0",
        "IPY_MODEL_4ba3b3ba643a4197b27c34704ff178ac",
        "IPY_MODEL_42854b83cef74c548d95ee48b8ffdb04",
        "IPY_MODEL_84d68f3033b04befb31d026ada1f6130",
        "IPY_MODEL_fb91d1e1ce074cd7a639c354b9826aaf",
        "IPY_MODEL_eb5e037b26e5440da57fb4f7339dfe7f"
       ],
       "layout": "IPY_MODEL_c2074be3c1f44235bef96de3f4d9ab4e"
      }
     },
     "890a906e0dd04206b54a5ee033e0ce78": {
      "model_module": "@jupyter-widgets/base",
      "model_module_version": "1.2.0",
      "model_name": "LayoutModel",
      "state": {}
     },
     "8924e6d7937349fe94c93492e23241bc": {
      "model_module": "@jupyter-widgets/controls",
      "model_module_version": "1.5.0",
      "model_name": "DescriptionStyleModel",
      "state": {
       "description_width": ""
      }
     },
     "89bed416475a4a1585fe545b6d39e0cb": {
      "model_module": "@jupyter-widgets/base",
      "model_module_version": "1.2.0",
      "model_name": "LayoutModel",
      "state": {}
     },
     "8a6762962f23429991a9362e52bca628": {
      "model_module": "@jupyter-widgets/controls",
      "model_module_version": "1.5.0",
      "model_name": "VBoxModel",
      "state": {
       "children": [
        "IPY_MODEL_76d17ec9324847438d7ab33b313110e4",
        "IPY_MODEL_6e4c556acdb14d7ab72a87dc3db0f8f7",
        "IPY_MODEL_43944878cdfd445d998f7c4ab33b1210",
        "IPY_MODEL_adbc56a2686c47e0a8a223b1a38ff00d",
        "IPY_MODEL_015011a1e07a4ac58ca13696b63fd7d0",
        "IPY_MODEL_fc48e479708445d0a043023ba5f11723",
        "IPY_MODEL_089456d4fd3a4def83d0c6b93fbd32fc"
       ],
       "layout": "IPY_MODEL_8f1f0c42517940848c6649ed1023069b"
      }
     },
     "8ae625ba9f774babb49cb93dca884628": {
      "model_module": "@jupyter-widgets/output",
      "model_module_version": "1.0.0",
      "model_name": "OutputModel",
      "state": {
       "layout": "IPY_MODEL_890a906e0dd04206b54a5ee033e0ce78"
      }
     },
     "8b2e5f82ae6e4bcbb4412da990678d7f": {
      "model_module": "@jupyter-widgets/output",
      "model_module_version": "1.0.0",
      "model_name": "OutputModel",
      "state": {
       "layout": "IPY_MODEL_a963cd6d3e344b489a0a68b9a38c87ac"
      }
     },
     "8ba34fc567774f368a1fdf568c9b5112": {
      "model_module": "@jupyter-widgets/base",
      "model_module_version": "1.2.0",
      "model_name": "LayoutModel",
      "state": {}
     },
     "8df10234c92044df9aab9b68eef3245f": {
      "model_module": "@jupyter-widgets/base",
      "model_module_version": "1.2.0",
      "model_name": "LayoutModel",
      "state": {}
     },
     "8dfda344e9b04674b5986b6773e070fb": {
      "model_module": "@jupyter-widgets/controls",
      "model_module_version": "1.5.0",
      "model_name": "SelectMultipleModel",
      "state": {
       "_options_labels": [
        "AC",
        "ACh",
        "AP-1",
        "ATF1",
        "ATF2",
        "CRE",
        "CREB",
        "Ca2+in",
        "Ca2+in DAG",
        "Ca2+mob",
        "Ca2+mob DAG",
        "CaM",
        "CaMKII",
        "CaMKIV",
        "CnA",
        "DAG",
        "ENKCRE",
        "ENKCRE ENKCnARE/CaRE",
        "ENKCnARE/CaRE",
        "ERK",
        "Elk",
        "FOR",
        "Fos",
        "Fos Jun",
        "IP3",
        "JNK",
        "JNKK",
        "Jun",
        "KCl",
        "MAPK",
        "MAPKAPK2/3",
        "MEK",
        "MEKK",
        "MKK6",
        "NFAT",
        "PACAP",
        "PEnkgeneholo",
        "PKA",
        "PKC",
        "PKC-theta",
        "PLC",
        "RSK2",
        "Raf",
        "Rap1",
        "Ras",
        "RasGRF",
        "TRE",
        "VIPCRE",
        "VIPCnARE/CaRE",
        "VIPCnARE/CaRE VIPCRE",
        "VIPgeneCRE",
        "VIPgeneCnARE/CaRE",
        "VIPgeneholo",
        "cAMP",
        "cAMP-GEFII",
        "cAMP/Ca2+in",
        "neurites",
        "p38"
       ],
       "description": "Inhibit: ",
       "index": [],
       "layout": "IPY_MODEL_c5ecd144dc9941abb2eaa04e56ceb957",
       "rows": 5,
       "style": "IPY_MODEL_c51d086f041546ad9e4a6f4ca7f5fac7"
      }
     },
     "8f1f0c42517940848c6649ed1023069b": {
      "model_module": "@jupyter-widgets/base",
      "model_module_version": "1.2.0",
      "model_name": "LayoutModel",
      "state": {}
     },
     "8f30fa4a68724e4c925082df108cd388": {
      "model_module": "@jupyter-widgets/controls",
      "model_module_version": "1.5.0",
      "model_name": "VBoxModel",
      "state": {
       "children": [
        "IPY_MODEL_6d58b998144345fea43befa41b3f515f",
        "IPY_MODEL_0201cf21493344cebe40d1696efdd4a3",
        "IPY_MODEL_169f73e206624a86ba90f0382e1458dc",
        "IPY_MODEL_468c2bf71406434d9300894c0aacd17e",
        "IPY_MODEL_93fab556013e470aad7a6639088085e3",
        "IPY_MODEL_acf1e05e8493421182eb2e6692d98322",
        "IPY_MODEL_9a97717737cc417a8a8b084498e52b17"
       ],
       "layout": "IPY_MODEL_33ec561537f24d079ce07bbd72bc1738"
      }
     },
     "8f966179310749be859273168fe06ca1": {
      "model_module": "@jupyter-widgets/controls",
      "model_module_version": "1.5.0",
      "model_name": "ComboboxModel",
      "state": {
       "description": "Start: ",
       "ensure_option": false,
       "layout": "IPY_MODEL_4efece3b4a14471c8d6b191f81e4702d",
       "options": [
        "AC",
        "ACh",
        "AP-1",
        "ATF1",
        "ATF2",
        "CRE",
        "CREB",
        "Ca2+in",
        "Ca2+in DAG",
        "Ca2+mob",
        "Ca2+mob DAG",
        "CaM",
        "CaMKII",
        "CaMKIV",
        "CnA",
        "DAG",
        "ENKCRE",
        "ENKCRE ENKCnARE/CaRE",
        "ENKCnARE/CaRE",
        "ERK",
        "Elk",
        "FOR",
        "Fos",
        "Fos Jun",
        "IP3",
        "JNK",
        "JNKK",
        "Jun",
        "KCl",
        "MAPK",
        "MAPKAPK2/3",
        "MEK",
        "MEKK",
        "MKK6",
        "NFAT",
        "PACAP",
        "PEnkgeneholo",
        "PKA",
        "PKC",
        "PKC-theta",
        "PLC",
        "RSK2",
        "Raf",
        "Rap1",
        "Ras",
        "RasGRF",
        "TRE",
        "VIPCRE",
        "VIPCnARE/CaRE",
        "VIPCnARE/CaRE VIPCRE",
        "VIPgeneCRE",
        "VIPgeneCnARE/CaRE",
        "VIPgeneholo",
        "cAMP",
        "cAMP-GEFII",
        "cAMP/Ca2+in",
        "neurites",
        "p38"
       ],
       "placeholder": "Type here",
       "style": "IPY_MODEL_8924e6d7937349fe94c93492e23241bc"
      }
     },
     "9064b75480f546f8a55ad4762df16a61": {
      "model_module": "@jupyter-widgets/controls",
      "model_module_version": "1.5.0",
      "model_name": "ButtonModel",
      "state": {
       "description": "Produce Output",
       "layout": "IPY_MODEL_b66e976ec7644806a0cbcaa9bdc81781",
       "style": "IPY_MODEL_60d1ff4c563046b0b5b8ed57b23a50bb"
      }
     },
     "93c4c71f65864742af6d99e3a7e07ce1": {
      "model_module": "@jupyter-widgets/controls",
      "model_module_version": "1.5.0",
      "model_name": "SelectMultipleModel",
      "state": {
       "_options_labels": [
        "AC",
        "ACh",
        "AP-1",
        "ATF1",
        "ATF2",
        "CRE",
        "CREB",
        "Ca2+in",
        "Ca2+in DAG",
        "Ca2+mob",
        "Ca2+mob DAG",
        "CaM",
        "CaMKII",
        "CaMKIV",
        "CnA",
        "DAG",
        "ENKCRE",
        "ENKCRE ENKCnARE/CaRE",
        "ENKCnARE/CaRE",
        "ERK",
        "Elk",
        "FOR",
        "Fos",
        "Fos Jun",
        "IP3",
        "JNK",
        "JNKK",
        "Jun",
        "KCl",
        "MAPK",
        "MAPKAPK2/3",
        "MEK",
        "MEKK",
        "MKK6",
        "NFAT",
        "PACAP",
        "PEnkgeneholo",
        "PKA",
        "PKC",
        "PKC-theta",
        "PLC",
        "RSK2",
        "Raf",
        "Rap1",
        "Ras",
        "RasGRF",
        "TRE",
        "VIPCRE",
        "VIPCnARE/CaRE",
        "VIPCnARE/CaRE VIPCRE",
        "VIPgeneCRE",
        "VIPgeneCnARE/CaRE",
        "VIPgeneholo",
        "cAMP",
        "cAMP-GEFII",
        "cAMP/Ca2+in",
        "neurites",
        "p38"
       ],
       "description": "Inhibit: ",
       "index": [],
       "layout": "IPY_MODEL_3932c917b036401281ac318557560873",
       "rows": 5,
       "style": "IPY_MODEL_5c2a99a561144a089beb6130182063f0"
      }
     },
     "93fab556013e470aad7a6639088085e3": {
      "model_module": "@jupyter-widgets/controls",
      "model_module_version": "1.5.0",
      "model_name": "ButtonModel",
      "state": {
       "description": "Produce Output",
       "layout": "IPY_MODEL_a7a0a06de21943dda7e7a87687321df2",
       "style": "IPY_MODEL_86fee64c3111469fb9c9bf23f079da3a"
      }
     },
     "94f584b52f874bea87cfaec1adfa08f1": {
      "model_module": "@jupyter-widgets/base",
      "model_module_version": "1.2.0",
      "model_name": "LayoutModel",
      "state": {
       "width": "50%"
      }
     },
     "960c39ee935a486fa4475263c4c3cb6e": {
      "model_module": "@jupyter-widgets/controls",
      "model_module_version": "1.5.0",
      "model_name": "DescriptionStyleModel",
      "state": {
       "description_width": ""
      }
     },
     "968a6eb45b224f159a1c5df5f2800d52": {
      "model_module": "@jupyter-widgets/base",
      "model_module_version": "1.2.0",
      "model_name": "LayoutModel",
      "state": {}
     },
     "969ba391adf64e279eed5e3f488104fa": {
      "model_module": "@jupyter-widgets/base",
      "model_module_version": "1.2.0",
      "model_name": "LayoutModel",
      "state": {
       "width": "50%"
      }
     },
     "96ab52cf44d940f8843510882044d1e6": {
      "model_module": "@jupyter-widgets/base",
      "model_module_version": "1.2.0",
      "model_name": "LayoutModel",
      "state": {}
     },
     "96c5b8a73ca54776b3e25f6c3241b233": {
      "model_module": "@jupyter-widgets/controls",
      "model_module_version": "1.5.0",
      "model_name": "LabelModel",
      "state": {
       "layout": "IPY_MODEL_c22d10828b294612bf4b2e5f0bec84df",
       "style": "IPY_MODEL_e11c5401d4f046b0b343a3f44bb3b0c5",
       "value": "Choose Start, End and Inhibited elements"
      }
     },
     "9785168bc6d34f08b082770e575ac705": {
      "model_module": "@jupyter-widgets/controls",
      "model_module_version": "1.5.0",
      "model_name": "ButtonStyleModel",
      "state": {}
     },
     "9797a461457b4dcfa0b7d0a13f31d575": {
      "model_module": "@jupyter-widgets/output",
      "model_module_version": "1.0.0",
      "model_name": "OutputModel",
      "state": {
       "layout": "IPY_MODEL_6e9c8bc4556b434294a5f6d2cfdaa5b9"
      }
     },
     "97ff226b6fae42bfb2bd411e0424f7de": {
      "model_module": "@jupyter-widgets/base",
      "model_module_version": "1.2.0",
      "model_name": "LayoutModel",
      "state": {}
     },
     "9902892b3426437b9a792aea3afa26dd": {
      "model_module": "@jupyter-widgets/controls",
      "model_module_version": "1.5.0",
      "model_name": "DescriptionStyleModel",
      "state": {
       "description_width": ""
      }
     },
     "9a97717737cc417a8a8b084498e52b17": {
      "model_module": "@jupyter-widgets/output",
      "model_module_version": "1.0.0",
      "model_name": "OutputModel",
      "state": {
       "layout": "IPY_MODEL_dfd0bd00b0a5409e91081ec435799bfc"
      }
     },
     "9afe2bad644749d5b45f9a82b7e092ae": {
      "model_module": "@jupyter-widgets/output",
      "model_module_version": "1.0.0",
      "model_name": "OutputModel",
      "state": {
       "layout": "IPY_MODEL_1f9daea821ea4e7b91570b55b3ea3885"
      }
     },
     "9bca49c63acc469b96aca5aea5e50fbc": {
      "model_module": "@jupyter-widgets/controls",
      "model_module_version": "1.5.0",
      "model_name": "VBoxModel",
      "state": {
       "children": [
        "IPY_MODEL_17f921d3f3514024873b30c49ebb774f",
        "IPY_MODEL_8f966179310749be859273168fe06ca1",
        "IPY_MODEL_81a5b9536e1a4fdf8e8b2acfee1c3aff",
        "IPY_MODEL_505a782f4c434341b6fb1ad80ac14087",
        "IPY_MODEL_d7b184350b974c2aa2d55656cfd6f947",
        "IPY_MODEL_9afe2bad644749d5b45f9a82b7e092ae",
        "IPY_MODEL_8ae625ba9f774babb49cb93dca884628"
       ],
       "layout": "IPY_MODEL_0cacda84f61249c58c8f72242624a71e"
      }
     },
     "9c3c135fefee4f8dbdce07d931da5560": {
      "model_module": "@jupyter-widgets/controls",
      "model_module_version": "1.5.0",
      "model_name": "DescriptionStyleModel",
      "state": {
       "description_width": ""
      }
     },
     "9c917d1e44f2494585b65e889578235d": {
      "model_module": "@jupyter-widgets/controls",
      "model_module_version": "1.5.0",
      "model_name": "SelectMultipleModel",
      "state": {
       "_options_labels": [
        "AC",
        "ACh",
        "AP-1",
        "ATF1",
        "ATF2",
        "CRE",
        "CREB",
        "Ca2+in",
        "Ca2+in DAG",
        "Ca2+mob",
        "Ca2+mob DAG",
        "CaM",
        "CaMKII",
        "CaMKIV",
        "CnA",
        "DAG",
        "ENKCRE",
        "ENKCRE ENKCnARE/CaRE",
        "ENKCnARE/CaRE",
        "ERK",
        "Elk",
        "FOR",
        "Fos",
        "Fos Jun",
        "IP3",
        "JNK",
        "JNKK",
        "Jun",
        "KCl",
        "MAPK",
        "MAPKAPK2/3",
        "MEK",
        "MEKK",
        "MKK6",
        "NFAT",
        "PACAP",
        "PEnkgeneholo",
        "PKA",
        "PKC",
        "PKC-theta",
        "PLC",
        "RSK2",
        "Raf",
        "Rap1",
        "Ras",
        "RasGRF",
        "TRE",
        "VIPCRE",
        "VIPCnARE/CaRE",
        "VIPCnARE/CaRE VIPCRE",
        "VIPgeneCRE",
        "VIPgeneCnARE/CaRE",
        "VIPgeneholo",
        "cAMP",
        "cAMP-GEFII",
        "cAMP/Ca2+in",
        "neurites",
        "p38"
       ],
       "description": "Inhibit: ",
       "index": [],
       "layout": "IPY_MODEL_94f584b52f874bea87cfaec1adfa08f1",
       "rows": 5,
       "style": "IPY_MODEL_f3cb6488c69b4b649d6595a68fb816cf"
      }
     },
     "9d0c1d90801a44b2921ec5c0de787e71": {
      "model_module": "@jupyter-widgets/base",
      "model_module_version": "1.2.0",
      "model_name": "LayoutModel",
      "state": {}
     },
     "9d2b63f9621d47a9a471a50ef3212798": {
      "model_module": "@jupyter-widgets/controls",
      "model_module_version": "1.5.0",
      "model_name": "LabelModel",
      "state": {
       "layout": "IPY_MODEL_8df10234c92044df9aab9b68eef3245f",
       "style": "IPY_MODEL_2e0eee8314b4448694c0b516bfd03b8c"
      }
     },
     "9d5425682f5d4254a256a2a5f1026799": {
      "model_module": "@jupyter-widgets/controls",
      "model_module_version": "1.5.0",
      "model_name": "LabelModel",
      "state": {
       "layout": "IPY_MODEL_e29059c53a7b4dc997b290d83427b863",
       "style": "IPY_MODEL_d89fd865230242adbf618ae388c381b8",
       "value": "Choose Start, End and Inhibited elements"
      }
     },
     "9d8f1ea5d0f74dfcac8a22fd105d51bd": {
      "model_module": "@jupyter-widgets/base",
      "model_module_version": "1.2.0",
      "model_name": "LayoutModel",
      "state": {
       "width": "50%"
      }
     },
     "9de798d5861a4f38835619ecafc79d6d": {
      "model_module": "@jupyter-widgets/base",
      "model_module_version": "1.2.0",
      "model_name": "LayoutModel",
      "state": {}
     },
     "9e2d0d72daae4e5e946122e44181af58": {
      "model_module": "@jupyter-widgets/controls",
      "model_module_version": "1.5.0",
      "model_name": "LabelModel",
      "state": {
       "layout": "IPY_MODEL_24540ac70e4b45a48fd09d1704559122",
       "style": "IPY_MODEL_6a0a5bd9458542c6926a26d8b6fc5831",
       "value": "Choose Start, End and Inhibited elements"
      }
     },
     "9eaf1ce64064484b8a19d2500c642c42": {
      "model_module": "@jupyter-widgets/base",
      "model_module_version": "1.2.0",
      "model_name": "LayoutModel",
      "state": {}
     },
     "a082aff9c0e74fbc8101153c5de7cbc5": {
      "model_module": "@jupyter-widgets/controls",
      "model_module_version": "1.5.0",
      "model_name": "LabelModel",
      "state": {
       "layout": "IPY_MODEL_7c9c68f4e18d4090b21acbe401ebb568",
       "style": "IPY_MODEL_e89c9f2c6bc1411086185d6b0b823fff"
      }
     },
     "a0ec9d22b7af41a7aba873390d9832af": {
      "model_module": "@jupyter-widgets/base",
      "model_module_version": "1.2.0",
      "model_name": "LayoutModel",
      "state": {
       "width": "50%"
      }
     },
     "a1587e50905e4f039f67b6d7b6d2753f": {
      "model_module": "@jupyter-widgets/controls",
      "model_module_version": "1.5.0",
      "model_name": "ComboboxModel",
      "state": {
       "description": "End: ",
       "ensure_option": false,
       "layout": "IPY_MODEL_1d12d627390442249d9d5a5ac6932b56",
       "options": [
        "AC",
        "ACh",
        "AP-1",
        "ATF1",
        "ATF2",
        "CRE",
        "CREB",
        "Ca2+in",
        "Ca2+in DAG",
        "Ca2+mob",
        "Ca2+mob DAG",
        "CaM",
        "CaMKII",
        "CaMKIV",
        "CnA",
        "DAG",
        "ENKCRE",
        "ENKCRE ENKCnARE/CaRE",
        "ENKCnARE/CaRE",
        "ERK",
        "Elk",
        "FOR",
        "Fos",
        "Fos Jun",
        "IP3",
        "JNK",
        "JNKK",
        "Jun",
        "KCl",
        "MAPK",
        "MAPKAPK2/3",
        "MEK",
        "MEKK",
        "MKK6",
        "NFAT",
        "PACAP",
        "PEnkgeneholo",
        "PKA",
        "PKC",
        "PKC-theta",
        "PLC",
        "RSK2",
        "Raf",
        "Rap1",
        "Ras",
        "RasGRF",
        "TRE",
        "VIPCRE",
        "VIPCnARE/CaRE",
        "VIPCnARE/CaRE VIPCRE",
        "VIPgeneCRE",
        "VIPgeneCnARE/CaRE",
        "VIPgeneholo",
        "cAMP",
        "cAMP-GEFII",
        "cAMP/Ca2+in",
        "neurites",
        "p38"
       ],
       "placeholder": "Type here",
       "style": "IPY_MODEL_448919ec2b0644688ef488363d8f3934"
      }
     },
     "a16741918d0a44b0975adf32f816ba82": {
      "model_module": "@jupyter-widgets/controls",
      "model_module_version": "1.5.0",
      "model_name": "SelectMultipleModel",
      "state": {
       "_options_labels": [
        "AC",
        "ACh",
        "AP-1",
        "ATF1",
        "ATF2",
        "CRE",
        "CREB",
        "Ca2+in",
        "Ca2+in DAG",
        "Ca2+mob",
        "Ca2+mob DAG",
        "CaM",
        "CaMKII",
        "CaMKIV",
        "CnA",
        "DAG",
        "ENKCRE",
        "ENKCRE ENKCnARE/CaRE",
        "ENKCnARE/CaRE",
        "ERK",
        "Elk",
        "FOR",
        "Fos",
        "Fos Jun",
        "IP3",
        "JNK",
        "JNKK",
        "Jun",
        "KCl",
        "MAPK",
        "MAPKAPK2/3",
        "MEK",
        "MEKK",
        "MKK6",
        "NFAT",
        "PACAP",
        "PEnkgeneholo",
        "PKA",
        "PKC",
        "PKC-theta",
        "PLC",
        "RSK2",
        "Raf",
        "Rap1",
        "Ras",
        "RasGRF",
        "TRE",
        "VIPCRE",
        "VIPCnARE/CaRE",
        "VIPCnARE/CaRE VIPCRE",
        "VIPgeneCRE",
        "VIPgeneCnARE/CaRE",
        "VIPgeneholo",
        "cAMP",
        "cAMP-GEFII",
        "cAMP/Ca2+in",
        "neurites",
        "p38"
       ],
       "description": "Inhibit: ",
       "index": [],
       "layout": "IPY_MODEL_1bb876df666c45b18acd9f7d2999554f",
       "rows": 5,
       "style": "IPY_MODEL_20163872d833474c8c92776c8970b8bc"
      }
     },
     "a1989f643e13445a9a74be6f64e7d9f3": {
      "model_module": "@jupyter-widgets/controls",
      "model_module_version": "1.5.0",
      "model_name": "LabelModel",
      "state": {
       "layout": "IPY_MODEL_01c1a0ebfeb4465b93d464c197fb8299",
       "style": "IPY_MODEL_2d07aa7f4e7c49b1a21651a191f0c8da",
       "value": "Choose Start, End and Inhibited elements"
      }
     },
     "a1e9054106a842e3baa5129097697031": {
      "model_module": "@jupyter-widgets/controls",
      "model_module_version": "1.5.0",
      "model_name": "LabelModel",
      "state": {
       "layout": "IPY_MODEL_1651f95dd4304afaa6ee40d1eaee573a",
       "style": "IPY_MODEL_3308264d31464fc0a82aa0ceea9b5524"
      }
     },
     "a28d6b4c6e0d4d8c8aa4bf12bb813e70": {
      "model_module": "@jupyter-widgets/controls",
      "model_module_version": "1.5.0",
      "model_name": "DescriptionStyleModel",
      "state": {
       "description_width": ""
      }
     },
     "a2f66b1c0a4648809f2c92579e54582b": {
      "model_module": "@jupyter-widgets/controls",
      "model_module_version": "1.5.0",
      "model_name": "ComboboxModel",
      "state": {
       "description": "End: ",
       "ensure_option": false,
       "layout": "IPY_MODEL_7033f4d745a54828b50f129fed0e0f95",
       "options": [
        "AC",
        "ACh",
        "AP-1",
        "ATF1",
        "ATF2",
        "CRE",
        "CREB",
        "Ca2+in",
        "Ca2+in DAG",
        "Ca2+mob",
        "Ca2+mob DAG",
        "CaM",
        "CaMKII",
        "CaMKIV",
        "CnA",
        "DAG",
        "ENKCRE",
        "ENKCRE ENKCnARE/CaRE",
        "ENKCnARE/CaRE",
        "ERK",
        "Elk",
        "FOR",
        "Fos",
        "Fos Jun",
        "IP3",
        "JNK",
        "JNKK",
        "Jun",
        "KCl",
        "MAPK",
        "MAPKAPK2/3",
        "MEK",
        "MEKK",
        "MKK6",
        "NFAT",
        "PACAP",
        "PEnkgeneholo",
        "PKA",
        "PKC",
        "PKC-theta",
        "PLC",
        "RSK2",
        "Raf",
        "Rap1",
        "Ras",
        "RasGRF",
        "TRE",
        "VIPCRE",
        "VIPCnARE/CaRE",
        "VIPCnARE/CaRE VIPCRE",
        "VIPgeneCRE",
        "VIPgeneCnARE/CaRE",
        "VIPgeneholo",
        "cAMP",
        "cAMP-GEFII",
        "cAMP/Ca2+in",
        "neurites",
        "p38"
       ],
       "placeholder": "Type here",
       "style": "IPY_MODEL_dc40c4268dd64231bd801166ed8711a5"
      }
     },
     "a468e821cbe549d4865a5472c9e72289": {
      "model_module": "@jupyter-widgets/controls",
      "model_module_version": "1.5.0",
      "model_name": "DescriptionStyleModel",
      "state": {
       "description_width": ""
      }
     },
     "a4ce674b7b024ca48434ad9caeaaac87": {
      "model_module": "@jupyter-widgets/controls",
      "model_module_version": "1.5.0",
      "model_name": "DescriptionStyleModel",
      "state": {
       "description_width": ""
      }
     },
     "a4ecf02c091f4390b3646ff46841469e": {
      "model_module": "@jupyter-widgets/base",
      "model_module_version": "1.2.0",
      "model_name": "LayoutModel",
      "state": {
       "width": "50%"
      }
     },
     "a59d3c77633b4c13a45b0ad2f8685655": {
      "model_module": "@jupyter-widgets/controls",
      "model_module_version": "1.5.0",
      "model_name": "ComboboxModel",
      "state": {
       "description": "End: ",
       "ensure_option": false,
       "layout": "IPY_MODEL_0b8a98c6620749ba904a3d8b73837296",
       "options": [
        "AC",
        "ACh",
        "AP-1",
        "ATF1",
        "ATF2",
        "CRE",
        "CREB",
        "Ca2+in",
        "Ca2+in DAG",
        "Ca2+mob",
        "Ca2+mob DAG",
        "CaM",
        "CaMKII",
        "CaMKIV",
        "CnA",
        "DAG",
        "ENKCRE",
        "ENKCRE ENKCnARE/CaRE",
        "ENKCnARE/CaRE",
        "ERK",
        "Elk",
        "FOR",
        "Fos",
        "Fos Jun",
        "IP3",
        "JNK",
        "JNKK",
        "Jun",
        "KCl",
        "MAPK",
        "MAPKAPK2/3",
        "MEK",
        "MEKK",
        "MKK6",
        "NFAT",
        "PACAP",
        "PEnkgeneholo",
        "PKA",
        "PKC",
        "PKC-theta",
        "PLC",
        "RSK2",
        "Raf",
        "Rap1",
        "Ras",
        "RasGRF",
        "TRE",
        "VIPCRE",
        "VIPCnARE/CaRE",
        "VIPCnARE/CaRE VIPCRE",
        "VIPgeneCRE",
        "VIPgeneCnARE/CaRE",
        "VIPgeneholo",
        "cAMP",
        "cAMP-GEFII",
        "cAMP/Ca2+in",
        "neurites",
        "p38"
       ],
       "placeholder": "Type here",
       "style": "IPY_MODEL_01a6b92820a64449bdfc939f633b7802"
      }
     },
     "a5c9d48276e74eb3936fed57af4e0b3a": {
      "model_module": "@jupyter-widgets/controls",
      "model_module_version": "1.5.0",
      "model_name": "ButtonStyleModel",
      "state": {}
     },
     "a6d77cd200cd4d48809239ceda879a19": {
      "model_module": "@jupyter-widgets/output",
      "model_module_version": "1.0.0",
      "model_name": "OutputModel",
      "state": {
       "layout": "IPY_MODEL_ecfdc44a10134a3da6ee4b200f6cc199"
      }
     },
     "a7a0a06de21943dda7e7a87687321df2": {
      "model_module": "@jupyter-widgets/base",
      "model_module_version": "1.2.0",
      "model_name": "LayoutModel",
      "state": {}
     },
     "a8b5a1bb36194000b07c080840ead376": {
      "model_module": "@jupyter-widgets/base",
      "model_module_version": "1.2.0",
      "model_name": "LayoutModel",
      "state": {}
     },
     "a8f7294bb30e47d9ba96eb6c13234706": {
      "model_module": "@jupyter-widgets/controls",
      "model_module_version": "1.5.0",
      "model_name": "ComboboxModel",
      "state": {
       "description": "Start: ",
       "ensure_option": false,
       "layout": "IPY_MODEL_5771e83574844474bf4d7756c9c6b635",
       "options": [
        "AC",
        "ACh",
        "AP-1",
        "ATF1",
        "ATF2",
        "CRE",
        "CREB",
        "Ca2+in",
        "Ca2+in DAG",
        "Ca2+mob",
        "Ca2+mob DAG",
        "CaM",
        "CaMKII",
        "CaMKIV",
        "CnA",
        "DAG",
        "ENKCRE",
        "ENKCRE ENKCnARE/CaRE",
        "ENKCnARE/CaRE",
        "ERK",
        "Elk",
        "FOR",
        "Fos",
        "Fos Jun",
        "IP3",
        "JNK",
        "JNKK",
        "Jun",
        "KCl",
        "MAPK",
        "MAPKAPK2/3",
        "MEK",
        "MEKK",
        "MKK6",
        "NFAT",
        "PACAP",
        "PEnkgeneholo",
        "PKA",
        "PKC",
        "PKC-theta",
        "PLC",
        "RSK2",
        "Raf",
        "Rap1",
        "Ras",
        "RasGRF",
        "TRE",
        "VIPCRE",
        "VIPCnARE/CaRE",
        "VIPCnARE/CaRE VIPCRE",
        "VIPgeneCRE",
        "VIPgeneCnARE/CaRE",
        "VIPgeneholo",
        "cAMP",
        "cAMP-GEFII",
        "cAMP/Ca2+in",
        "neurites",
        "p38"
       ],
       "placeholder": "Type here",
       "style": "IPY_MODEL_2f177878d7984534a20adcb8386a776b"
      }
     },
     "a963cd6d3e344b489a0a68b9a38c87ac": {
      "model_module": "@jupyter-widgets/base",
      "model_module_version": "1.2.0",
      "model_name": "LayoutModel",
      "state": {}
     },
     "a9e29204fd7e41e08285b71803a0034d": {
      "model_module": "@jupyter-widgets/controls",
      "model_module_version": "1.5.0",
      "model_name": "ButtonStyleModel",
      "state": {}
     },
     "abfa4725b14444149fde3c9779bfbb02": {
      "model_module": "@jupyter-widgets/controls",
      "model_module_version": "1.5.0",
      "model_name": "SelectMultipleModel",
      "state": {
       "_options_labels": [
        "AC",
        "ACh",
        "AP-1",
        "ATF1",
        "ATF2",
        "CRE",
        "CREB",
        "Ca2+in",
        "Ca2+in DAG",
        "Ca2+mob",
        "Ca2+mob DAG",
        "CaM",
        "CaMKII",
        "CaMKIV",
        "CnA",
        "DAG",
        "ENKCRE",
        "ENKCRE ENKCnARE/CaRE",
        "ENKCnARE/CaRE",
        "ERK",
        "Elk",
        "FOR",
        "Fos",
        "Fos Jun",
        "IP3",
        "JNK",
        "JNKK",
        "Jun",
        "KCl",
        "MAPK",
        "MAPKAPK2/3",
        "MEK",
        "MEKK",
        "MKK6",
        "NFAT",
        "PACAP",
        "PEnkgeneholo",
        "PKA",
        "PKC",
        "PKC-theta",
        "PLC",
        "RSK2",
        "Raf",
        "Rap1",
        "Ras",
        "RasGRF",
        "TRE",
        "VIPCRE",
        "VIPCnARE/CaRE",
        "VIPCnARE/CaRE VIPCRE",
        "VIPgeneCRE",
        "VIPgeneCnARE/CaRE",
        "VIPgeneholo",
        "cAMP",
        "cAMP-GEFII",
        "cAMP/Ca2+in",
        "neurites",
        "p38"
       ],
       "description": "Inhibit: ",
       "index": [],
       "layout": "IPY_MODEL_d9406894cd5f4cb5a167ac873f1bdabd",
       "rows": 5,
       "style": "IPY_MODEL_49acd69180b24adeb85bdb17de518f50"
      }
     },
     "acf1e05e8493421182eb2e6692d98322": {
      "model_module": "@jupyter-widgets/output",
      "model_module_version": "1.0.0",
      "model_name": "OutputModel",
      "state": {
       "layout": "IPY_MODEL_0100deb8e0c24c2fa38bcbb7ec322ad0"
      }
     },
     "ad328b053a9b4fcaaf99d4b3e6425515": {
      "model_module": "@jupyter-widgets/base",
      "model_module_version": "1.2.0",
      "model_name": "LayoutModel",
      "state": {
       "width": "50%"
      }
     },
     "adbc56a2686c47e0a8a223b1a38ff00d": {
      "model_module": "@jupyter-widgets/controls",
      "model_module_version": "1.5.0",
      "model_name": "SelectMultipleModel",
      "state": {
       "_options_labels": [
        "AC",
        "ACh",
        "AP-1",
        "ATF1",
        "ATF2",
        "CRE",
        "CREB",
        "Ca2+in",
        "Ca2+in DAG",
        "Ca2+mob",
        "Ca2+mob DAG",
        "CaM",
        "CaMKII",
        "CaMKIV",
        "CnA",
        "DAG",
        "ENKCRE",
        "ENKCRE ENKCnARE/CaRE",
        "ENKCnARE/CaRE",
        "ERK",
        "Elk",
        "FOR",
        "Fos",
        "Fos Jun",
        "IP3",
        "JNK",
        "JNKK",
        "Jun",
        "KCl",
        "MAPK",
        "MAPKAPK2/3",
        "MEK",
        "MEKK",
        "MKK6",
        "NFAT",
        "PACAP",
        "PEnkgeneholo",
        "PKA",
        "PKC",
        "PKC-theta",
        "PLC",
        "RSK2",
        "Raf",
        "Rap1",
        "Ras",
        "RasGRF",
        "TRE",
        "VIPCRE",
        "VIPCnARE/CaRE",
        "VIPCnARE/CaRE VIPCRE",
        "VIPgeneCRE",
        "VIPgeneCnARE/CaRE",
        "VIPgeneholo",
        "cAMP",
        "cAMP-GEFII",
        "cAMP/Ca2+in",
        "neurites",
        "p38"
       ],
       "description": "Inhibit: ",
       "index": [],
       "layout": "IPY_MODEL_34f4bf76475c4dbfb1fc6f8f74eb58c6",
       "rows": 5,
       "style": "IPY_MODEL_769199073e994f26a15e95b7b7a54057"
      }
     },
     "ae62e829728a430bbfceea9c56a6c1f1": {
      "model_module": "@jupyter-widgets/base",
      "model_module_version": "1.2.0",
      "model_name": "LayoutModel",
      "state": {}
     },
     "aefffdf7351644b587669bfbad896226": {
      "model_module": "@jupyter-widgets/controls",
      "model_module_version": "1.5.0",
      "model_name": "DescriptionStyleModel",
      "state": {
       "description_width": ""
      }
     },
     "af387d4ae8f74c158f022511395a0605": {
      "model_module": "@jupyter-widgets/base",
      "model_module_version": "1.2.0",
      "model_name": "LayoutModel",
      "state": {}
     },
     "b36df8c1f3854c7b8733f6ee8565300e": {
      "model_module": "@jupyter-widgets/controls",
      "model_module_version": "1.5.0",
      "model_name": "ButtonModel",
      "state": {
       "description": "Produce Output",
       "layout": "IPY_MODEL_f19a9ed2095748e4a922654e51e48dcc",
       "style": "IPY_MODEL_1c08246d8c3b402991e590728444f6e1"
      }
     },
     "b3f51f0e5430432b9cd6540e760f91bc": {
      "model_module": "@jupyter-widgets/base",
      "model_module_version": "1.2.0",
      "model_name": "LayoutModel",
      "state": {}
     },
     "b42db48978c845b4a4e6dfb3e1e7d721": {
      "model_module": "@jupyter-widgets/controls",
      "model_module_version": "1.5.0",
      "model_name": "LabelModel",
      "state": {
       "layout": "IPY_MODEL_7df72b7e57514586942e5b5b1ba77cbc",
       "style": "IPY_MODEL_a468e821cbe549d4865a5472c9e72289",
       "value": "Choose Start, End and Inhibited elements"
      }
     },
     "b445bdaf58d04ceb9e923ba62ee684ee": {
      "model_module": "@jupyter-widgets/output",
      "model_module_version": "1.0.0",
      "model_name": "OutputModel",
      "state": {
       "layout": "IPY_MODEL_569e2dd8335c4e18b3b70e0866bc9cec"
      }
     },
     "b48a132deb554a55aee8463ef3112fb0": {
      "model_module": "@jupyter-widgets/base",
      "model_module_version": "1.2.0",
      "model_name": "LayoutModel",
      "state": {}
     },
     "b4aea28b093b4d06b7e5143b6b2ff1b0": {
      "model_module": "@jupyter-widgets/controls",
      "model_module_version": "1.5.0",
      "model_name": "ComboboxModel",
      "state": {
       "description": "End: ",
       "ensure_option": false,
       "layout": "IPY_MODEL_5e20d181f27e4b32af168fab4c16abe5",
       "options": [
        "AC",
        "ACh",
        "AP-1",
        "ATF1",
        "ATF2",
        "CRE",
        "CREB",
        "Ca2+in",
        "Ca2+in DAG",
        "Ca2+mob",
        "Ca2+mob DAG",
        "CaM",
        "CaMKII",
        "CaMKIV",
        "CnA",
        "DAG",
        "ENKCRE",
        "ENKCRE ENKCnARE/CaRE",
        "ENKCnARE/CaRE",
        "ERK",
        "Elk",
        "FOR",
        "Fos",
        "Fos Jun",
        "IP3",
        "JNK",
        "JNKK",
        "Jun",
        "KCl",
        "MAPK",
        "MAPKAPK2/3",
        "MEK",
        "MEKK",
        "MKK6",
        "NFAT",
        "PACAP",
        "PEnkgeneholo",
        "PKA",
        "PKC",
        "PKC-theta",
        "PLC",
        "RSK2",
        "Raf",
        "Rap1",
        "Ras",
        "RasGRF",
        "TRE",
        "VIPCRE",
        "VIPCnARE/CaRE",
        "VIPCnARE/CaRE VIPCRE",
        "VIPgeneCRE",
        "VIPgeneCnARE/CaRE",
        "VIPgeneholo",
        "cAMP",
        "cAMP-GEFII",
        "cAMP/Ca2+in",
        "neurites",
        "p38"
       ],
       "placeholder": "Type here",
       "style": "IPY_MODEL_f22e7601b14e426fb33eeaeee5e9163b"
      }
     },
     "b4f1fd6043d14513ae0d3c8feecae943": {
      "model_module": "@jupyter-widgets/controls",
      "model_module_version": "1.5.0",
      "model_name": "ButtonModel",
      "state": {
       "description": "Produce Output",
       "layout": "IPY_MODEL_80d1fe29440e40b6b7bde077cf9a3d31",
       "style": "IPY_MODEL_2fb4d4fd27c54b239c8c910b2b79c6ae"
      }
     },
     "b50f8be97e21469ebd7216c5e372e143": {
      "model_module": "@jupyter-widgets/controls",
      "model_module_version": "1.5.0",
      "model_name": "LabelModel",
      "state": {
       "layout": "IPY_MODEL_ed7bd435e19e4f1c8889b77cd9e58a93",
       "style": "IPY_MODEL_2ce4d83c6ab546e6a2b985db35abaa73"
      }
     },
     "b5623f5ad21a48b68a5d42651587eec6": {
      "model_module": "@jupyter-widgets/controls",
      "model_module_version": "1.5.0",
      "model_name": "DescriptionStyleModel",
      "state": {
       "description_width": ""
      }
     },
     "b65a7c3a3858469bbbc27ed3cf773260": {
      "model_module": "@jupyter-widgets/controls",
      "model_module_version": "1.5.0",
      "model_name": "LabelModel",
      "state": {
       "layout": "IPY_MODEL_3942931bc378436b811c8e45ddae86b1",
       "style": "IPY_MODEL_61441586a4e043f98a86a6cd0ec32623"
      }
     },
     "b66e976ec7644806a0cbcaa9bdc81781": {
      "model_module": "@jupyter-widgets/base",
      "model_module_version": "1.2.0",
      "model_name": "LayoutModel",
      "state": {}
     },
     "b72c5bb693434fe487876d03d3007665": {
      "model_module": "@jupyter-widgets/base",
      "model_module_version": "1.2.0",
      "model_name": "LayoutModel",
      "state": {
       "width": "50%"
      }
     },
     "b778477de0d54a68b40e1590f08a1b5b": {
      "model_module": "@jupyter-widgets/base",
      "model_module_version": "1.2.0",
      "model_name": "LayoutModel",
      "state": {}
     },
     "b7c45bd4366f4942a3a0801c75b68c77": {
      "model_module": "@jupyter-widgets/controls",
      "model_module_version": "1.5.0",
      "model_name": "DescriptionStyleModel",
      "state": {
       "description_width": ""
      }
     },
     "ba47bde24b0641e587acf89eed16743e": {
      "model_module": "@jupyter-widgets/base",
      "model_module_version": "1.2.0",
      "model_name": "LayoutModel",
      "state": {}
     },
     "bbc945351ae94881bea1e507dfb22c57": {
      "model_module": "@jupyter-widgets/controls",
      "model_module_version": "1.5.0",
      "model_name": "LabelModel",
      "state": {
       "layout": "IPY_MODEL_c7ec203a3fce41a79fe94617e1ed31ed",
       "style": "IPY_MODEL_9c3c135fefee4f8dbdce07d931da5560"
      }
     },
     "bc4618dbb56040fda905e307129267eb": {
      "model_module": "@jupyter-widgets/controls",
      "model_module_version": "1.5.0",
      "model_name": "DescriptionStyleModel",
      "state": {
       "description_width": ""
      }
     },
     "bd9c00999202431ba4d6b045e447048f": {
      "model_module": "@jupyter-widgets/base",
      "model_module_version": "1.2.0",
      "model_name": "LayoutModel",
      "state": {}
     },
     "bd9f9b3ddc124d2d97a7fc48afdd73a9": {
      "model_module": "@jupyter-widgets/controls",
      "model_module_version": "1.5.0",
      "model_name": "DescriptionStyleModel",
      "state": {
       "description_width": ""
      }
     },
     "bf25b67cc9984786aec74a7d121d704d": {
      "model_module": "@jupyter-widgets/base",
      "model_module_version": "1.2.0",
      "model_name": "LayoutModel",
      "state": {
       "width": "50%"
      }
     },
     "bfb4c962f33b4652b4eb1b8cdfb0e0f8": {
      "model_module": "@jupyter-widgets/base",
      "model_module_version": "1.2.0",
      "model_name": "LayoutModel",
      "state": {
       "width": "50%"
      }
     },
     "bfe3e50cd22142e99b50b04321133250": {
      "model_module": "@jupyter-widgets/controls",
      "model_module_version": "1.5.0",
      "model_name": "LabelModel",
      "state": {
       "layout": "IPY_MODEL_e3d516cbe298408dae1fd72819392e53",
       "style": "IPY_MODEL_73adc8ca4842477f82f92fb16f4e0e58",
       "value": "Choose Start, End and Inhibited elements"
      }
     },
     "bfe40112b18f4800b1b010b019ce27a9": {
      "model_module": "@jupyter-widgets/controls",
      "model_module_version": "1.5.0",
      "model_name": "LabelModel",
      "state": {
       "layout": "IPY_MODEL_ff5e7b83bf704471bc3828f3d981a529",
       "style": "IPY_MODEL_3359cef422e746d49e799ab1dfb12f62",
       "value": "Choose Start, End and Inhibited elements"
      }
     },
     "c2074be3c1f44235bef96de3f4d9ab4e": {
      "model_module": "@jupyter-widgets/base",
      "model_module_version": "1.2.0",
      "model_name": "LayoutModel",
      "state": {}
     },
     "c22d10828b294612bf4b2e5f0bec84df": {
      "model_module": "@jupyter-widgets/base",
      "model_module_version": "1.2.0",
      "model_name": "LayoutModel",
      "state": {}
     },
     "c24d592e3eac4927b777e342272e8ba0": {
      "model_module": "@jupyter-widgets/output",
      "model_module_version": "1.0.0",
      "model_name": "OutputModel",
      "state": {
       "layout": "IPY_MODEL_ae62e829728a430bbfceea9c56a6c1f1"
      }
     },
     "c2ba6852779945c397597f546c14653b": {
      "model_module": "@jupyter-widgets/controls",
      "model_module_version": "1.5.0",
      "model_name": "DescriptionStyleModel",
      "state": {
       "description_width": ""
      }
     },
     "c3d7b1f5c9954bc4ad49dbacf8de71b7": {
      "model_module": "@jupyter-widgets/base",
      "model_module_version": "1.2.0",
      "model_name": "LayoutModel",
      "state": {
       "width": "50%"
      }
     },
     "c4418a38e3c541c39bdebcfd8231542d": {
      "model_module": "@jupyter-widgets/base",
      "model_module_version": "1.2.0",
      "model_name": "LayoutModel",
      "state": {}
     },
     "c51d086f041546ad9e4a6f4ca7f5fac7": {
      "model_module": "@jupyter-widgets/controls",
      "model_module_version": "1.5.0",
      "model_name": "DescriptionStyleModel",
      "state": {
       "description_width": ""
      }
     },
     "c5c5ac50a30e478690e074037a279060": {
      "model_module": "@jupyter-widgets/controls",
      "model_module_version": "1.5.0",
      "model_name": "DescriptionStyleModel",
      "state": {
       "description_width": ""
      }
     },
     "c5ecd144dc9941abb2eaa04e56ceb957": {
      "model_module": "@jupyter-widgets/base",
      "model_module_version": "1.2.0",
      "model_name": "LayoutModel",
      "state": {
       "width": "50%"
      }
     },
     "c6b95ac340074aea94055d28a1cb5c18": {
      "model_module": "@jupyter-widgets/base",
      "model_module_version": "1.2.0",
      "model_name": "LayoutModel",
      "state": {
       "width": "50%"
      }
     },
     "c6e6acd4380144f383dc26542359e89b": {
      "model_module": "@jupyter-widgets/controls",
      "model_module_version": "1.5.0",
      "model_name": "VBoxModel",
      "state": {
       "children": [
        "IPY_MODEL_b42db48978c845b4a4e6dfb3e1e7d721",
        "IPY_MODEL_5a437ffb5b2244059717708eb1088e52",
        "IPY_MODEL_32c299d11b1c4fce96b1bb5139d2829c",
        "IPY_MODEL_05eac3020bed464392e46a884bab7106",
        "IPY_MODEL_b36df8c1f3854c7b8733f6ee8565300e",
        "IPY_MODEL_b445bdaf58d04ceb9e923ba62ee684ee",
        "IPY_MODEL_2a610f724c884f11b362bf1c4d647762"
       ],
       "layout": "IPY_MODEL_c849d5bc444a43e8b74cbb7ca8c47e47"
      }
     },
     "c791fe6c145444f18930970679b5bdaa": {
      "model_module": "@jupyter-widgets/controls",
      "model_module_version": "1.5.0",
      "model_name": "ComboboxModel",
      "state": {
       "description": "Start: ",
       "ensure_option": false,
       "layout": "IPY_MODEL_e3b5641fac8f48099a3dc71fb8dff79d",
       "options": [
        "AC",
        "ACh",
        "AP-1",
        "ATF1",
        "ATF2",
        "CRE",
        "CREB",
        "Ca2+in",
        "Ca2+in DAG",
        "Ca2+mob",
        "Ca2+mob DAG",
        "CaM",
        "CaMKII",
        "CaMKIV",
        "CnA",
        "DAG",
        "ENKCRE",
        "ENKCRE ENKCnARE/CaRE",
        "ENKCnARE/CaRE",
        "ERK",
        "Elk",
        "FOR",
        "Fos",
        "Fos Jun",
        "IP3",
        "JNK",
        "JNKK",
        "Jun",
        "KCl",
        "MAPK",
        "MAPKAPK2/3",
        "MEK",
        "MEKK",
        "MKK6",
        "NFAT",
        "PACAP",
        "PEnkgeneholo",
        "PKA",
        "PKC",
        "PKC-theta",
        "PLC",
        "RSK2",
        "Raf",
        "Rap1",
        "Ras",
        "RasGRF",
        "TRE",
        "VIPCRE",
        "VIPCnARE/CaRE",
        "VIPCnARE/CaRE VIPCRE",
        "VIPgeneCRE",
        "VIPgeneCnARE/CaRE",
        "VIPgeneholo",
        "cAMP",
        "cAMP-GEFII",
        "cAMP/Ca2+in",
        "neurites",
        "p38"
       ],
       "placeholder": "Type here",
       "style": "IPY_MODEL_e2ec1072b1554f8795df04014ffc4bb3"
      }
     },
     "c7ec203a3fce41a79fe94617e1ed31ed": {
      "model_module": "@jupyter-widgets/base",
      "model_module_version": "1.2.0",
      "model_name": "LayoutModel",
      "state": {}
     },
     "c849d5bc444a43e8b74cbb7ca8c47e47": {
      "model_module": "@jupyter-widgets/base",
      "model_module_version": "1.2.0",
      "model_name": "LayoutModel",
      "state": {}
     },
     "c869ea44f65e4b99b3d3264717a5587b": {
      "model_module": "@jupyter-widgets/base",
      "model_module_version": "1.2.0",
      "model_name": "LayoutModel",
      "state": {}
     },
     "c87a6ca0c44b40079e0283c3bf88eda5": {
      "model_module": "@jupyter-widgets/base",
      "model_module_version": "1.2.0",
      "model_name": "LayoutModel",
      "state": {
       "width": "50%"
      }
     },
     "c87d0f59c8594e259e918c9654896eff": {
      "model_module": "@jupyter-widgets/controls",
      "model_module_version": "1.5.0",
      "model_name": "LabelModel",
      "state": {
       "layout": "IPY_MODEL_61622e680cc44cfa8fb4856dcd71e038",
       "style": "IPY_MODEL_a4ce674b7b024ca48434ad9caeaaac87",
       "value": "Choose Start, End and Inhibited elements"
      }
     },
     "c9aa85173209448787be8acbaf75783a": {
      "model_module": "@jupyter-widgets/base",
      "model_module_version": "1.2.0",
      "model_name": "LayoutModel",
      "state": {}
     },
     "cc65ba74002a4e62a819998ab1f7b5d4": {
      "model_module": "@jupyter-widgets/controls",
      "model_module_version": "1.5.0",
      "model_name": "LabelModel",
      "state": {
       "layout": "IPY_MODEL_368b4cad948a4712bab7dc48dcf74787",
       "style": "IPY_MODEL_06441b7516d94ab6a1fc63aef78f8d2d"
      }
     },
     "cd8dfa6ec7114527b5417a571f72df55": {
      "model_module": "@jupyter-widgets/output",
      "model_module_version": "1.0.0",
      "model_name": "OutputModel",
      "state": {
       "layout": "IPY_MODEL_9eaf1ce64064484b8a19d2500c642c42"
      }
     },
     "cdb126362f4f47c2ad8b68dfcebe125f": {
      "model_module": "@jupyter-widgets/base",
      "model_module_version": "1.2.0",
      "model_name": "LayoutModel",
      "state": {}
     },
     "ce5613fee0644c3a90d6ce50706fc717": {
      "model_module": "@jupyter-widgets/controls",
      "model_module_version": "1.5.0",
      "model_name": "LabelModel",
      "state": {
       "layout": "IPY_MODEL_a8b5a1bb36194000b07c080840ead376",
       "style": "IPY_MODEL_bd9f9b3ddc124d2d97a7fc48afdd73a9"
      }
     },
     "cf99527fe8d54272bf0bb6fe931dc54a": {
      "model_module": "@jupyter-widgets/output",
      "model_module_version": "1.0.0",
      "model_name": "OutputModel",
      "state": {
       "layout": "IPY_MODEL_da2182c891a3464da2fb6ec58c38d113"
      }
     },
     "d2008096d0604232ae5c2bc47ea6d1d0": {
      "model_module": "@jupyter-widgets/base",
      "model_module_version": "1.2.0",
      "model_name": "LayoutModel",
      "state": {
       "width": "50%"
      }
     },
     "d226c682d06c4f14b19f01d40acbe5b2": {
      "model_module": "@jupyter-widgets/controls",
      "model_module_version": "1.5.0",
      "model_name": "ButtonModel",
      "state": {
       "description": "Produce Output",
       "layout": "IPY_MODEL_96ab52cf44d940f8843510882044d1e6",
       "style": "IPY_MODEL_2d9427dafd634cc9bb6f7143eb220023"
      }
     },
     "d2bac2c570b8462083d64dbacb1585b7": {
      "model_module": "@jupyter-widgets/output",
      "model_module_version": "1.0.0",
      "model_name": "OutputModel",
      "state": {
       "layout": "IPY_MODEL_0e9f550260204cf0a8bb8ae321c385cf"
      }
     },
     "d2d75ec90bff44c59085ec63ccaecf75": {
      "model_module": "@jupyter-widgets/controls",
      "model_module_version": "1.5.0",
      "model_name": "VBoxModel",
      "state": {
       "children": [
        "IPY_MODEL_bfe40112b18f4800b1b010b019ce27a9",
        "IPY_MODEL_e57cfb5a96ed4692b86c09c620c307a0",
        "IPY_MODEL_3b77fa937edf4cc398a7c0910c127a5a",
        "IPY_MODEL_abfa4725b14444149fde3c9779bfbb02",
        "IPY_MODEL_9064b75480f546f8a55ad4762df16a61",
        "IPY_MODEL_a6d77cd200cd4d48809239ceda879a19",
        "IPY_MODEL_0641ff1f36ea42b0bff27514aba91b45"
       ],
       "layout": "IPY_MODEL_9de798d5861a4f38835619ecafc79d6d"
      }
     },
     "d4d18f81b164430db38a0bd35f53b391": {
      "model_module": "@jupyter-widgets/base",
      "model_module_version": "1.2.0",
      "model_name": "LayoutModel",
      "state": {}
     },
     "d560021dbbcc4ea68166e793fb85e1b7": {
      "model_module": "@jupyter-widgets/base",
      "model_module_version": "1.2.0",
      "model_name": "LayoutModel",
      "state": {}
     },
     "d669635113784f7f8cf0f444891b3842": {
      "model_module": "@jupyter-widgets/base",
      "model_module_version": "1.2.0",
      "model_name": "LayoutModel",
      "state": {
       "width": "50%"
      }
     },
     "d6c696092ced459eb18a9b2e99f3eb7b": {
      "model_module": "@jupyter-widgets/base",
      "model_module_version": "1.2.0",
      "model_name": "LayoutModel",
      "state": {
       "width": "50%"
      }
     },
     "d714e81c3dcc4eb38aad0b42d1dba0f1": {
      "model_module": "@jupyter-widgets/base",
      "model_module_version": "1.2.0",
      "model_name": "LayoutModel",
      "state": {}
     },
     "d7b184350b974c2aa2d55656cfd6f947": {
      "model_module": "@jupyter-widgets/controls",
      "model_module_version": "1.5.0",
      "model_name": "ButtonModel",
      "state": {
       "description": "Produce Output",
       "layout": "IPY_MODEL_3d7e6a3c4006439ebfe127544183b40c",
       "style": "IPY_MODEL_8237ad10fdc0415ba52e2a6badb07261"
      }
     },
     "d89fd865230242adbf618ae388c381b8": {
      "model_module": "@jupyter-widgets/controls",
      "model_module_version": "1.5.0",
      "model_name": "DescriptionStyleModel",
      "state": {
       "description_width": ""
      }
     },
     "d8cab0f0ecf34300a7194cfaab50a7a8": {
      "model_module": "@jupyter-widgets/controls",
      "model_module_version": "1.5.0",
      "model_name": "ButtonStyleModel",
      "state": {}
     },
     "d90c4a986a9844b8b3bf6ce6b8137ec1": {
      "model_module": "@jupyter-widgets/base",
      "model_module_version": "1.2.0",
      "model_name": "LayoutModel",
      "state": {}
     },
     "d9406894cd5f4cb5a167ac873f1bdabd": {
      "model_module": "@jupyter-widgets/base",
      "model_module_version": "1.2.0",
      "model_name": "LayoutModel",
      "state": {
       "width": "50%"
      }
     },
     "d9eadf5bac9740feb56c4b58af5cbc2b": {
      "model_module": "@jupyter-widgets/controls",
      "model_module_version": "1.5.0",
      "model_name": "SelectMultipleModel",
      "state": {
       "_options_labels": [
        "AC",
        "ACh",
        "AP-1",
        "ATF1",
        "ATF2",
        "CRE",
        "CREB",
        "Ca2+in",
        "Ca2+in DAG",
        "Ca2+mob",
        "Ca2+mob DAG",
        "CaM",
        "CaMKII",
        "CaMKIV",
        "CnA",
        "DAG",
        "ENKCRE",
        "ENKCRE ENKCnARE/CaRE",
        "ENKCnARE/CaRE",
        "ERK",
        "Elk",
        "FOR",
        "Fos",
        "Fos Jun",
        "IP3",
        "JNK",
        "JNKK",
        "Jun",
        "KCl",
        "MAPK",
        "MAPKAPK2/3",
        "MEK",
        "MEKK",
        "MKK6",
        "NFAT",
        "PACAP",
        "PEnkgeneholo",
        "PKA",
        "PKC",
        "PKC-theta",
        "PLC",
        "RSK2",
        "Raf",
        "Rap1",
        "Ras",
        "RasGRF",
        "TRE",
        "VIPCRE",
        "VIPCnARE/CaRE",
        "VIPCnARE/CaRE VIPCRE",
        "VIPgeneCRE",
        "VIPgeneCnARE/CaRE",
        "VIPgeneholo",
        "cAMP",
        "cAMP-GEFII",
        "cAMP/Ca2+in",
        "neurites",
        "p38"
       ],
       "description": "Inhibit: ",
       "index": [],
       "layout": "IPY_MODEL_67313978a0c1457fad2070f3efa76eb7",
       "rows": 5,
       "style": "IPY_MODEL_8005325d5b6f459aa6aa7ca51b2b19c2"
      }
     },
     "da2182c891a3464da2fb6ec58c38d113": {
      "model_module": "@jupyter-widgets/base",
      "model_module_version": "1.2.0",
      "model_name": "LayoutModel",
      "state": {}
     },
     "db2fe87f2a1749049fa8cc158da9593f": {
      "model_module": "@jupyter-widgets/controls",
      "model_module_version": "1.5.0",
      "model_name": "LabelModel",
      "state": {
       "layout": "IPY_MODEL_d560021dbbcc4ea68166e793fb85e1b7",
       "style": "IPY_MODEL_6d8d039f4310450db9cf9b4ade2ecfa3"
      }
     },
     "dc40c4268dd64231bd801166ed8711a5": {
      "model_module": "@jupyter-widgets/controls",
      "model_module_version": "1.5.0",
      "model_name": "DescriptionStyleModel",
      "state": {
       "description_width": ""
      }
     },
     "dcc0328f553040a8a962b08605e62ae7": {
      "model_module": "@jupyter-widgets/controls",
      "model_module_version": "1.5.0",
      "model_name": "VBoxModel",
      "state": {
       "children": [
        "IPY_MODEL_bfe3e50cd22142e99b50b04321133250",
        "IPY_MODEL_3274249a1f2844f1b4355083c0b1bd85",
        "IPY_MODEL_834390dd9cb84c4d90d14673a1d59359",
        "IPY_MODEL_7c596677a8824ecbb7c7c97c114344b5",
        "IPY_MODEL_6f9a2b6911fd43e782b67702f461eb5c",
        "IPY_MODEL_9797a461457b4dcfa0b7d0a13f31d575",
        "IPY_MODEL_169d67a291f04203a09e29fc481a382a"
       ],
       "layout": "IPY_MODEL_5f9baccfa8eb4079b51c1b4f0937a822"
      }
     },
     "dd08adc6900d45b3901d61eb7585fb92": {
      "model_module": "@jupyter-widgets/controls",
      "model_module_version": "1.5.0",
      "model_name": "ComboboxModel",
      "state": {
       "description": "Start: ",
       "ensure_option": false,
       "layout": "IPY_MODEL_57da5b96a8194130a6da4c1e81d7cc3f",
       "options": [
        "AC",
        "ACh",
        "AP-1",
        "ATF1",
        "ATF2",
        "CRE",
        "CREB",
        "Ca2+in",
        "Ca2+in DAG",
        "Ca2+mob",
        "Ca2+mob DAG",
        "CaM",
        "CaMKII",
        "CaMKIV",
        "CnA",
        "DAG",
        "ENKCRE",
        "ENKCRE ENKCnARE/CaRE",
        "ENKCnARE/CaRE",
        "ERK",
        "Elk",
        "FOR",
        "Fos",
        "Fos Jun",
        "IP3",
        "JNK",
        "JNKK",
        "Jun",
        "KCl",
        "MAPK",
        "MAPKAPK2/3",
        "MEK",
        "MEKK",
        "MKK6",
        "NFAT",
        "PACAP",
        "PEnkgeneholo",
        "PKA",
        "PKC",
        "PKC-theta",
        "PLC",
        "RSK2",
        "Raf",
        "Rap1",
        "Ras",
        "RasGRF",
        "TRE",
        "VIPCRE",
        "VIPCnARE/CaRE",
        "VIPCnARE/CaRE VIPCRE",
        "VIPgeneCRE",
        "VIPgeneCnARE/CaRE",
        "VIPgeneholo",
        "cAMP",
        "cAMP-GEFII",
        "cAMP/Ca2+in",
        "neurites",
        "p38"
       ],
       "placeholder": "Type here",
       "style": "IPY_MODEL_8702b312a4774cfca780642ee6c96776"
      }
     },
     "ddeee00c82574b6da78f58a7c75be8bf": {
      "model_module": "@jupyter-widgets/controls",
      "model_module_version": "1.5.0",
      "model_name": "DescriptionStyleModel",
      "state": {
       "description_width": ""
      }
     },
     "df1f318c33c74279907ca1a433c7d7a5": {
      "model_module": "@jupyter-widgets/controls",
      "model_module_version": "1.5.0",
      "model_name": "DescriptionStyleModel",
      "state": {
       "description_width": ""
      }
     },
     "dfb7b9c563aa40028671ac4c93593f06": {
      "model_module": "@jupyter-widgets/controls",
      "model_module_version": "1.5.0",
      "model_name": "DescriptionStyleModel",
      "state": {
       "description_width": ""
      }
     },
     "dfd0bd00b0a5409e91081ec435799bfc": {
      "model_module": "@jupyter-widgets/base",
      "model_module_version": "1.2.0",
      "model_name": "LayoutModel",
      "state": {}
     },
     "dfed1958063247f2919c2240fc625d08": {
      "model_module": "@jupyter-widgets/controls",
      "model_module_version": "1.5.0",
      "model_name": "SelectMultipleModel",
      "state": {
       "_options_labels": [
        "AC",
        "ACh",
        "AP-1",
        "ATF1",
        "ATF2",
        "CRE",
        "CREB",
        "Ca2+in",
        "Ca2+in DAG",
        "Ca2+mob",
        "Ca2+mob DAG",
        "CaM",
        "CaMKII",
        "CaMKIV",
        "CnA",
        "DAG",
        "ENKCRE",
        "ENKCRE ENKCnARE/CaRE",
        "ENKCnARE/CaRE",
        "ERK",
        "Elk",
        "FOR",
        "Fos",
        "Fos Jun",
        "IP3",
        "JNK",
        "JNKK",
        "Jun",
        "KCl",
        "MAPK",
        "MAPKAPK2/3",
        "MEK",
        "MEKK",
        "MKK6",
        "NFAT",
        "PACAP",
        "PEnkgeneholo",
        "PKA",
        "PKC",
        "PKC-theta",
        "PLC",
        "RSK2",
        "Raf",
        "Rap1",
        "Ras",
        "RasGRF",
        "TRE",
        "VIPCRE",
        "VIPCnARE/CaRE",
        "VIPCnARE/CaRE VIPCRE",
        "VIPgeneCRE",
        "VIPgeneCnARE/CaRE",
        "VIPgeneholo",
        "cAMP",
        "cAMP-GEFII",
        "cAMP/Ca2+in",
        "neurites",
        "p38"
       ],
       "description": "Inhibit: ",
       "index": [],
       "layout": "IPY_MODEL_5325551f154b459598a5568b607344e9",
       "rows": 5,
       "style": "IPY_MODEL_5f0b76838e024c9a9d1df8f8d45dcdc6"
      }
     },
     "e056d228f8b747fda53275aefb5532ea": {
      "model_module": "@jupyter-widgets/base",
      "model_module_version": "1.2.0",
      "model_name": "LayoutModel",
      "state": {}
     },
     "e0d315b78a4b482db68a8c8b16b31f4c": {
      "model_module": "@jupyter-widgets/base",
      "model_module_version": "1.2.0",
      "model_name": "LayoutModel",
      "state": {
       "width": "50%"
      }
     },
     "e11c5401d4f046b0b343a3f44bb3b0c5": {
      "model_module": "@jupyter-widgets/controls",
      "model_module_version": "1.5.0",
      "model_name": "DescriptionStyleModel",
      "state": {
       "description_width": ""
      }
     },
     "e27bd1565cab41febafc1b6a4e45467a": {
      "model_module": "@jupyter-widgets/controls",
      "model_module_version": "1.5.0",
      "model_name": "DescriptionStyleModel",
      "state": {
       "description_width": ""
      }
     },
     "e29059c53a7b4dc997b290d83427b863": {
      "model_module": "@jupyter-widgets/base",
      "model_module_version": "1.2.0",
      "model_name": "LayoutModel",
      "state": {}
     },
     "e2ec1072b1554f8795df04014ffc4bb3": {
      "model_module": "@jupyter-widgets/controls",
      "model_module_version": "1.5.0",
      "model_name": "DescriptionStyleModel",
      "state": {
       "description_width": ""
      }
     },
     "e3b5641fac8f48099a3dc71fb8dff79d": {
      "model_module": "@jupyter-widgets/base",
      "model_module_version": "1.2.0",
      "model_name": "LayoutModel",
      "state": {
       "width": "50%"
      }
     },
     "e3b5cd936f82426189a1cc599678c12e": {
      "model_module": "@jupyter-widgets/base",
      "model_module_version": "1.2.0",
      "model_name": "LayoutModel",
      "state": {}
     },
     "e3b9ce3793c549c7a787dd01641f58f4": {
      "model_module": "@jupyter-widgets/controls",
      "model_module_version": "1.5.0",
      "model_name": "DescriptionStyleModel",
      "state": {
       "description_width": ""
      }
     },
     "e3d516cbe298408dae1fd72819392e53": {
      "model_module": "@jupyter-widgets/base",
      "model_module_version": "1.2.0",
      "model_name": "LayoutModel",
      "state": {}
     },
     "e40d334fcad3406cb021fe4970aeec89": {
      "model_module": "@jupyter-widgets/controls",
      "model_module_version": "1.5.0",
      "model_name": "DescriptionStyleModel",
      "state": {
       "description_width": ""
      }
     },
     "e50df417879d40c69188a46357301376": {
      "model_module": "@jupyter-widgets/controls",
      "model_module_version": "1.5.0",
      "model_name": "DescriptionStyleModel",
      "state": {
       "description_width": ""
      }
     },
     "e57cfb5a96ed4692b86c09c620c307a0": {
      "model_module": "@jupyter-widgets/controls",
      "model_module_version": "1.5.0",
      "model_name": "ComboboxModel",
      "state": {
       "description": "Start: ",
       "ensure_option": false,
       "layout": "IPY_MODEL_6705ff8c9c844ac796bc186f0ee233b9",
       "options": [
        "AC",
        "ACh",
        "AP-1",
        "ATF1",
        "ATF2",
        "CRE",
        "CREB",
        "Ca2+in",
        "Ca2+in DAG",
        "Ca2+mob",
        "Ca2+mob DAG",
        "CaM",
        "CaMKII",
        "CaMKIV",
        "CnA",
        "DAG",
        "ENKCRE",
        "ENKCRE ENKCnARE/CaRE",
        "ENKCnARE/CaRE",
        "ERK",
        "Elk",
        "FOR",
        "Fos",
        "Fos Jun",
        "IP3",
        "JNK",
        "JNKK",
        "Jun",
        "KCl",
        "MAPK",
        "MAPKAPK2/3",
        "MEK",
        "MEKK",
        "MKK6",
        "NFAT",
        "PACAP",
        "PEnkgeneholo",
        "PKA",
        "PKC",
        "PKC-theta",
        "PLC",
        "RSK2",
        "Raf",
        "Rap1",
        "Ras",
        "RasGRF",
        "TRE",
        "VIPCRE",
        "VIPCnARE/CaRE",
        "VIPCnARE/CaRE VIPCRE",
        "VIPgeneCRE",
        "VIPgeneCnARE/CaRE",
        "VIPgeneholo",
        "cAMP",
        "cAMP-GEFII",
        "cAMP/Ca2+in",
        "neurites",
        "p38"
       ],
       "placeholder": "Type here",
       "style": "IPY_MODEL_e40d334fcad3406cb021fe4970aeec89"
      }
     },
     "e6751aefa8bd41359811862e839f47cd": {
      "model_module": "@jupyter-widgets/controls",
      "model_module_version": "1.5.0",
      "model_name": "ComboboxModel",
      "state": {
       "description": "Start: ",
       "ensure_option": false,
       "layout": "IPY_MODEL_d6c696092ced459eb18a9b2e99f3eb7b",
       "options": [
        "AC",
        "ACh",
        "AP-1",
        "ATF1",
        "ATF2",
        "CRE",
        "CREB",
        "Ca2+in",
        "Ca2+in DAG",
        "Ca2+mob",
        "Ca2+mob DAG",
        "CaM",
        "CaMKII",
        "CaMKIV",
        "CnA",
        "DAG",
        "ENKCRE",
        "ENKCRE ENKCnARE/CaRE",
        "ENKCnARE/CaRE",
        "ERK",
        "Elk",
        "FOR",
        "Fos",
        "Fos Jun",
        "IP3",
        "JNK",
        "JNKK",
        "Jun",
        "KCl",
        "MAPK",
        "MAPKAPK2/3",
        "MEK",
        "MEKK",
        "MKK6",
        "NFAT",
        "PACAP",
        "PEnkgeneholo",
        "PKA",
        "PKC",
        "PKC-theta",
        "PLC",
        "RSK2",
        "Raf",
        "Rap1",
        "Ras",
        "RasGRF",
        "TRE",
        "VIPCRE",
        "VIPCnARE/CaRE",
        "VIPCnARE/CaRE VIPCRE",
        "VIPgeneCRE",
        "VIPgeneCnARE/CaRE",
        "VIPgeneholo",
        "cAMP",
        "cAMP-GEFII",
        "cAMP/Ca2+in",
        "neurites",
        "p38"
       ],
       "placeholder": "Type here",
       "style": "IPY_MODEL_69d8f0640c324fe9aad630e5a56856ce"
      }
     },
     "e731f2deee544f43aa1ee1ce42571d37": {
      "model_module": "@jupyter-widgets/controls",
      "model_module_version": "1.5.0",
      "model_name": "ButtonStyleModel",
      "state": {}
     },
     "e7ae038862ca461fbd0a72ad48831d58": {
      "model_module": "@jupyter-widgets/controls",
      "model_module_version": "1.5.0",
      "model_name": "DescriptionStyleModel",
      "state": {
       "description_width": ""
      }
     },
     "e82c0fb05b804e968fc6106b63b6688b": {
      "model_module": "@jupyter-widgets/controls",
      "model_module_version": "1.5.0",
      "model_name": "DescriptionStyleModel",
      "state": {
       "description_width": ""
      }
     },
     "e89c9f2c6bc1411086185d6b0b823fff": {
      "model_module": "@jupyter-widgets/controls",
      "model_module_version": "1.5.0",
      "model_name": "DescriptionStyleModel",
      "state": {
       "description_width": ""
      }
     },
     "e993258d949d4b7a94aaa97ae2552533": {
      "model_module": "@jupyter-widgets/base",
      "model_module_version": "1.2.0",
      "model_name": "LayoutModel",
      "state": {}
     },
     "eb5e037b26e5440da57fb4f7339dfe7f": {
      "model_module": "@jupyter-widgets/output",
      "model_module_version": "1.0.0",
      "model_name": "OutputModel",
      "state": {
       "layout": "IPY_MODEL_cdb126362f4f47c2ad8b68dfcebe125f"
      }
     },
     "ecfdc44a10134a3da6ee4b200f6cc199": {
      "model_module": "@jupyter-widgets/base",
      "model_module_version": "1.2.0",
      "model_name": "LayoutModel",
      "state": {}
     },
     "ed7bd435e19e4f1c8889b77cd9e58a93": {
      "model_module": "@jupyter-widgets/base",
      "model_module_version": "1.2.0",
      "model_name": "LayoutModel",
      "state": {}
     },
     "ef2e303b056c454f9806ee542f8842f0": {
      "model_module": "@jupyter-widgets/controls",
      "model_module_version": "1.5.0",
      "model_name": "DescriptionStyleModel",
      "state": {
       "description_width": ""
      }
     },
     "f0f5cbfe3a194bda8856f6533f254add": {
      "model_module": "@jupyter-widgets/controls",
      "model_module_version": "1.5.0",
      "model_name": "DescriptionStyleModel",
      "state": {
       "description_width": ""
      }
     },
     "f19a9ed2095748e4a922654e51e48dcc": {
      "model_module": "@jupyter-widgets/base",
      "model_module_version": "1.2.0",
      "model_name": "LayoutModel",
      "state": {}
     },
     "f22e7601b14e426fb33eeaeee5e9163b": {
      "model_module": "@jupyter-widgets/controls",
      "model_module_version": "1.5.0",
      "model_name": "DescriptionStyleModel",
      "state": {
       "description_width": ""
      }
     },
     "f27636587a444adc92cbf82918f33740": {
      "model_module": "@jupyter-widgets/output",
      "model_module_version": "1.0.0",
      "model_name": "OutputModel",
      "state": {
       "layout": "IPY_MODEL_446ad9bc5da243aaa8f788b6ce402003"
      }
     },
     "f3003b2debf64fcfaeca0f6e243dc24a": {
      "model_module": "@jupyter-widgets/controls",
      "model_module_version": "1.5.0",
      "model_name": "VBoxModel",
      "state": {
       "children": [
        "IPY_MODEL_9d5425682f5d4254a256a2a5f1026799",
        "IPY_MODEL_c791fe6c145444f18930970679b5bdaa",
        "IPY_MODEL_a2f66b1c0a4648809f2c92579e54582b",
        "IPY_MODEL_93c4c71f65864742af6d99e3a7e07ce1",
        "IPY_MODEL_d226c682d06c4f14b19f01d40acbe5b2",
        "IPY_MODEL_4a35575f5fe8439b936794064bf3ceff",
        "IPY_MODEL_52251e230ff248ef8eaa16e8ea490d3c"
       ],
       "layout": "IPY_MODEL_ba47bde24b0641e587acf89eed16743e"
      }
     },
     "f332b961cbd24d559fad7004f5870f03": {
      "model_module": "@jupyter-widgets/controls",
      "model_module_version": "1.5.0",
      "model_name": "DescriptionStyleModel",
      "state": {
       "description_width": ""
      }
     },
     "f399017052434d308f8bc94415687e38": {
      "model_module": "@jupyter-widgets/controls",
      "model_module_version": "1.5.0",
      "model_name": "SelectMultipleModel",
      "state": {
       "_options_labels": [
        "AC",
        "ACh",
        "AP-1",
        "ATF1",
        "ATF2",
        "CRE",
        "CREB",
        "Ca2+in",
        "Ca2+in DAG",
        "Ca2+mob",
        "Ca2+mob DAG",
        "CaM",
        "CaMKII",
        "CaMKIV",
        "CnA",
        "DAG",
        "ENKCRE",
        "ENKCRE ENKCnARE/CaRE",
        "ENKCnARE/CaRE",
        "ERK",
        "Elk",
        "FOR",
        "Fos",
        "Fos Jun",
        "IP3",
        "JNK",
        "JNKK",
        "Jun",
        "KCl",
        "MAPK",
        "MAPKAPK2/3",
        "MEK",
        "MEKK",
        "MKK6",
        "NFAT",
        "PACAP",
        "PEnkgeneholo",
        "PKA",
        "PKC",
        "PKC-theta",
        "PLC",
        "RSK2",
        "Raf",
        "Rap1",
        "Ras",
        "RasGRF",
        "TRE",
        "VIPCRE",
        "VIPCnARE/CaRE",
        "VIPCnARE/CaRE VIPCRE",
        "VIPgeneCRE",
        "VIPgeneCnARE/CaRE",
        "VIPgeneholo",
        "cAMP",
        "cAMP-GEFII",
        "cAMP/Ca2+in",
        "neurites",
        "p38"
       ],
       "description": "Inhibit: ",
       "index": [],
       "layout": "IPY_MODEL_42e00cc7db084743aff2eacc3de2a6ae",
       "rows": 5,
       "style": "IPY_MODEL_e50df417879d40c69188a46357301376"
      }
     },
     "f3b553f852204223946383e7eef30b15": {
      "model_module": "@jupyter-widgets/controls",
      "model_module_version": "1.5.0",
      "model_name": "DescriptionStyleModel",
      "state": {
       "description_width": ""
      }
     },
     "f3cb6488c69b4b649d6595a68fb816cf": {
      "model_module": "@jupyter-widgets/controls",
      "model_module_version": "1.5.0",
      "model_name": "DescriptionStyleModel",
      "state": {
       "description_width": ""
      }
     },
     "f4af6b06c05040f2bd65638e4b04aa37": {
      "model_module": "@jupyter-widgets/base",
      "model_module_version": "1.2.0",
      "model_name": "LayoutModel",
      "state": {}
     },
     "f5952266463e40fcae444206f45da53a": {
      "model_module": "@jupyter-widgets/base",
      "model_module_version": "1.2.0",
      "model_name": "LayoutModel",
      "state": {}
     },
     "f72684fe3aef422889ffab60d5317358": {
      "model_module": "@jupyter-widgets/controls",
      "model_module_version": "1.5.0",
      "model_name": "ButtonModel",
      "state": {
       "description": "Produce Output",
       "layout": "IPY_MODEL_7af56fe25b1c4947b0d0fdfb3d70968a",
       "style": "IPY_MODEL_0d9236ac5c464a2597b4189c7b1d0281"
      }
     },
     "f7a34164671345388bc1643cd32bd770": {
      "model_module": "@jupyter-widgets/controls",
      "model_module_version": "1.5.0",
      "model_name": "ButtonModel",
      "state": {
       "description": "Produce Output",
       "layout": "IPY_MODEL_f8159696832d4c46b4fd500f9641c9df",
       "style": "IPY_MODEL_d8cab0f0ecf34300a7194cfaab50a7a8"
      }
     },
     "f7bac165196144958816944b78aa6a74": {
      "model_module": "@jupyter-widgets/controls",
      "model_module_version": "1.5.0",
      "model_name": "ButtonStyleModel",
      "state": {}
     },
     "f8159696832d4c46b4fd500f9641c9df": {
      "model_module": "@jupyter-widgets/base",
      "model_module_version": "1.2.0",
      "model_name": "LayoutModel",
      "state": {}
     },
     "f8cd829a9db844ad8c30eb145a6e6984": {
      "model_module": "@jupyter-widgets/controls",
      "model_module_version": "1.5.0",
      "model_name": "DescriptionStyleModel",
      "state": {
       "description_width": ""
      }
     },
     "f9b6bc6f547f4faeb05a912b444a858b": {
      "model_module": "@jupyter-widgets/controls",
      "model_module_version": "1.5.0",
      "model_name": "DescriptionStyleModel",
      "state": {
       "description_width": ""
      }
     },
     "faae1ccf6d924b13a20557b06be0c011": {
      "model_module": "@jupyter-widgets/controls",
      "model_module_version": "1.5.0",
      "model_name": "DescriptionStyleModel",
      "state": {
       "description_width": ""
      }
     },
     "fb91d1e1ce074cd7a639c354b9826aaf": {
      "model_module": "@jupyter-widgets/output",
      "model_module_version": "1.0.0",
      "model_name": "OutputModel",
      "state": {
       "layout": "IPY_MODEL_32d6a62a6c22467381b02cc8442014d1"
      }
     },
     "fc3b4d14d25443ae98b305c83a42a583": {
      "model_module": "@jupyter-widgets/base",
      "model_module_version": "1.2.0",
      "model_name": "LayoutModel",
      "state": {}
     },
     "fc48e479708445d0a043023ba5f11723": {
      "model_module": "@jupyter-widgets/output",
      "model_module_version": "1.0.0",
      "model_name": "OutputModel",
      "state": {
       "layout": "IPY_MODEL_0da714a99e9d4ecabcf89fd6c4b5b530"
      }
     },
     "ff5e7b83bf704471bc3828f3d981a529": {
      "model_module": "@jupyter-widgets/base",
      "model_module_version": "1.2.0",
      "model_name": "LayoutModel",
      "state": {}
     },
     "ff765d122eeb43bf8f61ce6e8c8d26e0": {
      "model_module": "@jupyter-widgets/output",
      "model_module_version": "1.0.0",
      "model_name": "OutputModel",
      "state": {
       "layout": "IPY_MODEL_882e1e6d08f4449b8b627d343c9b6122"
      }
     }
    },
    "version_major": 2,
    "version_minor": 0
   }
  }
 },
 "nbformat": 4,
 "nbformat_minor": 4
}
